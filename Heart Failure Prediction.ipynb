{
  "nbformat": 4,
  "nbformat_minor": 0,
  "metadata": {
    "colab": {
      "name": "Untitled2.ipynb",
      "provenance": [],
      "mount_file_id": "1qMDmzfROVv0WoSSbo8-b8fkalHD-ZDf8",
      "authorship_tag": "ABX9TyNQMcNSDLMhUppxQP1r4WFu",
      "include_colab_link": true
    },
    "kernelspec": {
      "name": "python3",
      "display_name": "Python 3"
    },
    "widgets": {
      "application/vnd.jupyter.widget-state+json": {
        "077eb527af8c45a4a70214be6f683f86": {
          "model_module": "@jupyter-widgets/controls",
          "model_name": "VBoxModel",
          "state": {
            "_view_name": "VBoxView",
            "_dom_classes": [
              "widget-interact"
            ],
            "_model_name": "VBoxModel",
            "_view_module": "@jupyter-widgets/controls",
            "_model_module_version": "1.5.0",
            "_view_count": null,
            "_view_module_version": "1.5.0",
            "box_style": "",
            "layout": "IPY_MODEL_a951808de67a4ef9b940446a90d85de8",
            "_model_module": "@jupyter-widgets/controls",
            "children": [
              "IPY_MODEL_8de74e32191f413d813199114de937e7",
              "IPY_MODEL_ad872107970842e09dcaf6d67c6cd607",
              "IPY_MODEL_63ce477eed424a48b73ecc87ae28a9fc"
            ]
          }
        },
        "a951808de67a4ef9b940446a90d85de8": {
          "model_module": "@jupyter-widgets/base",
          "model_name": "LayoutModel",
          "state": {
            "_view_name": "LayoutView",
            "grid_template_rows": null,
            "right": null,
            "justify_content": null,
            "_view_module": "@jupyter-widgets/base",
            "overflow": null,
            "_model_module_version": "1.2.0",
            "_view_count": null,
            "flex_flow": null,
            "width": null,
            "min_width": null,
            "border": null,
            "align_items": null,
            "bottom": null,
            "_model_module": "@jupyter-widgets/base",
            "top": null,
            "grid_column": null,
            "overflow_y": null,
            "overflow_x": null,
            "grid_auto_flow": null,
            "grid_area": null,
            "grid_template_columns": null,
            "flex": null,
            "_model_name": "LayoutModel",
            "justify_items": null,
            "grid_row": null,
            "max_height": null,
            "align_content": null,
            "visibility": null,
            "align_self": null,
            "height": null,
            "min_height": null,
            "padding": null,
            "grid_auto_rows": null,
            "grid_gap": null,
            "max_width": null,
            "order": null,
            "_view_module_version": "1.2.0",
            "grid_template_areas": null,
            "object_position": null,
            "object_fit": null,
            "grid_auto_columns": null,
            "margin": null,
            "display": null,
            "left": null
          }
        },
        "8de74e32191f413d813199114de937e7": {
          "model_module": "@jupyter-widgets/controls",
          "model_name": "DropdownModel",
          "state": {
            "_options_labels": [
              "age",
              "anaemia",
              "creatinine_phosphokinase",
              "diabetes",
              "ejection_fraction",
              "high_blood_pressure",
              "platelets",
              "serum_creatinine",
              "serum_sodium",
              "sex",
              "smoking",
              "time",
              "DEATH_EVENT"
            ],
            "_view_name": "DropdownView",
            "style": "IPY_MODEL_9b43b9267ff641598bcb7acaeab4174f",
            "_dom_classes": [],
            "description": "Eje Y",
            "_model_name": "DropdownModel",
            "index": 0,
            "_view_module": "@jupyter-widgets/controls",
            "_model_module_version": "1.5.0",
            "_view_count": null,
            "disabled": false,
            "_view_module_version": "1.5.0",
            "description_tooltip": null,
            "_model_module": "@jupyter-widgets/controls",
            "layout": "IPY_MODEL_e0ed8b270e8646e3b667adbae48942f0"
          }
        },
        "ad872107970842e09dcaf6d67c6cd607": {
          "model_module": "@jupyter-widgets/controls",
          "model_name": "DropdownModel",
          "state": {
            "_options_labels": [
              "age",
              "anaemia",
              "creatinine_phosphokinase",
              "diabetes",
              "ejection_fraction",
              "high_blood_pressure",
              "platelets",
              "serum_creatinine",
              "serum_sodium",
              "sex",
              "smoking",
              "time"
            ],
            "_view_name": "DropdownView",
            "style": "IPY_MODEL_4e652e2ac9164ab191dc64f0fe44be6f",
            "_dom_classes": [],
            "description": "Eje X",
            "_model_name": "DropdownModel",
            "index": 0,
            "_view_module": "@jupyter-widgets/controls",
            "_model_module_version": "1.5.0",
            "_view_count": null,
            "disabled": false,
            "_view_module_version": "1.5.0",
            "description_tooltip": null,
            "_model_module": "@jupyter-widgets/controls",
            "layout": "IPY_MODEL_f2b7e529068746a1af2375eaa2e23bea"
          }
        },
        "63ce477eed424a48b73ecc87ae28a9fc": {
          "model_module": "@jupyter-widgets/output",
          "model_name": "OutputModel",
          "state": {
            "_view_name": "OutputView",
            "msg_id": "",
            "_dom_classes": [],
            "_model_name": "OutputModel",
            "outputs": [
              {
                "output_type": "display_data",
                "metadata": {
                  "tags": []
                },
                "text/plain": "alt.Chart(...)",
                "text/html": "\n<div id=\"altair-viz-43fc18c742cd45958a8988db7a4d6c62\"></div>\n<script type=\"text/javascript\">\n  (function(spec, embedOpt){\n    let outputDiv = document.currentScript.previousElementSibling;\n    if (outputDiv.id !== \"altair-viz-43fc18c742cd45958a8988db7a4d6c62\") {\n      outputDiv = document.getElementById(\"altair-viz-43fc18c742cd45958a8988db7a4d6c62\");\n    }\n    const paths = {\n      \"vega\": \"https://cdn.jsdelivr.net/npm//vega@5?noext\",\n      \"vega-lib\": \"https://cdn.jsdelivr.net/npm//vega-lib?noext\",\n      \"vega-lite\": \"https://cdn.jsdelivr.net/npm//vega-lite@4.8.1?noext\",\n      \"vega-embed\": \"https://cdn.jsdelivr.net/npm//vega-embed@6?noext\",\n    };\n\n    function loadScript(lib) {\n      return new Promise(function(resolve, reject) {\n        var s = document.createElement('script');\n        s.src = paths[lib];\n        s.async = true;\n        s.onload = () => resolve(paths[lib]);\n        s.onerror = () => reject(`Error loading script: ${paths[lib]}`);\n        document.getElementsByTagName(\"head\")[0].appendChild(s);\n      });\n    }\n\n    function showError(err) {\n      outputDiv.innerHTML = `<div class=\"error\" style=\"color:red;\">${err}</div>`;\n      throw err;\n    }\n\n    function displayChart(vegaEmbed) {\n      vegaEmbed(outputDiv, spec, embedOpt)\n        .catch(err => showError(`Javascript Error: ${err.message}<br>This usually means there's a typo in your chart specification. See the javascript console for the full traceback.`));\n    }\n\n    if(typeof define === \"function\" && define.amd) {\n      requirejs.config({paths});\n      require([\"vega-embed\"], displayChart, err => showError(`Error loading script: ${err.message}`));\n    } else if (typeof vegaEmbed === \"function\") {\n      displayChart(vegaEmbed);\n    } else {\n      loadScript(\"vega\")\n        .then(() => loadScript(\"vega-lite\"))\n        .then(() => loadScript(\"vega-embed\"))\n        .catch(showError)\n        .then(() => displayChart(vegaEmbed));\n    }\n  })({\"config\": {\"view\": {\"continuousWidth\": 400, \"continuousHeight\": 300}}, \"data\": {\"name\": \"data-bf7a88f5ce330528452de66944dd6b3a\"}, \"mark\": \"circle\", \"encoding\": {\"x\": {\"type\": \"quantitative\", \"field\": \"age\", \"title\": \"age\"}, \"y\": {\"type\": \"quantitative\", \"field\": \"age\", \"title\": \"age\"}}, \"height\": 400, \"title\": \"age VS age\", \"width\": 600, \"$schema\": \"https://vega.github.io/schema/vega-lite/v4.8.1.json\", \"datasets\": {\"data-bf7a88f5ce330528452de66944dd6b3a\": [{\"age\": 75.0, \"anaemia\": 0, \"creatinine_phosphokinase\": 582, \"diabetes\": 0, \"ejection_fraction\": 20, \"high_blood_pressure\": 1, \"platelets\": 265000.0, \"serum_creatinine\": 1.9, \"serum_sodium\": 130, \"sex\": 1, \"smoking\": 0, \"time\": 4, \"DEATH_EVENT\": 1}, {\"age\": 55.0, \"anaemia\": 0, \"creatinine_phosphokinase\": 7861, \"diabetes\": 0, \"ejection_fraction\": 38, \"high_blood_pressure\": 0, \"platelets\": 263358.03, \"serum_creatinine\": 1.1, \"serum_sodium\": 136, \"sex\": 1, \"smoking\": 0, \"time\": 6, \"DEATH_EVENT\": 1}, {\"age\": 65.0, \"anaemia\": 0, \"creatinine_phosphokinase\": 146, \"diabetes\": 0, \"ejection_fraction\": 20, \"high_blood_pressure\": 0, \"platelets\": 162000.0, \"serum_creatinine\": 1.3, \"serum_sodium\": 129, \"sex\": 1, \"smoking\": 1, \"time\": 7, \"DEATH_EVENT\": 1}, {\"age\": 50.0, \"anaemia\": 1, \"creatinine_phosphokinase\": 111, \"diabetes\": 0, \"ejection_fraction\": 20, \"high_blood_pressure\": 0, \"platelets\": 210000.0, \"serum_creatinine\": 1.9, \"serum_sodium\": 137, \"sex\": 1, \"smoking\": 0, \"time\": 7, \"DEATH_EVENT\": 1}, {\"age\": 65.0, \"anaemia\": 1, \"creatinine_phosphokinase\": 160, \"diabetes\": 1, \"ejection_fraction\": 20, \"high_blood_pressure\": 0, \"platelets\": 327000.0, \"serum_creatinine\": 2.7, \"serum_sodium\": 116, \"sex\": 0, \"smoking\": 0, \"time\": 8, \"DEATH_EVENT\": 1}, {\"age\": 90.0, \"anaemia\": 1, \"creatinine_phosphokinase\": 47, \"diabetes\": 0, \"ejection_fraction\": 40, \"high_blood_pressure\": 1, \"platelets\": 204000.0, \"serum_creatinine\": 2.1, \"serum_sodium\": 132, \"sex\": 1, \"smoking\": 1, \"time\": 8, \"DEATH_EVENT\": 1}, {\"age\": 75.0, \"anaemia\": 1, \"creatinine_phosphokinase\": 246, \"diabetes\": 0, \"ejection_fraction\": 15, \"high_blood_pressure\": 0, \"platelets\": 127000.0, \"serum_creatinine\": 1.2, \"serum_sodium\": 137, \"sex\": 1, \"smoking\": 0, \"time\": 10, \"DEATH_EVENT\": 1}, {\"age\": 60.0, \"anaemia\": 1, \"creatinine_phosphokinase\": 315, \"diabetes\": 1, \"ejection_fraction\": 60, \"high_blood_pressure\": 0, \"platelets\": 454000.0, \"serum_creatinine\": 1.1, \"serum_sodium\": 131, \"sex\": 1, \"smoking\": 1, \"time\": 10, \"DEATH_EVENT\": 1}, {\"age\": 65.0, \"anaemia\": 0, \"creatinine_phosphokinase\": 157, \"diabetes\": 0, \"ejection_fraction\": 65, \"high_blood_pressure\": 0, \"platelets\": 263358.03, \"serum_creatinine\": 1.5, \"serum_sodium\": 138, \"sex\": 0, \"smoking\": 0, \"time\": 10, \"DEATH_EVENT\": 1}, {\"age\": 80.0, \"anaemia\": 1, \"creatinine_phosphokinase\": 123, \"diabetes\": 0, \"ejection_fraction\": 35, \"high_blood_pressure\": 1, \"platelets\": 388000.0, \"serum_creatinine\": 9.4, \"serum_sodium\": 133, \"sex\": 1, \"smoking\": 1, \"time\": 10, \"DEATH_EVENT\": 1}, {\"age\": 75.0, \"anaemia\": 1, \"creatinine_phosphokinase\": 81, \"diabetes\": 0, \"ejection_fraction\": 38, \"high_blood_pressure\": 1, \"platelets\": 368000.0, \"serum_creatinine\": 4.0, \"serum_sodium\": 131, \"sex\": 1, \"smoking\": 1, \"time\": 10, \"DEATH_EVENT\": 1}, {\"age\": 62.0, \"anaemia\": 0, \"creatinine_phosphokinase\": 231, \"diabetes\": 0, \"ejection_fraction\": 25, \"high_blood_pressure\": 1, \"platelets\": 253000.0, \"serum_creatinine\": 0.9, \"serum_sodium\": 140, \"sex\": 1, \"smoking\": 1, \"time\": 10, \"DEATH_EVENT\": 1}, {\"age\": 45.0, \"anaemia\": 1, \"creatinine_phosphokinase\": 981, \"diabetes\": 0, \"ejection_fraction\": 30, \"high_blood_pressure\": 0, \"platelets\": 136000.0, \"serum_creatinine\": 1.1, \"serum_sodium\": 137, \"sex\": 1, \"smoking\": 0, \"time\": 11, \"DEATH_EVENT\": 1}, {\"age\": 50.0, \"anaemia\": 1, \"creatinine_phosphokinase\": 168, \"diabetes\": 0, \"ejection_fraction\": 38, \"high_blood_pressure\": 1, \"platelets\": 276000.0, \"serum_creatinine\": 1.1, \"serum_sodium\": 137, \"sex\": 1, \"smoking\": 0, \"time\": 11, \"DEATH_EVENT\": 1}, {\"age\": 49.0, \"anaemia\": 1, \"creatinine_phosphokinase\": 80, \"diabetes\": 0, \"ejection_fraction\": 30, \"high_blood_pressure\": 1, \"platelets\": 427000.0, \"serum_creatinine\": 1.0, \"serum_sodium\": 138, \"sex\": 0, \"smoking\": 0, \"time\": 12, \"DEATH_EVENT\": 0}, {\"age\": 82.0, \"anaemia\": 1, \"creatinine_phosphokinase\": 379, \"diabetes\": 0, \"ejection_fraction\": 50, \"high_blood_pressure\": 0, \"platelets\": 47000.0, \"serum_creatinine\": 1.3, \"serum_sodium\": 136, \"sex\": 1, \"smoking\": 0, \"time\": 13, \"DEATH_EVENT\": 1}, {\"age\": 87.0, \"anaemia\": 1, \"creatinine_phosphokinase\": 149, \"diabetes\": 0, \"ejection_fraction\": 38, \"high_blood_pressure\": 0, \"platelets\": 262000.0, \"serum_creatinine\": 0.9, \"serum_sodium\": 140, \"sex\": 1, \"smoking\": 0, \"time\": 14, \"DEATH_EVENT\": 1}, {\"age\": 45.0, \"anaemia\": 0, \"creatinine_phosphokinase\": 582, \"diabetes\": 0, \"ejection_fraction\": 14, \"high_blood_pressure\": 0, \"platelets\": 166000.0, \"serum_creatinine\": 0.8, \"serum_sodium\": 127, \"sex\": 1, \"smoking\": 0, \"time\": 14, \"DEATH_EVENT\": 1}, {\"age\": 70.0, \"anaemia\": 1, \"creatinine_phosphokinase\": 125, \"diabetes\": 0, \"ejection_fraction\": 25, \"high_blood_pressure\": 1, \"platelets\": 237000.0, \"serum_creatinine\": 1.0, \"serum_sodium\": 140, \"sex\": 0, \"smoking\": 0, \"time\": 15, \"DEATH_EVENT\": 1}, {\"age\": 48.0, \"anaemia\": 1, \"creatinine_phosphokinase\": 582, \"diabetes\": 1, \"ejection_fraction\": 55, \"high_blood_pressure\": 0, \"platelets\": 87000.0, \"serum_creatinine\": 1.9, \"serum_sodium\": 121, \"sex\": 0, \"smoking\": 0, \"time\": 15, \"DEATH_EVENT\": 1}, {\"age\": 65.0, \"anaemia\": 1, \"creatinine_phosphokinase\": 52, \"diabetes\": 0, \"ejection_fraction\": 25, \"high_blood_pressure\": 1, \"platelets\": 276000.0, \"serum_creatinine\": 1.3, \"serum_sodium\": 137, \"sex\": 0, \"smoking\": 0, \"time\": 16, \"DEATH_EVENT\": 0}, {\"age\": 65.0, \"anaemia\": 1, \"creatinine_phosphokinase\": 128, \"diabetes\": 1, \"ejection_fraction\": 30, \"high_blood_pressure\": 1, \"platelets\": 297000.0, \"serum_creatinine\": 1.6, \"serum_sodium\": 136, \"sex\": 0, \"smoking\": 0, \"time\": 20, \"DEATH_EVENT\": 1}, {\"age\": 68.0, \"anaemia\": 1, \"creatinine_phosphokinase\": 220, \"diabetes\": 0, \"ejection_fraction\": 35, \"high_blood_pressure\": 1, \"platelets\": 289000.0, \"serum_creatinine\": 0.9, \"serum_sodium\": 140, \"sex\": 1, \"smoking\": 1, \"time\": 20, \"DEATH_EVENT\": 1}, {\"age\": 53.0, \"anaemia\": 0, \"creatinine_phosphokinase\": 63, \"diabetes\": 1, \"ejection_fraction\": 60, \"high_blood_pressure\": 0, \"platelets\": 368000.0, \"serum_creatinine\": 0.8, \"serum_sodium\": 135, \"sex\": 1, \"smoking\": 0, \"time\": 22, \"DEATH_EVENT\": 0}, {\"age\": 75.0, \"anaemia\": 0, \"creatinine_phosphokinase\": 582, \"diabetes\": 1, \"ejection_fraction\": 30, \"high_blood_pressure\": 1, \"platelets\": 263358.03, \"serum_creatinine\": 1.83, \"serum_sodium\": 134, \"sex\": 0, \"smoking\": 0, \"time\": 23, \"DEATH_EVENT\": 1}, {\"age\": 80.0, \"anaemia\": 0, \"creatinine_phosphokinase\": 148, \"diabetes\": 1, \"ejection_fraction\": 38, \"high_blood_pressure\": 0, \"platelets\": 149000.0, \"serum_creatinine\": 1.9, \"serum_sodium\": 144, \"sex\": 1, \"smoking\": 1, \"time\": 23, \"DEATH_EVENT\": 1}, {\"age\": 95.0, \"anaemia\": 1, \"creatinine_phosphokinase\": 112, \"diabetes\": 0, \"ejection_fraction\": 40, \"high_blood_pressure\": 1, \"platelets\": 196000.0, \"serum_creatinine\": 1.0, \"serum_sodium\": 138, \"sex\": 0, \"smoking\": 0, \"time\": 24, \"DEATH_EVENT\": 1}, {\"age\": 70.0, \"anaemia\": 0, \"creatinine_phosphokinase\": 122, \"diabetes\": 1, \"ejection_fraction\": 45, \"high_blood_pressure\": 1, \"platelets\": 284000.0, \"serum_creatinine\": 1.3, \"serum_sodium\": 136, \"sex\": 1, \"smoking\": 1, \"time\": 26, \"DEATH_EVENT\": 1}, {\"age\": 58.0, \"anaemia\": 1, \"creatinine_phosphokinase\": 60, \"diabetes\": 0, \"ejection_fraction\": 38, \"high_blood_pressure\": 0, \"platelets\": 153000.0, \"serum_creatinine\": 5.8, \"serum_sodium\": 134, \"sex\": 1, \"smoking\": 0, \"time\": 26, \"DEATH_EVENT\": 1}, {\"age\": 82.0, \"anaemia\": 0, \"creatinine_phosphokinase\": 70, \"diabetes\": 1, \"ejection_fraction\": 30, \"high_blood_pressure\": 0, \"platelets\": 200000.0, \"serum_creatinine\": 1.2, \"serum_sodium\": 132, \"sex\": 1, \"smoking\": 1, \"time\": 26, \"DEATH_EVENT\": 1}, {\"age\": 94.0, \"anaemia\": 0, \"creatinine_phosphokinase\": 582, \"diabetes\": 1, \"ejection_fraction\": 38, \"high_blood_pressure\": 1, \"platelets\": 263358.03, \"serum_creatinine\": 1.83, \"serum_sodium\": 134, \"sex\": 1, \"smoking\": 0, \"time\": 27, \"DEATH_EVENT\": 1}, {\"age\": 85.0, \"anaemia\": 0, \"creatinine_phosphokinase\": 23, \"diabetes\": 0, \"ejection_fraction\": 45, \"high_blood_pressure\": 0, \"platelets\": 360000.0, \"serum_creatinine\": 3.0, \"serum_sodium\": 132, \"sex\": 1, \"smoking\": 0, \"time\": 28, \"DEATH_EVENT\": 1}, {\"age\": 50.0, \"anaemia\": 1, \"creatinine_phosphokinase\": 249, \"diabetes\": 1, \"ejection_fraction\": 35, \"high_blood_pressure\": 1, \"platelets\": 319000.0, \"serum_creatinine\": 1.0, \"serum_sodium\": 128, \"sex\": 0, \"smoking\": 0, \"time\": 28, \"DEATH_EVENT\": 1}, {\"age\": 50.0, \"anaemia\": 1, \"creatinine_phosphokinase\": 159, \"diabetes\": 1, \"ejection_fraction\": 30, \"high_blood_pressure\": 0, \"platelets\": 302000.0, \"serum_creatinine\": 1.2, \"serum_sodium\": 138, \"sex\": 0, \"smoking\": 0, \"time\": 29, \"DEATH_EVENT\": 0}, {\"age\": 65.0, \"anaemia\": 0, \"creatinine_phosphokinase\": 94, \"diabetes\": 1, \"ejection_fraction\": 50, \"high_blood_pressure\": 1, \"platelets\": 188000.0, \"serum_creatinine\": 1.0, \"serum_sodium\": 140, \"sex\": 1, \"smoking\": 0, \"time\": 29, \"DEATH_EVENT\": 1}, {\"age\": 69.0, \"anaemia\": 0, \"creatinine_phosphokinase\": 582, \"diabetes\": 1, \"ejection_fraction\": 35, \"high_blood_pressure\": 0, \"platelets\": 228000.0, \"serum_creatinine\": 3.5, \"serum_sodium\": 134, \"sex\": 1, \"smoking\": 0, \"time\": 30, \"DEATH_EVENT\": 1}, {\"age\": 90.0, \"anaemia\": 1, \"creatinine_phosphokinase\": 60, \"diabetes\": 1, \"ejection_fraction\": 50, \"high_blood_pressure\": 0, \"platelets\": 226000.0, \"serum_creatinine\": 1.0, \"serum_sodium\": 134, \"sex\": 1, \"smoking\": 0, \"time\": 30, \"DEATH_EVENT\": 1}, {\"age\": 82.0, \"anaemia\": 1, \"creatinine_phosphokinase\": 855, \"diabetes\": 1, \"ejection_fraction\": 50, \"high_blood_pressure\": 1, \"platelets\": 321000.0, \"serum_creatinine\": 1.0, \"serum_sodium\": 145, \"sex\": 0, \"smoking\": 0, \"time\": 30, \"DEATH_EVENT\": 1}, {\"age\": 60.0, \"anaemia\": 0, \"creatinine_phosphokinase\": 2656, \"diabetes\": 1, \"ejection_fraction\": 30, \"high_blood_pressure\": 0, \"platelets\": 305000.0, \"serum_creatinine\": 2.3, \"serum_sodium\": 137, \"sex\": 1, \"smoking\": 0, \"time\": 30, \"DEATH_EVENT\": 0}, {\"age\": 60.0, \"anaemia\": 0, \"creatinine_phosphokinase\": 235, \"diabetes\": 1, \"ejection_fraction\": 38, \"high_blood_pressure\": 0, \"platelets\": 329000.0, \"serum_creatinine\": 3.0, \"serum_sodium\": 142, \"sex\": 0, \"smoking\": 0, \"time\": 30, \"DEATH_EVENT\": 1}, {\"age\": 70.0, \"anaemia\": 0, \"creatinine_phosphokinase\": 582, \"diabetes\": 0, \"ejection_fraction\": 20, \"high_blood_pressure\": 1, \"platelets\": 263358.03, \"serum_creatinine\": 1.83, \"serum_sodium\": 134, \"sex\": 1, \"smoking\": 1, \"time\": 31, \"DEATH_EVENT\": 1}, {\"age\": 50.0, \"anaemia\": 0, \"creatinine_phosphokinase\": 124, \"diabetes\": 1, \"ejection_fraction\": 30, \"high_blood_pressure\": 1, \"platelets\": 153000.0, \"serum_creatinine\": 1.2, \"serum_sodium\": 136, \"sex\": 0, \"smoking\": 1, \"time\": 32, \"DEATH_EVENT\": 1}, {\"age\": 70.0, \"anaemia\": 0, \"creatinine_phosphokinase\": 571, \"diabetes\": 1, \"ejection_fraction\": 45, \"high_blood_pressure\": 1, \"platelets\": 185000.0, \"serum_creatinine\": 1.2, \"serum_sodium\": 139, \"sex\": 1, \"smoking\": 1, \"time\": 33, \"DEATH_EVENT\": 1}, {\"age\": 72.0, \"anaemia\": 0, \"creatinine_phosphokinase\": 127, \"diabetes\": 1, \"ejection_fraction\": 50, \"high_blood_pressure\": 1, \"platelets\": 218000.0, \"serum_creatinine\": 1.0, \"serum_sodium\": 134, \"sex\": 1, \"smoking\": 0, \"time\": 33, \"DEATH_EVENT\": 0}, {\"age\": 60.0, \"anaemia\": 1, \"creatinine_phosphokinase\": 588, \"diabetes\": 1, \"ejection_fraction\": 60, \"high_blood_pressure\": 0, \"platelets\": 194000.0, \"serum_creatinine\": 1.1, \"serum_sodium\": 142, \"sex\": 0, \"smoking\": 0, \"time\": 33, \"DEATH_EVENT\": 1}, {\"age\": 50.0, \"anaemia\": 0, \"creatinine_phosphokinase\": 582, \"diabetes\": 1, \"ejection_fraction\": 38, \"high_blood_pressure\": 0, \"platelets\": 310000.0, \"serum_creatinine\": 1.9, \"serum_sodium\": 135, \"sex\": 1, \"smoking\": 1, \"time\": 35, \"DEATH_EVENT\": 1}, {\"age\": 51.0, \"anaemia\": 0, \"creatinine_phosphokinase\": 1380, \"diabetes\": 0, \"ejection_fraction\": 25, \"high_blood_pressure\": 1, \"platelets\": 271000.0, \"serum_creatinine\": 0.9, \"serum_sodium\": 130, \"sex\": 1, \"smoking\": 0, \"time\": 38, \"DEATH_EVENT\": 1}, {\"age\": 60.0, \"anaemia\": 0, \"creatinine_phosphokinase\": 582, \"diabetes\": 1, \"ejection_fraction\": 38, \"high_blood_pressure\": 1, \"platelets\": 451000.0, \"serum_creatinine\": 0.6, \"serum_sodium\": 138, \"sex\": 1, \"smoking\": 1, \"time\": 40, \"DEATH_EVENT\": 1}, {\"age\": 80.0, \"anaemia\": 1, \"creatinine_phosphokinase\": 553, \"diabetes\": 0, \"ejection_fraction\": 20, \"high_blood_pressure\": 1, \"platelets\": 140000.0, \"serum_creatinine\": 4.4, \"serum_sodium\": 133, \"sex\": 1, \"smoking\": 0, \"time\": 41, \"DEATH_EVENT\": 1}, {\"age\": 57.0, \"anaemia\": 1, \"creatinine_phosphokinase\": 129, \"diabetes\": 0, \"ejection_fraction\": 30, \"high_blood_pressure\": 0, \"platelets\": 395000.0, \"serum_creatinine\": 1.0, \"serum_sodium\": 140, \"sex\": 0, \"smoking\": 0, \"time\": 42, \"DEATH_EVENT\": 1}, {\"age\": 68.0, \"anaemia\": 1, \"creatinine_phosphokinase\": 577, \"diabetes\": 0, \"ejection_fraction\": 25, \"high_blood_pressure\": 1, \"platelets\": 166000.0, \"serum_creatinine\": 1.0, \"serum_sodium\": 138, \"sex\": 1, \"smoking\": 0, \"time\": 43, \"DEATH_EVENT\": 1}, {\"age\": 53.0, \"anaemia\": 1, \"creatinine_phosphokinase\": 91, \"diabetes\": 0, \"ejection_fraction\": 20, \"high_blood_pressure\": 1, \"platelets\": 418000.0, \"serum_creatinine\": 1.4, \"serum_sodium\": 139, \"sex\": 0, \"smoking\": 0, \"time\": 43, \"DEATH_EVENT\": 1}, {\"age\": 60.0, \"anaemia\": 0, \"creatinine_phosphokinase\": 3964, \"diabetes\": 1, \"ejection_fraction\": 62, \"high_blood_pressure\": 0, \"platelets\": 263358.03, \"serum_creatinine\": 6.8, \"serum_sodium\": 146, \"sex\": 0, \"smoking\": 0, \"time\": 43, \"DEATH_EVENT\": 1}, {\"age\": 70.0, \"anaemia\": 1, \"creatinine_phosphokinase\": 69, \"diabetes\": 1, \"ejection_fraction\": 50, \"high_blood_pressure\": 1, \"platelets\": 351000.0, \"serum_creatinine\": 1.0, \"serum_sodium\": 134, \"sex\": 0, \"smoking\": 0, \"time\": 44, \"DEATH_EVENT\": 1}, {\"age\": 60.0, \"anaemia\": 1, \"creatinine_phosphokinase\": 260, \"diabetes\": 1, \"ejection_fraction\": 38, \"high_blood_pressure\": 0, \"platelets\": 255000.0, \"serum_creatinine\": 2.2, \"serum_sodium\": 132, \"sex\": 0, \"smoking\": 1, \"time\": 45, \"DEATH_EVENT\": 1}, {\"age\": 95.0, \"anaemia\": 1, \"creatinine_phosphokinase\": 371, \"diabetes\": 0, \"ejection_fraction\": 30, \"high_blood_pressure\": 0, \"platelets\": 461000.0, \"serum_creatinine\": 2.0, \"serum_sodium\": 132, \"sex\": 1, \"smoking\": 0, \"time\": 50, \"DEATH_EVENT\": 1}, {\"age\": 70.0, \"anaemia\": 1, \"creatinine_phosphokinase\": 75, \"diabetes\": 0, \"ejection_fraction\": 35, \"high_blood_pressure\": 0, \"platelets\": 223000.0, \"serum_creatinine\": 2.7, \"serum_sodium\": 138, \"sex\": 1, \"smoking\": 1, \"time\": 54, \"DEATH_EVENT\": 0}, {\"age\": 60.0, \"anaemia\": 1, \"creatinine_phosphokinase\": 607, \"diabetes\": 0, \"ejection_fraction\": 40, \"high_blood_pressure\": 0, \"platelets\": 216000.0, \"serum_creatinine\": 0.6, \"serum_sodium\": 138, \"sex\": 1, \"smoking\": 1, \"time\": 54, \"DEATH_EVENT\": 0}, {\"age\": 49.0, \"anaemia\": 0, \"creatinine_phosphokinase\": 789, \"diabetes\": 0, \"ejection_fraction\": 20, \"high_blood_pressure\": 1, \"platelets\": 319000.0, \"serum_creatinine\": 1.1, \"serum_sodium\": 136, \"sex\": 1, \"smoking\": 1, \"time\": 55, \"DEATH_EVENT\": 1}, {\"age\": 72.0, \"anaemia\": 0, \"creatinine_phosphokinase\": 364, \"diabetes\": 1, \"ejection_fraction\": 20, \"high_blood_pressure\": 1, \"platelets\": 254000.0, \"serum_creatinine\": 1.3, \"serum_sodium\": 136, \"sex\": 1, \"smoking\": 1, \"time\": 59, \"DEATH_EVENT\": 1}, {\"age\": 45.0, \"anaemia\": 0, \"creatinine_phosphokinase\": 7702, \"diabetes\": 1, \"ejection_fraction\": 25, \"high_blood_pressure\": 1, \"platelets\": 390000.0, \"serum_creatinine\": 1.0, \"serum_sodium\": 139, \"sex\": 1, \"smoking\": 0, \"time\": 60, \"DEATH_EVENT\": 1}, {\"age\": 50.0, \"anaemia\": 0, \"creatinine_phosphokinase\": 318, \"diabetes\": 0, \"ejection_fraction\": 40, \"high_blood_pressure\": 1, \"platelets\": 216000.0, \"serum_creatinine\": 2.3, \"serum_sodium\": 131, \"sex\": 0, \"smoking\": 0, \"time\": 60, \"DEATH_EVENT\": 1}, {\"age\": 55.0, \"anaemia\": 0, \"creatinine_phosphokinase\": 109, \"diabetes\": 0, \"ejection_fraction\": 35, \"high_blood_pressure\": 0, \"platelets\": 254000.0, \"serum_creatinine\": 1.1, \"serum_sodium\": 139, \"sex\": 1, \"smoking\": 1, \"time\": 60, \"DEATH_EVENT\": 0}, {\"age\": 45.0, \"anaemia\": 0, \"creatinine_phosphokinase\": 582, \"diabetes\": 0, \"ejection_fraction\": 35, \"high_blood_pressure\": 0, \"platelets\": 385000.0, \"serum_creatinine\": 1.0, \"serum_sodium\": 145, \"sex\": 1, \"smoking\": 0, \"time\": 61, \"DEATH_EVENT\": 1}, {\"age\": 45.0, \"anaemia\": 0, \"creatinine_phosphokinase\": 582, \"diabetes\": 0, \"ejection_fraction\": 80, \"high_blood_pressure\": 0, \"platelets\": 263358.03, \"serum_creatinine\": 1.18, \"serum_sodium\": 137, \"sex\": 0, \"smoking\": 0, \"time\": 63, \"DEATH_EVENT\": 0}, {\"age\": 60.0, \"anaemia\": 0, \"creatinine_phosphokinase\": 68, \"diabetes\": 0, \"ejection_fraction\": 20, \"high_blood_pressure\": 0, \"platelets\": 119000.0, \"serum_creatinine\": 2.9, \"serum_sodium\": 127, \"sex\": 1, \"smoking\": 1, \"time\": 64, \"DEATH_EVENT\": 1}, {\"age\": 42.0, \"anaemia\": 1, \"creatinine_phosphokinase\": 250, \"diabetes\": 1, \"ejection_fraction\": 15, \"high_blood_pressure\": 0, \"platelets\": 213000.0, \"serum_creatinine\": 1.3, \"serum_sodium\": 136, \"sex\": 0, \"smoking\": 0, \"time\": 65, \"DEATH_EVENT\": 1}, {\"age\": 72.0, \"anaemia\": 1, \"creatinine_phosphokinase\": 110, \"diabetes\": 0, \"ejection_fraction\": 25, \"high_blood_pressure\": 0, \"platelets\": 274000.0, \"serum_creatinine\": 1.0, \"serum_sodium\": 140, \"sex\": 1, \"smoking\": 1, \"time\": 65, \"DEATH_EVENT\": 1}, {\"age\": 70.0, \"anaemia\": 0, \"creatinine_phosphokinase\": 161, \"diabetes\": 0, \"ejection_fraction\": 25, \"high_blood_pressure\": 0, \"platelets\": 244000.0, \"serum_creatinine\": 1.2, \"serum_sodium\": 142, \"sex\": 0, \"smoking\": 0, \"time\": 66, \"DEATH_EVENT\": 1}, {\"age\": 65.0, \"anaemia\": 0, \"creatinine_phosphokinase\": 113, \"diabetes\": 1, \"ejection_fraction\": 25, \"high_blood_pressure\": 0, \"platelets\": 497000.0, \"serum_creatinine\": 1.83, \"serum_sodium\": 135, \"sex\": 1, \"smoking\": 0, \"time\": 67, \"DEATH_EVENT\": 1}, {\"age\": 41.0, \"anaemia\": 0, \"creatinine_phosphokinase\": 148, \"diabetes\": 0, \"ejection_fraction\": 40, \"high_blood_pressure\": 0, \"platelets\": 374000.0, \"serum_creatinine\": 0.8, \"serum_sodium\": 140, \"sex\": 1, \"smoking\": 1, \"time\": 68, \"DEATH_EVENT\": 0}, {\"age\": 58.0, \"anaemia\": 0, \"creatinine_phosphokinase\": 582, \"diabetes\": 1, \"ejection_fraction\": 35, \"high_blood_pressure\": 0, \"platelets\": 122000.0, \"serum_creatinine\": 0.9, \"serum_sodium\": 139, \"sex\": 1, \"smoking\": 1, \"time\": 71, \"DEATH_EVENT\": 0}, {\"age\": 85.0, \"anaemia\": 0, \"creatinine_phosphokinase\": 5882, \"diabetes\": 0, \"ejection_fraction\": 35, \"high_blood_pressure\": 0, \"platelets\": 243000.0, \"serum_creatinine\": 1.0, \"serum_sodium\": 132, \"sex\": 1, \"smoking\": 1, \"time\": 72, \"DEATH_EVENT\": 1}, {\"age\": 65.0, \"anaemia\": 0, \"creatinine_phosphokinase\": 224, \"diabetes\": 1, \"ejection_fraction\": 50, \"high_blood_pressure\": 0, \"platelets\": 149000.0, \"serum_creatinine\": 1.3, \"serum_sodium\": 137, \"sex\": 1, \"smoking\": 1, \"time\": 72, \"DEATH_EVENT\": 0}, {\"age\": 69.0, \"anaemia\": 0, \"creatinine_phosphokinase\": 582, \"diabetes\": 0, \"ejection_fraction\": 20, \"high_blood_pressure\": 0, \"platelets\": 266000.0, \"serum_creatinine\": 1.2, \"serum_sodium\": 134, \"sex\": 1, \"smoking\": 1, \"time\": 73, \"DEATH_EVENT\": 1}, {\"age\": 60.0, \"anaemia\": 1, \"creatinine_phosphokinase\": 47, \"diabetes\": 0, \"ejection_fraction\": 20, \"high_blood_pressure\": 0, \"platelets\": 204000.0, \"serum_creatinine\": 0.7, \"serum_sodium\": 139, \"sex\": 1, \"smoking\": 1, \"time\": 73, \"DEATH_EVENT\": 1}, {\"age\": 70.0, \"anaemia\": 0, \"creatinine_phosphokinase\": 92, \"diabetes\": 0, \"ejection_fraction\": 60, \"high_blood_pressure\": 1, \"platelets\": 317000.0, \"serum_creatinine\": 0.8, \"serum_sodium\": 140, \"sex\": 0, \"smoking\": 1, \"time\": 74, \"DEATH_EVENT\": 0}, {\"age\": 42.0, \"anaemia\": 0, \"creatinine_phosphokinase\": 102, \"diabetes\": 1, \"ejection_fraction\": 40, \"high_blood_pressure\": 0, \"platelets\": 237000.0, \"serum_creatinine\": 1.2, \"serum_sodium\": 140, \"sex\": 1, \"smoking\": 0, \"time\": 74, \"DEATH_EVENT\": 0}, {\"age\": 75.0, \"anaemia\": 1, \"creatinine_phosphokinase\": 203, \"diabetes\": 1, \"ejection_fraction\": 38, \"high_blood_pressure\": 1, \"platelets\": 283000.0, \"serum_creatinine\": 0.6, \"serum_sodium\": 131, \"sex\": 1, \"smoking\": 1, \"time\": 74, \"DEATH_EVENT\": 0}, {\"age\": 55.0, \"anaemia\": 0, \"creatinine_phosphokinase\": 336, \"diabetes\": 0, \"ejection_fraction\": 45, \"high_blood_pressure\": 1, \"platelets\": 324000.0, \"serum_creatinine\": 0.9, \"serum_sodium\": 140, \"sex\": 0, \"smoking\": 0, \"time\": 74, \"DEATH_EVENT\": 0}, {\"age\": 70.0, \"anaemia\": 0, \"creatinine_phosphokinase\": 69, \"diabetes\": 0, \"ejection_fraction\": 40, \"high_blood_pressure\": 0, \"platelets\": 293000.0, \"serum_creatinine\": 1.7, \"serum_sodium\": 136, \"sex\": 0, \"smoking\": 0, \"time\": 75, \"DEATH_EVENT\": 0}, {\"age\": 67.0, \"anaemia\": 0, \"creatinine_phosphokinase\": 582, \"diabetes\": 0, \"ejection_fraction\": 50, \"high_blood_pressure\": 0, \"platelets\": 263358.03, \"serum_creatinine\": 1.18, \"serum_sodium\": 137, \"sex\": 1, \"smoking\": 1, \"time\": 76, \"DEATH_EVENT\": 0}, {\"age\": 60.0, \"anaemia\": 1, \"creatinine_phosphokinase\": 76, \"diabetes\": 1, \"ejection_fraction\": 25, \"high_blood_pressure\": 0, \"platelets\": 196000.0, \"serum_creatinine\": 2.5, \"serum_sodium\": 132, \"sex\": 0, \"smoking\": 0, \"time\": 77, \"DEATH_EVENT\": 1}, {\"age\": 79.0, \"anaemia\": 1, \"creatinine_phosphokinase\": 55, \"diabetes\": 0, \"ejection_fraction\": 50, \"high_blood_pressure\": 1, \"platelets\": 172000.0, \"serum_creatinine\": 1.8, \"serum_sodium\": 133, \"sex\": 1, \"smoking\": 0, \"time\": 78, \"DEATH_EVENT\": 0}, {\"age\": 59.0, \"anaemia\": 1, \"creatinine_phosphokinase\": 280, \"diabetes\": 1, \"ejection_fraction\": 25, \"high_blood_pressure\": 1, \"platelets\": 302000.0, \"serum_creatinine\": 1.0, \"serum_sodium\": 141, \"sex\": 0, \"smoking\": 0, \"time\": 78, \"DEATH_EVENT\": 1}, {\"age\": 51.0, \"anaemia\": 0, \"creatinine_phosphokinase\": 78, \"diabetes\": 0, \"ejection_fraction\": 50, \"high_blood_pressure\": 0, \"platelets\": 406000.0, \"serum_creatinine\": 0.7, \"serum_sodium\": 140, \"sex\": 1, \"smoking\": 0, \"time\": 79, \"DEATH_EVENT\": 0}, {\"age\": 55.0, \"anaemia\": 0, \"creatinine_phosphokinase\": 47, \"diabetes\": 0, \"ejection_fraction\": 35, \"high_blood_pressure\": 1, \"platelets\": 173000.0, \"serum_creatinine\": 1.1, \"serum_sodium\": 137, \"sex\": 1, \"smoking\": 0, \"time\": 79, \"DEATH_EVENT\": 0}, {\"age\": 65.0, \"anaemia\": 1, \"creatinine_phosphokinase\": 68, \"diabetes\": 1, \"ejection_fraction\": 60, \"high_blood_pressure\": 1, \"platelets\": 304000.0, \"serum_creatinine\": 0.8, \"serum_sodium\": 140, \"sex\": 1, \"smoking\": 0, \"time\": 79, \"DEATH_EVENT\": 0}, {\"age\": 44.0, \"anaemia\": 0, \"creatinine_phosphokinase\": 84, \"diabetes\": 1, \"ejection_fraction\": 40, \"high_blood_pressure\": 1, \"platelets\": 235000.0, \"serum_creatinine\": 0.7, \"serum_sodium\": 139, \"sex\": 1, \"smoking\": 0, \"time\": 79, \"DEATH_EVENT\": 0}, {\"age\": 57.0, \"anaemia\": 1, \"creatinine_phosphokinase\": 115, \"diabetes\": 0, \"ejection_fraction\": 25, \"high_blood_pressure\": 1, \"platelets\": 181000.0, \"serum_creatinine\": 1.1, \"serum_sodium\": 144, \"sex\": 1, \"smoking\": 0, \"time\": 79, \"DEATH_EVENT\": 0}, {\"age\": 70.0, \"anaemia\": 0, \"creatinine_phosphokinase\": 66, \"diabetes\": 1, \"ejection_fraction\": 45, \"high_blood_pressure\": 0, \"platelets\": 249000.0, \"serum_creatinine\": 0.8, \"serum_sodium\": 136, \"sex\": 1, \"smoking\": 1, \"time\": 80, \"DEATH_EVENT\": 0}, {\"age\": 60.0, \"anaemia\": 0, \"creatinine_phosphokinase\": 897, \"diabetes\": 1, \"ejection_fraction\": 45, \"high_blood_pressure\": 0, \"platelets\": 297000.0, \"serum_creatinine\": 1.0, \"serum_sodium\": 133, \"sex\": 1, \"smoking\": 0, \"time\": 80, \"DEATH_EVENT\": 0}, {\"age\": 42.0, \"anaemia\": 0, \"creatinine_phosphokinase\": 582, \"diabetes\": 0, \"ejection_fraction\": 60, \"high_blood_pressure\": 0, \"platelets\": 263358.03, \"serum_creatinine\": 1.18, \"serum_sodium\": 137, \"sex\": 0, \"smoking\": 0, \"time\": 82, \"DEATH_EVENT\": 0}, {\"age\": 60.0, \"anaemia\": 1, \"creatinine_phosphokinase\": 154, \"diabetes\": 0, \"ejection_fraction\": 25, \"high_blood_pressure\": 0, \"platelets\": 210000.0, \"serum_creatinine\": 1.7, \"serum_sodium\": 135, \"sex\": 1, \"smoking\": 0, \"time\": 82, \"DEATH_EVENT\": 1}, {\"age\": 58.0, \"anaemia\": 0, \"creatinine_phosphokinase\": 144, \"diabetes\": 1, \"ejection_fraction\": 38, \"high_blood_pressure\": 1, \"platelets\": 327000.0, \"serum_creatinine\": 0.7, \"serum_sodium\": 142, \"sex\": 0, \"smoking\": 0, \"time\": 83, \"DEATH_EVENT\": 0}, {\"age\": 58.0, \"anaemia\": 1, \"creatinine_phosphokinase\": 133, \"diabetes\": 0, \"ejection_fraction\": 60, \"high_blood_pressure\": 1, \"platelets\": 219000.0, \"serum_creatinine\": 1.0, \"serum_sodium\": 141, \"sex\": 1, \"smoking\": 0, \"time\": 83, \"DEATH_EVENT\": 0}, {\"age\": 63.0, \"anaemia\": 1, \"creatinine_phosphokinase\": 514, \"diabetes\": 1, \"ejection_fraction\": 25, \"high_blood_pressure\": 1, \"platelets\": 254000.0, \"serum_creatinine\": 1.3, \"serum_sodium\": 134, \"sex\": 1, \"smoking\": 0, \"time\": 83, \"DEATH_EVENT\": 0}, {\"age\": 70.0, \"anaemia\": 1, \"creatinine_phosphokinase\": 59, \"diabetes\": 0, \"ejection_fraction\": 60, \"high_blood_pressure\": 0, \"platelets\": 255000.0, \"serum_creatinine\": 1.1, \"serum_sodium\": 136, \"sex\": 0, \"smoking\": 0, \"time\": 85, \"DEATH_EVENT\": 0}, {\"age\": 60.0, \"anaemia\": 1, \"creatinine_phosphokinase\": 156, \"diabetes\": 1, \"ejection_fraction\": 25, \"high_blood_pressure\": 1, \"platelets\": 318000.0, \"serum_creatinine\": 1.2, \"serum_sodium\": 137, \"sex\": 0, \"smoking\": 0, \"time\": 85, \"DEATH_EVENT\": 0}, {\"age\": 63.0, \"anaemia\": 1, \"creatinine_phosphokinase\": 61, \"diabetes\": 1, \"ejection_fraction\": 40, \"high_blood_pressure\": 0, \"platelets\": 221000.0, \"serum_creatinine\": 1.1, \"serum_sodium\": 140, \"sex\": 0, \"smoking\": 0, \"time\": 86, \"DEATH_EVENT\": 0}, {\"age\": 65.0, \"anaemia\": 1, \"creatinine_phosphokinase\": 305, \"diabetes\": 0, \"ejection_fraction\": 25, \"high_blood_pressure\": 0, \"platelets\": 298000.0, \"serum_creatinine\": 1.1, \"serum_sodium\": 141, \"sex\": 1, \"smoking\": 0, \"time\": 87, \"DEATH_EVENT\": 0}, {\"age\": 75.0, \"anaemia\": 0, \"creatinine_phosphokinase\": 582, \"diabetes\": 0, \"ejection_fraction\": 45, \"high_blood_pressure\": 1, \"platelets\": 263358.03, \"serum_creatinine\": 1.18, \"serum_sodium\": 137, \"sex\": 1, \"smoking\": 0, \"time\": 87, \"DEATH_EVENT\": 0}, {\"age\": 80.0, \"anaemia\": 0, \"creatinine_phosphokinase\": 898, \"diabetes\": 0, \"ejection_fraction\": 25, \"high_blood_pressure\": 0, \"platelets\": 149000.0, \"serum_creatinine\": 1.1, \"serum_sodium\": 144, \"sex\": 1, \"smoking\": 1, \"time\": 87, \"DEATH_EVENT\": 0}, {\"age\": 42.0, \"anaemia\": 0, \"creatinine_phosphokinase\": 5209, \"diabetes\": 0, \"ejection_fraction\": 30, \"high_blood_pressure\": 0, \"platelets\": 226000.0, \"serum_creatinine\": 1.0, \"serum_sodium\": 140, \"sex\": 1, \"smoking\": 1, \"time\": 87, \"DEATH_EVENT\": 0}, {\"age\": 60.0, \"anaemia\": 0, \"creatinine_phosphokinase\": 53, \"diabetes\": 0, \"ejection_fraction\": 50, \"high_blood_pressure\": 1, \"platelets\": 286000.0, \"serum_creatinine\": 2.3, \"serum_sodium\": 143, \"sex\": 0, \"smoking\": 0, \"time\": 87, \"DEATH_EVENT\": 0}, {\"age\": 72.0, \"anaemia\": 1, \"creatinine_phosphokinase\": 328, \"diabetes\": 0, \"ejection_fraction\": 30, \"high_blood_pressure\": 1, \"platelets\": 621000.0, \"serum_creatinine\": 1.7, \"serum_sodium\": 138, \"sex\": 0, \"smoking\": 1, \"time\": 88, \"DEATH_EVENT\": 1}, {\"age\": 55.0, \"anaemia\": 0, \"creatinine_phosphokinase\": 748, \"diabetes\": 0, \"ejection_fraction\": 45, \"high_blood_pressure\": 0, \"platelets\": 263000.0, \"serum_creatinine\": 1.3, \"serum_sodium\": 137, \"sex\": 1, \"smoking\": 0, \"time\": 88, \"DEATH_EVENT\": 0}, {\"age\": 45.0, \"anaemia\": 1, \"creatinine_phosphokinase\": 1876, \"diabetes\": 1, \"ejection_fraction\": 35, \"high_blood_pressure\": 0, \"platelets\": 226000.0, \"serum_creatinine\": 0.9, \"serum_sodium\": 138, \"sex\": 1, \"smoking\": 0, \"time\": 88, \"DEATH_EVENT\": 0}, {\"age\": 63.0, \"anaemia\": 0, \"creatinine_phosphokinase\": 936, \"diabetes\": 0, \"ejection_fraction\": 38, \"high_blood_pressure\": 0, \"platelets\": 304000.0, \"serum_creatinine\": 1.1, \"serum_sodium\": 133, \"sex\": 1, \"smoking\": 1, \"time\": 88, \"DEATH_EVENT\": 0}, {\"age\": 45.0, \"anaemia\": 0, \"creatinine_phosphokinase\": 292, \"diabetes\": 1, \"ejection_fraction\": 35, \"high_blood_pressure\": 0, \"platelets\": 850000.0, \"serum_creatinine\": 1.3, \"serum_sodium\": 142, \"sex\": 1, \"smoking\": 1, \"time\": 88, \"DEATH_EVENT\": 0}, {\"age\": 85.0, \"anaemia\": 0, \"creatinine_phosphokinase\": 129, \"diabetes\": 0, \"ejection_fraction\": 60, \"high_blood_pressure\": 0, \"platelets\": 306000.0, \"serum_creatinine\": 1.2, \"serum_sodium\": 132, \"sex\": 1, \"smoking\": 1, \"time\": 90, \"DEATH_EVENT\": 1}, {\"age\": 55.0, \"anaemia\": 0, \"creatinine_phosphokinase\": 60, \"diabetes\": 0, \"ejection_fraction\": 35, \"high_blood_pressure\": 0, \"platelets\": 228000.0, \"serum_creatinine\": 1.2, \"serum_sodium\": 135, \"sex\": 1, \"smoking\": 1, \"time\": 90, \"DEATH_EVENT\": 0}, {\"age\": 50.0, \"anaemia\": 0, \"creatinine_phosphokinase\": 369, \"diabetes\": 1, \"ejection_fraction\": 25, \"high_blood_pressure\": 0, \"platelets\": 252000.0, \"serum_creatinine\": 1.6, \"serum_sodium\": 136, \"sex\": 1, \"smoking\": 0, \"time\": 90, \"DEATH_EVENT\": 0}, {\"age\": 70.0, \"anaemia\": 1, \"creatinine_phosphokinase\": 143, \"diabetes\": 0, \"ejection_fraction\": 60, \"high_blood_pressure\": 0, \"platelets\": 351000.0, \"serum_creatinine\": 1.3, \"serum_sodium\": 137, \"sex\": 0, \"smoking\": 0, \"time\": 90, \"DEATH_EVENT\": 1}, {\"age\": 60.0, \"anaemia\": 1, \"creatinine_phosphokinase\": 754, \"diabetes\": 1, \"ejection_fraction\": 40, \"high_blood_pressure\": 1, \"platelets\": 328000.0, \"serum_creatinine\": 1.2, \"serum_sodium\": 126, \"sex\": 1, \"smoking\": 0, \"time\": 91, \"DEATH_EVENT\": 0}, {\"age\": 58.0, \"anaemia\": 1, \"creatinine_phosphokinase\": 400, \"diabetes\": 0, \"ejection_fraction\": 40, \"high_blood_pressure\": 0, \"platelets\": 164000.0, \"serum_creatinine\": 1.0, \"serum_sodium\": 139, \"sex\": 0, \"smoking\": 0, \"time\": 91, \"DEATH_EVENT\": 0}, {\"age\": 60.0, \"anaemia\": 1, \"creatinine_phosphokinase\": 96, \"diabetes\": 1, \"ejection_fraction\": 60, \"high_blood_pressure\": 1, \"platelets\": 271000.0, \"serum_creatinine\": 0.7, \"serum_sodium\": 136, \"sex\": 0, \"smoking\": 0, \"time\": 94, \"DEATH_EVENT\": 0}, {\"age\": 85.0, \"anaemia\": 1, \"creatinine_phosphokinase\": 102, \"diabetes\": 0, \"ejection_fraction\": 60, \"high_blood_pressure\": 0, \"platelets\": 507000.0, \"serum_creatinine\": 3.2, \"serum_sodium\": 138, \"sex\": 0, \"smoking\": 0, \"time\": 94, \"DEATH_EVENT\": 0}, {\"age\": 65.0, \"anaemia\": 1, \"creatinine_phosphokinase\": 113, \"diabetes\": 1, \"ejection_fraction\": 60, \"high_blood_pressure\": 1, \"platelets\": 203000.0, \"serum_creatinine\": 0.9, \"serum_sodium\": 140, \"sex\": 0, \"smoking\": 0, \"time\": 94, \"DEATH_EVENT\": 0}, {\"age\": 86.0, \"anaemia\": 0, \"creatinine_phosphokinase\": 582, \"diabetes\": 0, \"ejection_fraction\": 38, \"high_blood_pressure\": 0, \"platelets\": 263358.03, \"serum_creatinine\": 1.83, \"serum_sodium\": 134, \"sex\": 0, \"smoking\": 0, \"time\": 95, \"DEATH_EVENT\": 1}, {\"age\": 60.0, \"anaemia\": 1, \"creatinine_phosphokinase\": 737, \"diabetes\": 0, \"ejection_fraction\": 60, \"high_blood_pressure\": 1, \"platelets\": 210000.0, \"serum_creatinine\": 1.5, \"serum_sodium\": 135, \"sex\": 1, \"smoking\": 1, \"time\": 95, \"DEATH_EVENT\": 0}, {\"age\": 66.0, \"anaemia\": 1, \"creatinine_phosphokinase\": 68, \"diabetes\": 1, \"ejection_fraction\": 38, \"high_blood_pressure\": 1, \"platelets\": 162000.0, \"serum_creatinine\": 1.0, \"serum_sodium\": 136, \"sex\": 0, \"smoking\": 0, \"time\": 95, \"DEATH_EVENT\": 0}, {\"age\": 60.0, \"anaemia\": 0, \"creatinine_phosphokinase\": 96, \"diabetes\": 1, \"ejection_fraction\": 38, \"high_blood_pressure\": 0, \"platelets\": 228000.0, \"serum_creatinine\": 0.75, \"serum_sodium\": 140, \"sex\": 0, \"smoking\": 0, \"time\": 95, \"DEATH_EVENT\": 0}, {\"age\": 60.0, \"anaemia\": 1, \"creatinine_phosphokinase\": 582, \"diabetes\": 0, \"ejection_fraction\": 30, \"high_blood_pressure\": 1, \"platelets\": 127000.0, \"serum_creatinine\": 0.9, \"serum_sodium\": 145, \"sex\": 0, \"smoking\": 0, \"time\": 95, \"DEATH_EVENT\": 0}, {\"age\": 60.0, \"anaemia\": 0, \"creatinine_phosphokinase\": 582, \"diabetes\": 0, \"ejection_fraction\": 40, \"high_blood_pressure\": 0, \"platelets\": 217000.0, \"serum_creatinine\": 3.7, \"serum_sodium\": 134, \"sex\": 1, \"smoking\": 0, \"time\": 96, \"DEATH_EVENT\": 1}, {\"age\": 43.0, \"anaemia\": 1, \"creatinine_phosphokinase\": 358, \"diabetes\": 0, \"ejection_fraction\": 50, \"high_blood_pressure\": 0, \"platelets\": 237000.0, \"serum_creatinine\": 1.3, \"serum_sodium\": 135, \"sex\": 0, \"smoking\": 0, \"time\": 97, \"DEATH_EVENT\": 0}, {\"age\": 46.0, \"anaemia\": 0, \"creatinine_phosphokinase\": 168, \"diabetes\": 1, \"ejection_fraction\": 17, \"high_blood_pressure\": 1, \"platelets\": 271000.0, \"serum_creatinine\": 2.1, \"serum_sodium\": 124, \"sex\": 0, \"smoking\": 0, \"time\": 100, \"DEATH_EVENT\": 1}, {\"age\": 58.0, \"anaemia\": 1, \"creatinine_phosphokinase\": 200, \"diabetes\": 1, \"ejection_fraction\": 60, \"high_blood_pressure\": 0, \"platelets\": 300000.0, \"serum_creatinine\": 0.8, \"serum_sodium\": 137, \"sex\": 0, \"smoking\": 0, \"time\": 104, \"DEATH_EVENT\": 0}, {\"age\": 61.0, \"anaemia\": 0, \"creatinine_phosphokinase\": 248, \"diabetes\": 0, \"ejection_fraction\": 30, \"high_blood_pressure\": 1, \"platelets\": 267000.0, \"serum_creatinine\": 0.7, \"serum_sodium\": 136, \"sex\": 1, \"smoking\": 1, \"time\": 104, \"DEATH_EVENT\": 0}, {\"age\": 53.0, \"anaemia\": 1, \"creatinine_phosphokinase\": 270, \"diabetes\": 1, \"ejection_fraction\": 35, \"high_blood_pressure\": 0, \"platelets\": 227000.0, \"serum_creatinine\": 3.4, \"serum_sodium\": 145, \"sex\": 1, \"smoking\": 0, \"time\": 105, \"DEATH_EVENT\": 0}, {\"age\": 53.0, \"anaemia\": 1, \"creatinine_phosphokinase\": 1808, \"diabetes\": 0, \"ejection_fraction\": 60, \"high_blood_pressure\": 1, \"platelets\": 249000.0, \"serum_creatinine\": 0.7, \"serum_sodium\": 138, \"sex\": 1, \"smoking\": 1, \"time\": 106, \"DEATH_EVENT\": 0}, {\"age\": 60.0, \"anaemia\": 1, \"creatinine_phosphokinase\": 1082, \"diabetes\": 1, \"ejection_fraction\": 45, \"high_blood_pressure\": 0, \"platelets\": 250000.0, \"serum_creatinine\": 6.1, \"serum_sodium\": 131, \"sex\": 1, \"smoking\": 0, \"time\": 107, \"DEATH_EVENT\": 0}, {\"age\": 46.0, \"anaemia\": 0, \"creatinine_phosphokinase\": 719, \"diabetes\": 0, \"ejection_fraction\": 40, \"high_blood_pressure\": 1, \"platelets\": 263358.03, \"serum_creatinine\": 1.18, \"serum_sodium\": 137, \"sex\": 0, \"smoking\": 0, \"time\": 107, \"DEATH_EVENT\": 0}, {\"age\": 63.0, \"anaemia\": 0, \"creatinine_phosphokinase\": 193, \"diabetes\": 0, \"ejection_fraction\": 60, \"high_blood_pressure\": 1, \"platelets\": 295000.0, \"serum_creatinine\": 1.3, \"serum_sodium\": 145, \"sex\": 1, \"smoking\": 1, \"time\": 107, \"DEATH_EVENT\": 0}, {\"age\": 81.0, \"anaemia\": 0, \"creatinine_phosphokinase\": 4540, \"diabetes\": 0, \"ejection_fraction\": 35, \"high_blood_pressure\": 0, \"platelets\": 231000.0, \"serum_creatinine\": 1.18, \"serum_sodium\": 137, \"sex\": 1, \"smoking\": 1, \"time\": 107, \"DEATH_EVENT\": 0}, {\"age\": 75.0, \"anaemia\": 0, \"creatinine_phosphokinase\": 582, \"diabetes\": 0, \"ejection_fraction\": 40, \"high_blood_pressure\": 0, \"platelets\": 263358.03, \"serum_creatinine\": 1.18, \"serum_sodium\": 137, \"sex\": 1, \"smoking\": 0, \"time\": 107, \"DEATH_EVENT\": 0}, {\"age\": 65.0, \"anaemia\": 1, \"creatinine_phosphokinase\": 59, \"diabetes\": 1, \"ejection_fraction\": 60, \"high_blood_pressure\": 0, \"platelets\": 172000.0, \"serum_creatinine\": 0.9, \"serum_sodium\": 137, \"sex\": 0, \"smoking\": 0, \"time\": 107, \"DEATH_EVENT\": 0}, {\"age\": 68.0, \"anaemia\": 1, \"creatinine_phosphokinase\": 646, \"diabetes\": 0, \"ejection_fraction\": 25, \"high_blood_pressure\": 0, \"platelets\": 305000.0, \"serum_creatinine\": 2.1, \"serum_sodium\": 130, \"sex\": 1, \"smoking\": 0, \"time\": 108, \"DEATH_EVENT\": 0}, {\"age\": 62.0, \"anaemia\": 0, \"creatinine_phosphokinase\": 281, \"diabetes\": 1, \"ejection_fraction\": 35, \"high_blood_pressure\": 0, \"platelets\": 221000.0, \"serum_creatinine\": 1.0, \"serum_sodium\": 136, \"sex\": 0, \"smoking\": 0, \"time\": 108, \"DEATH_EVENT\": 0}, {\"age\": 50.0, \"anaemia\": 0, \"creatinine_phosphokinase\": 1548, \"diabetes\": 0, \"ejection_fraction\": 30, \"high_blood_pressure\": 1, \"platelets\": 211000.0, \"serum_creatinine\": 0.8, \"serum_sodium\": 138, \"sex\": 1, \"smoking\": 0, \"time\": 108, \"DEATH_EVENT\": 0}, {\"age\": 80.0, \"anaemia\": 0, \"creatinine_phosphokinase\": 805, \"diabetes\": 0, \"ejection_fraction\": 38, \"high_blood_pressure\": 0, \"platelets\": 263358.03, \"serum_creatinine\": 1.1, \"serum_sodium\": 134, \"sex\": 1, \"smoking\": 0, \"time\": 109, \"DEATH_EVENT\": 1}, {\"age\": 46.0, \"anaemia\": 1, \"creatinine_phosphokinase\": 291, \"diabetes\": 0, \"ejection_fraction\": 35, \"high_blood_pressure\": 0, \"platelets\": 348000.0, \"serum_creatinine\": 0.9, \"serum_sodium\": 140, \"sex\": 0, \"smoking\": 0, \"time\": 109, \"DEATH_EVENT\": 0}, {\"age\": 50.0, \"anaemia\": 0, \"creatinine_phosphokinase\": 482, \"diabetes\": 1, \"ejection_fraction\": 30, \"high_blood_pressure\": 0, \"platelets\": 329000.0, \"serum_creatinine\": 0.9, \"serum_sodium\": 132, \"sex\": 0, \"smoking\": 0, \"time\": 109, \"DEATH_EVENT\": 0}, {\"age\": 61.0, \"anaemia\": 1, \"creatinine_phosphokinase\": 84, \"diabetes\": 0, \"ejection_fraction\": 40, \"high_blood_pressure\": 1, \"platelets\": 229000.0, \"serum_creatinine\": 0.9, \"serum_sodium\": 141, \"sex\": 0, \"smoking\": 0, \"time\": 110, \"DEATH_EVENT\": 0}, {\"age\": 72.0, \"anaemia\": 1, \"creatinine_phosphokinase\": 943, \"diabetes\": 0, \"ejection_fraction\": 25, \"high_blood_pressure\": 1, \"platelets\": 338000.0, \"serum_creatinine\": 1.7, \"serum_sodium\": 139, \"sex\": 1, \"smoking\": 1, \"time\": 111, \"DEATH_EVENT\": 1}, {\"age\": 50.0, \"anaemia\": 0, \"creatinine_phosphokinase\": 185, \"diabetes\": 0, \"ejection_fraction\": 30, \"high_blood_pressure\": 0, \"platelets\": 266000.0, \"serum_creatinine\": 0.7, \"serum_sodium\": 141, \"sex\": 1, \"smoking\": 1, \"time\": 112, \"DEATH_EVENT\": 0}, {\"age\": 52.0, \"anaemia\": 0, \"creatinine_phosphokinase\": 132, \"diabetes\": 0, \"ejection_fraction\": 30, \"high_blood_pressure\": 0, \"platelets\": 218000.0, \"serum_creatinine\": 0.7, \"serum_sodium\": 136, \"sex\": 1, \"smoking\": 1, \"time\": 112, \"DEATH_EVENT\": 0}, {\"age\": 64.0, \"anaemia\": 0, \"creatinine_phosphokinase\": 1610, \"diabetes\": 0, \"ejection_fraction\": 60, \"high_blood_pressure\": 0, \"platelets\": 242000.0, \"serum_creatinine\": 1.0, \"serum_sodium\": 137, \"sex\": 1, \"smoking\": 0, \"time\": 113, \"DEATH_EVENT\": 0}, {\"age\": 75.0, \"anaemia\": 1, \"creatinine_phosphokinase\": 582, \"diabetes\": 0, \"ejection_fraction\": 30, \"high_blood_pressure\": 0, \"platelets\": 225000.0, \"serum_creatinine\": 1.83, \"serum_sodium\": 134, \"sex\": 1, \"smoking\": 0, \"time\": 113, \"DEATH_EVENT\": 1}, {\"age\": 60.0, \"anaemia\": 0, \"creatinine_phosphokinase\": 2261, \"diabetes\": 0, \"ejection_fraction\": 35, \"high_blood_pressure\": 1, \"platelets\": 228000.0, \"serum_creatinine\": 0.9, \"serum_sodium\": 136, \"sex\": 1, \"smoking\": 0, \"time\": 115, \"DEATH_EVENT\": 0}, {\"age\": 72.0, \"anaemia\": 0, \"creatinine_phosphokinase\": 233, \"diabetes\": 0, \"ejection_fraction\": 45, \"high_blood_pressure\": 1, \"platelets\": 235000.0, \"serum_creatinine\": 2.5, \"serum_sodium\": 135, \"sex\": 0, \"smoking\": 0, \"time\": 115, \"DEATH_EVENT\": 1}, {\"age\": 62.0, \"anaemia\": 0, \"creatinine_phosphokinase\": 30, \"diabetes\": 1, \"ejection_fraction\": 60, \"high_blood_pressure\": 1, \"platelets\": 244000.0, \"serum_creatinine\": 0.9, \"serum_sodium\": 139, \"sex\": 1, \"smoking\": 0, \"time\": 117, \"DEATH_EVENT\": 0}, {\"age\": 50.0, \"anaemia\": 0, \"creatinine_phosphokinase\": 115, \"diabetes\": 0, \"ejection_fraction\": 45, \"high_blood_pressure\": 1, \"platelets\": 184000.0, \"serum_creatinine\": 0.9, \"serum_sodium\": 134, \"sex\": 1, \"smoking\": 1, \"time\": 118, \"DEATH_EVENT\": 0}, {\"age\": 50.0, \"anaemia\": 0, \"creatinine_phosphokinase\": 1846, \"diabetes\": 1, \"ejection_fraction\": 35, \"high_blood_pressure\": 0, \"platelets\": 263358.03, \"serum_creatinine\": 1.18, \"serum_sodium\": 137, \"sex\": 1, \"smoking\": 1, \"time\": 119, \"DEATH_EVENT\": 0}, {\"age\": 65.0, \"anaemia\": 1, \"creatinine_phosphokinase\": 335, \"diabetes\": 0, \"ejection_fraction\": 35, \"high_blood_pressure\": 1, \"platelets\": 235000.0, \"serum_creatinine\": 0.8, \"serum_sodium\": 136, \"sex\": 0, \"smoking\": 0, \"time\": 120, \"DEATH_EVENT\": 0}, {\"age\": 60.0, \"anaemia\": 1, \"creatinine_phosphokinase\": 231, \"diabetes\": 1, \"ejection_fraction\": 25, \"high_blood_pressure\": 0, \"platelets\": 194000.0, \"serum_creatinine\": 1.7, \"serum_sodium\": 140, \"sex\": 1, \"smoking\": 0, \"time\": 120, \"DEATH_EVENT\": 0}, {\"age\": 52.0, \"anaemia\": 1, \"creatinine_phosphokinase\": 58, \"diabetes\": 0, \"ejection_fraction\": 35, \"high_blood_pressure\": 0, \"platelets\": 277000.0, \"serum_creatinine\": 1.4, \"serum_sodium\": 136, \"sex\": 0, \"smoking\": 0, \"time\": 120, \"DEATH_EVENT\": 0}, {\"age\": 50.0, \"anaemia\": 0, \"creatinine_phosphokinase\": 250, \"diabetes\": 0, \"ejection_fraction\": 25, \"high_blood_pressure\": 0, \"platelets\": 262000.0, \"serum_creatinine\": 1.0, \"serum_sodium\": 136, \"sex\": 1, \"smoking\": 1, \"time\": 120, \"DEATH_EVENT\": 0}, {\"age\": 85.0, \"anaemia\": 1, \"creatinine_phosphokinase\": 910, \"diabetes\": 0, \"ejection_fraction\": 50, \"high_blood_pressure\": 0, \"platelets\": 235000.0, \"serum_creatinine\": 1.3, \"serum_sodium\": 134, \"sex\": 1, \"smoking\": 0, \"time\": 121, \"DEATH_EVENT\": 0}, {\"age\": 59.0, \"anaemia\": 1, \"creatinine_phosphokinase\": 129, \"diabetes\": 0, \"ejection_fraction\": 45, \"high_blood_pressure\": 1, \"platelets\": 362000.0, \"serum_creatinine\": 1.1, \"serum_sodium\": 139, \"sex\": 1, \"smoking\": 1, \"time\": 121, \"DEATH_EVENT\": 0}, {\"age\": 66.0, \"anaemia\": 1, \"creatinine_phosphokinase\": 72, \"diabetes\": 0, \"ejection_fraction\": 40, \"high_blood_pressure\": 1, \"platelets\": 242000.0, \"serum_creatinine\": 1.2, \"serum_sodium\": 134, \"sex\": 1, \"smoking\": 0, \"time\": 121, \"DEATH_EVENT\": 0}, {\"age\": 45.0, \"anaemia\": 1, \"creatinine_phosphokinase\": 130, \"diabetes\": 0, \"ejection_fraction\": 35, \"high_blood_pressure\": 0, \"platelets\": 174000.0, \"serum_creatinine\": 0.8, \"serum_sodium\": 139, \"sex\": 1, \"smoking\": 1, \"time\": 121, \"DEATH_EVENT\": 0}, {\"age\": 63.0, \"anaemia\": 1, \"creatinine_phosphokinase\": 582, \"diabetes\": 0, \"ejection_fraction\": 40, \"high_blood_pressure\": 0, \"platelets\": 448000.0, \"serum_creatinine\": 0.9, \"serum_sodium\": 137, \"sex\": 1, \"smoking\": 1, \"time\": 123, \"DEATH_EVENT\": 0}, {\"age\": 50.0, \"anaemia\": 1, \"creatinine_phosphokinase\": 2334, \"diabetes\": 1, \"ejection_fraction\": 35, \"high_blood_pressure\": 0, \"platelets\": 75000.0, \"serum_creatinine\": 0.9, \"serum_sodium\": 142, \"sex\": 0, \"smoking\": 0, \"time\": 126, \"DEATH_EVENT\": 1}, {\"age\": 45.0, \"anaemia\": 0, \"creatinine_phosphokinase\": 2442, \"diabetes\": 1, \"ejection_fraction\": 30, \"high_blood_pressure\": 0, \"platelets\": 334000.0, \"serum_creatinine\": 1.1, \"serum_sodium\": 139, \"sex\": 1, \"smoking\": 0, \"time\": 129, \"DEATH_EVENT\": 1}, {\"age\": 80.0, \"anaemia\": 0, \"creatinine_phosphokinase\": 776, \"diabetes\": 1, \"ejection_fraction\": 38, \"high_blood_pressure\": 1, \"platelets\": 192000.0, \"serum_creatinine\": 1.3, \"serum_sodium\": 135, \"sex\": 0, \"smoking\": 0, \"time\": 130, \"DEATH_EVENT\": 1}, {\"age\": 53.0, \"anaemia\": 0, \"creatinine_phosphokinase\": 196, \"diabetes\": 0, \"ejection_fraction\": 60, \"high_blood_pressure\": 0, \"platelets\": 220000.0, \"serum_creatinine\": 0.7, \"serum_sodium\": 133, \"sex\": 1, \"smoking\": 1, \"time\": 134, \"DEATH_EVENT\": 0}, {\"age\": 59.0, \"anaemia\": 0, \"creatinine_phosphokinase\": 66, \"diabetes\": 1, \"ejection_fraction\": 20, \"high_blood_pressure\": 0, \"platelets\": 70000.0, \"serum_creatinine\": 2.4, \"serum_sodium\": 134, \"sex\": 1, \"smoking\": 0, \"time\": 135, \"DEATH_EVENT\": 1}, {\"age\": 65.0, \"anaemia\": 0, \"creatinine_phosphokinase\": 582, \"diabetes\": 1, \"ejection_fraction\": 40, \"high_blood_pressure\": 0, \"platelets\": 270000.0, \"serum_creatinine\": 1.0, \"serum_sodium\": 138, \"sex\": 0, \"smoking\": 0, \"time\": 140, \"DEATH_EVENT\": 0}, {\"age\": 70.0, \"anaemia\": 0, \"creatinine_phosphokinase\": 835, \"diabetes\": 0, \"ejection_fraction\": 35, \"high_blood_pressure\": 1, \"platelets\": 305000.0, \"serum_creatinine\": 0.8, \"serum_sodium\": 133, \"sex\": 0, \"smoking\": 0, \"time\": 145, \"DEATH_EVENT\": 0}, {\"age\": 51.0, \"anaemia\": 1, \"creatinine_phosphokinase\": 582, \"diabetes\": 1, \"ejection_fraction\": 35, \"high_blood_pressure\": 0, \"platelets\": 263358.03, \"serum_creatinine\": 1.5, \"serum_sodium\": 136, \"sex\": 1, \"smoking\": 1, \"time\": 145, \"DEATH_EVENT\": 0}, {\"age\": 52.0, \"anaemia\": 0, \"creatinine_phosphokinase\": 3966, \"diabetes\": 0, \"ejection_fraction\": 40, \"high_blood_pressure\": 0, \"platelets\": 325000.0, \"serum_creatinine\": 0.9, \"serum_sodium\": 140, \"sex\": 1, \"smoking\": 1, \"time\": 146, \"DEATH_EVENT\": 0}, {\"age\": 70.0, \"anaemia\": 1, \"creatinine_phosphokinase\": 171, \"diabetes\": 0, \"ejection_fraction\": 60, \"high_blood_pressure\": 1, \"platelets\": 176000.0, \"serum_creatinine\": 1.1, \"serum_sodium\": 145, \"sex\": 1, \"smoking\": 1, \"time\": 146, \"DEATH_EVENT\": 0}, {\"age\": 50.0, \"anaemia\": 1, \"creatinine_phosphokinase\": 115, \"diabetes\": 0, \"ejection_fraction\": 20, \"high_blood_pressure\": 0, \"platelets\": 189000.0, \"serum_creatinine\": 0.8, \"serum_sodium\": 139, \"sex\": 1, \"smoking\": 0, \"time\": 146, \"DEATH_EVENT\": 0}, {\"age\": 65.0, \"anaemia\": 0, \"creatinine_phosphokinase\": 198, \"diabetes\": 1, \"ejection_fraction\": 35, \"high_blood_pressure\": 1, \"platelets\": 281000.0, \"serum_creatinine\": 0.9, \"serum_sodium\": 137, \"sex\": 1, \"smoking\": 1, \"time\": 146, \"DEATH_EVENT\": 0}, {\"age\": 60.0, \"anaemia\": 1, \"creatinine_phosphokinase\": 95, \"diabetes\": 0, \"ejection_fraction\": 60, \"high_blood_pressure\": 0, \"platelets\": 337000.0, \"serum_creatinine\": 1.0, \"serum_sodium\": 138, \"sex\": 1, \"smoking\": 1, \"time\": 146, \"DEATH_EVENT\": 0}, {\"age\": 69.0, \"anaemia\": 0, \"creatinine_phosphokinase\": 1419, \"diabetes\": 0, \"ejection_fraction\": 40, \"high_blood_pressure\": 0, \"platelets\": 105000.0, \"serum_creatinine\": 1.0, \"serum_sodium\": 135, \"sex\": 1, \"smoking\": 1, \"time\": 147, \"DEATH_EVENT\": 0}, {\"age\": 49.0, \"anaemia\": 1, \"creatinine_phosphokinase\": 69, \"diabetes\": 0, \"ejection_fraction\": 50, \"high_blood_pressure\": 0, \"platelets\": 132000.0, \"serum_creatinine\": 1.0, \"serum_sodium\": 140, \"sex\": 0, \"smoking\": 0, \"time\": 147, \"DEATH_EVENT\": 0}, {\"age\": 63.0, \"anaemia\": 1, \"creatinine_phosphokinase\": 122, \"diabetes\": 1, \"ejection_fraction\": 60, \"high_blood_pressure\": 0, \"platelets\": 267000.0, \"serum_creatinine\": 1.2, \"serum_sodium\": 145, \"sex\": 1, \"smoking\": 0, \"time\": 147, \"DEATH_EVENT\": 0}, {\"age\": 55.0, \"anaemia\": 0, \"creatinine_phosphokinase\": 835, \"diabetes\": 0, \"ejection_fraction\": 40, \"high_blood_pressure\": 0, \"platelets\": 279000.0, \"serum_creatinine\": 0.7, \"serum_sodium\": 140, \"sex\": 1, \"smoking\": 1, \"time\": 147, \"DEATH_EVENT\": 0}, {\"age\": 40.0, \"anaemia\": 0, \"creatinine_phosphokinase\": 478, \"diabetes\": 1, \"ejection_fraction\": 30, \"high_blood_pressure\": 0, \"platelets\": 303000.0, \"serum_creatinine\": 0.9, \"serum_sodium\": 136, \"sex\": 1, \"smoking\": 0, \"time\": 148, \"DEATH_EVENT\": 0}, {\"age\": 59.0, \"anaemia\": 1, \"creatinine_phosphokinase\": 176, \"diabetes\": 1, \"ejection_fraction\": 25, \"high_blood_pressure\": 0, \"platelets\": 221000.0, \"serum_creatinine\": 1.0, \"serum_sodium\": 136, \"sex\": 1, \"smoking\": 1, \"time\": 150, \"DEATH_EVENT\": 1}, {\"age\": 65.0, \"anaemia\": 0, \"creatinine_phosphokinase\": 395, \"diabetes\": 1, \"ejection_fraction\": 25, \"high_blood_pressure\": 0, \"platelets\": 265000.0, \"serum_creatinine\": 1.2, \"serum_sodium\": 136, \"sex\": 1, \"smoking\": 1, \"time\": 154, \"DEATH_EVENT\": 1}, {\"age\": 75.0, \"anaemia\": 0, \"creatinine_phosphokinase\": 99, \"diabetes\": 0, \"ejection_fraction\": 38, \"high_blood_pressure\": 1, \"platelets\": 224000.0, \"serum_creatinine\": 2.5, \"serum_sodium\": 134, \"sex\": 1, \"smoking\": 0, \"time\": 162, \"DEATH_EVENT\": 1}, {\"age\": 58.0, \"anaemia\": 1, \"creatinine_phosphokinase\": 145, \"diabetes\": 0, \"ejection_fraction\": 25, \"high_blood_pressure\": 0, \"platelets\": 219000.0, \"serum_creatinine\": 1.2, \"serum_sodium\": 137, \"sex\": 1, \"smoking\": 1, \"time\": 170, \"DEATH_EVENT\": 1}, {\"age\": 60.667, \"anaemia\": 1, \"creatinine_phosphokinase\": 104, \"diabetes\": 1, \"ejection_fraction\": 30, \"high_blood_pressure\": 0, \"platelets\": 389000.0, \"serum_creatinine\": 1.5, \"serum_sodium\": 136, \"sex\": 1, \"smoking\": 0, \"time\": 171, \"DEATH_EVENT\": 1}, {\"age\": 50.0, \"anaemia\": 0, \"creatinine_phosphokinase\": 582, \"diabetes\": 0, \"ejection_fraction\": 50, \"high_blood_pressure\": 0, \"platelets\": 153000.0, \"serum_creatinine\": 0.6, \"serum_sodium\": 134, \"sex\": 0, \"smoking\": 0, \"time\": 172, \"DEATH_EVENT\": 1}, {\"age\": 60.0, \"anaemia\": 0, \"creatinine_phosphokinase\": 1896, \"diabetes\": 1, \"ejection_fraction\": 25, \"high_blood_pressure\": 0, \"platelets\": 365000.0, \"serum_creatinine\": 2.1, \"serum_sodium\": 144, \"sex\": 0, \"smoking\": 0, \"time\": 172, \"DEATH_EVENT\": 1}, {\"age\": 60.667, \"anaemia\": 1, \"creatinine_phosphokinase\": 151, \"diabetes\": 1, \"ejection_fraction\": 40, \"high_blood_pressure\": 1, \"platelets\": 201000.0, \"serum_creatinine\": 1.0, \"serum_sodium\": 136, \"sex\": 0, \"smoking\": 0, \"time\": 172, \"DEATH_EVENT\": 0}, {\"age\": 40.0, \"anaemia\": 0, \"creatinine_phosphokinase\": 244, \"diabetes\": 0, \"ejection_fraction\": 45, \"high_blood_pressure\": 1, \"platelets\": 275000.0, \"serum_creatinine\": 0.9, \"serum_sodium\": 140, \"sex\": 0, \"smoking\": 0, \"time\": 174, \"DEATH_EVENT\": 0}, {\"age\": 80.0, \"anaemia\": 0, \"creatinine_phosphokinase\": 582, \"diabetes\": 1, \"ejection_fraction\": 35, \"high_blood_pressure\": 0, \"platelets\": 350000.0, \"serum_creatinine\": 2.1, \"serum_sodium\": 134, \"sex\": 1, \"smoking\": 0, \"time\": 174, \"DEATH_EVENT\": 0}, {\"age\": 64.0, \"anaemia\": 1, \"creatinine_phosphokinase\": 62, \"diabetes\": 0, \"ejection_fraction\": 60, \"high_blood_pressure\": 0, \"platelets\": 309000.0, \"serum_creatinine\": 1.5, \"serum_sodium\": 135, \"sex\": 0, \"smoking\": 0, \"time\": 174, \"DEATH_EVENT\": 0}, {\"age\": 50.0, \"anaemia\": 1, \"creatinine_phosphokinase\": 121, \"diabetes\": 1, \"ejection_fraction\": 40, \"high_blood_pressure\": 0, \"platelets\": 260000.0, \"serum_creatinine\": 0.7, \"serum_sodium\": 130, \"sex\": 1, \"smoking\": 0, \"time\": 175, \"DEATH_EVENT\": 0}, {\"age\": 73.0, \"anaemia\": 1, \"creatinine_phosphokinase\": 231, \"diabetes\": 1, \"ejection_fraction\": 30, \"high_blood_pressure\": 0, \"platelets\": 160000.0, \"serum_creatinine\": 1.18, \"serum_sodium\": 142, \"sex\": 1, \"smoking\": 1, \"time\": 180, \"DEATH_EVENT\": 0}, {\"age\": 45.0, \"anaemia\": 0, \"creatinine_phosphokinase\": 582, \"diabetes\": 0, \"ejection_fraction\": 20, \"high_blood_pressure\": 1, \"platelets\": 126000.0, \"serum_creatinine\": 1.6, \"serum_sodium\": 135, \"sex\": 1, \"smoking\": 0, \"time\": 180, \"DEATH_EVENT\": 1}, {\"age\": 77.0, \"anaemia\": 1, \"creatinine_phosphokinase\": 418, \"diabetes\": 0, \"ejection_fraction\": 45, \"high_blood_pressure\": 0, \"platelets\": 223000.0, \"serum_creatinine\": 1.8, \"serum_sodium\": 145, \"sex\": 1, \"smoking\": 0, \"time\": 180, \"DEATH_EVENT\": 1}, {\"age\": 45.0, \"anaemia\": 0, \"creatinine_phosphokinase\": 582, \"diabetes\": 1, \"ejection_fraction\": 38, \"high_blood_pressure\": 1, \"platelets\": 263358.03, \"serum_creatinine\": 1.18, \"serum_sodium\": 137, \"sex\": 0, \"smoking\": 0, \"time\": 185, \"DEATH_EVENT\": 0}, {\"age\": 65.0, \"anaemia\": 0, \"creatinine_phosphokinase\": 167, \"diabetes\": 0, \"ejection_fraction\": 30, \"high_blood_pressure\": 0, \"platelets\": 259000.0, \"serum_creatinine\": 0.8, \"serum_sodium\": 138, \"sex\": 0, \"smoking\": 0, \"time\": 186, \"DEATH_EVENT\": 0}, {\"age\": 50.0, \"anaemia\": 1, \"creatinine_phosphokinase\": 582, \"diabetes\": 1, \"ejection_fraction\": 20, \"high_blood_pressure\": 1, \"platelets\": 279000.0, \"serum_creatinine\": 1.0, \"serum_sodium\": 134, \"sex\": 0, \"smoking\": 0, \"time\": 186, \"DEATH_EVENT\": 0}, {\"age\": 60.0, \"anaemia\": 0, \"creatinine_phosphokinase\": 1211, \"diabetes\": 1, \"ejection_fraction\": 35, \"high_blood_pressure\": 0, \"platelets\": 263358.03, \"serum_creatinine\": 1.8, \"serum_sodium\": 113, \"sex\": 1, \"smoking\": 1, \"time\": 186, \"DEATH_EVENT\": 0}, {\"age\": 63.0, \"anaemia\": 1, \"creatinine_phosphokinase\": 1767, \"diabetes\": 0, \"ejection_fraction\": 45, \"high_blood_pressure\": 0, \"platelets\": 73000.0, \"serum_creatinine\": 0.7, \"serum_sodium\": 137, \"sex\": 1, \"smoking\": 0, \"time\": 186, \"DEATH_EVENT\": 0}, {\"age\": 45.0, \"anaemia\": 0, \"creatinine_phosphokinase\": 308, \"diabetes\": 1, \"ejection_fraction\": 60, \"high_blood_pressure\": 1, \"platelets\": 377000.0, \"serum_creatinine\": 1.0, \"serum_sodium\": 136, \"sex\": 1, \"smoking\": 0, \"time\": 186, \"DEATH_EVENT\": 0}, {\"age\": 70.0, \"anaemia\": 0, \"creatinine_phosphokinase\": 97, \"diabetes\": 0, \"ejection_fraction\": 60, \"high_blood_pressure\": 1, \"platelets\": 220000.0, \"serum_creatinine\": 0.9, \"serum_sodium\": 138, \"sex\": 1, \"smoking\": 0, \"time\": 186, \"DEATH_EVENT\": 0}, {\"age\": 60.0, \"anaemia\": 0, \"creatinine_phosphokinase\": 59, \"diabetes\": 0, \"ejection_fraction\": 25, \"high_blood_pressure\": 1, \"platelets\": 212000.0, \"serum_creatinine\": 3.5, \"serum_sodium\": 136, \"sex\": 1, \"smoking\": 1, \"time\": 187, \"DEATH_EVENT\": 0}, {\"age\": 78.0, \"anaemia\": 1, \"creatinine_phosphokinase\": 64, \"diabetes\": 0, \"ejection_fraction\": 40, \"high_blood_pressure\": 0, \"platelets\": 277000.0, \"serum_creatinine\": 0.7, \"serum_sodium\": 137, \"sex\": 1, \"smoking\": 1, \"time\": 187, \"DEATH_EVENT\": 0}, {\"age\": 50.0, \"anaemia\": 1, \"creatinine_phosphokinase\": 167, \"diabetes\": 1, \"ejection_fraction\": 45, \"high_blood_pressure\": 0, \"platelets\": 362000.0, \"serum_creatinine\": 1.0, \"serum_sodium\": 136, \"sex\": 0, \"smoking\": 0, \"time\": 187, \"DEATH_EVENT\": 0}, {\"age\": 40.0, \"anaemia\": 1, \"creatinine_phosphokinase\": 101, \"diabetes\": 0, \"ejection_fraction\": 40, \"high_blood_pressure\": 0, \"platelets\": 226000.0, \"serum_creatinine\": 0.8, \"serum_sodium\": 141, \"sex\": 0, \"smoking\": 0, \"time\": 187, \"DEATH_EVENT\": 0}, {\"age\": 85.0, \"anaemia\": 0, \"creatinine_phosphokinase\": 212, \"diabetes\": 0, \"ejection_fraction\": 38, \"high_blood_pressure\": 0, \"platelets\": 186000.0, \"serum_creatinine\": 0.9, \"serum_sodium\": 136, \"sex\": 1, \"smoking\": 0, \"time\": 187, \"DEATH_EVENT\": 0}, {\"age\": 60.0, \"anaemia\": 1, \"creatinine_phosphokinase\": 2281, \"diabetes\": 1, \"ejection_fraction\": 40, \"high_blood_pressure\": 0, \"platelets\": 283000.0, \"serum_creatinine\": 1.0, \"serum_sodium\": 141, \"sex\": 0, \"smoking\": 0, \"time\": 187, \"DEATH_EVENT\": 0}, {\"age\": 49.0, \"anaemia\": 0, \"creatinine_phosphokinase\": 972, \"diabetes\": 1, \"ejection_fraction\": 35, \"high_blood_pressure\": 1, \"platelets\": 268000.0, \"serum_creatinine\": 0.8, \"serum_sodium\": 130, \"sex\": 0, \"smoking\": 0, \"time\": 187, \"DEATH_EVENT\": 0}, {\"age\": 70.0, \"anaemia\": 0, \"creatinine_phosphokinase\": 212, \"diabetes\": 1, \"ejection_fraction\": 17, \"high_blood_pressure\": 1, \"platelets\": 389000.0, \"serum_creatinine\": 1.0, \"serum_sodium\": 136, \"sex\": 1, \"smoking\": 1, \"time\": 188, \"DEATH_EVENT\": 0}, {\"age\": 50.0, \"anaemia\": 0, \"creatinine_phosphokinase\": 582, \"diabetes\": 0, \"ejection_fraction\": 62, \"high_blood_pressure\": 1, \"platelets\": 147000.0, \"serum_creatinine\": 0.8, \"serum_sodium\": 140, \"sex\": 1, \"smoking\": 1, \"time\": 192, \"DEATH_EVENT\": 0}, {\"age\": 78.0, \"anaemia\": 0, \"creatinine_phosphokinase\": 224, \"diabetes\": 0, \"ejection_fraction\": 50, \"high_blood_pressure\": 0, \"platelets\": 481000.0, \"serum_creatinine\": 1.4, \"serum_sodium\": 138, \"sex\": 1, \"smoking\": 1, \"time\": 192, \"DEATH_EVENT\": 0}, {\"age\": 48.0, \"anaemia\": 1, \"creatinine_phosphokinase\": 131, \"diabetes\": 1, \"ejection_fraction\": 30, \"high_blood_pressure\": 1, \"platelets\": 244000.0, \"serum_creatinine\": 1.6, \"serum_sodium\": 130, \"sex\": 0, \"smoking\": 0, \"time\": 193, \"DEATH_EVENT\": 1}, {\"age\": 65.0, \"anaemia\": 1, \"creatinine_phosphokinase\": 135, \"diabetes\": 0, \"ejection_fraction\": 35, \"high_blood_pressure\": 1, \"platelets\": 290000.0, \"serum_creatinine\": 0.8, \"serum_sodium\": 134, \"sex\": 1, \"smoking\": 0, \"time\": 194, \"DEATH_EVENT\": 0}, {\"age\": 73.0, \"anaemia\": 0, \"creatinine_phosphokinase\": 582, \"diabetes\": 0, \"ejection_fraction\": 35, \"high_blood_pressure\": 1, \"platelets\": 203000.0, \"serum_creatinine\": 1.3, \"serum_sodium\": 134, \"sex\": 1, \"smoking\": 0, \"time\": 195, \"DEATH_EVENT\": 0}, {\"age\": 70.0, \"anaemia\": 0, \"creatinine_phosphokinase\": 1202, \"diabetes\": 0, \"ejection_fraction\": 50, \"high_blood_pressure\": 1, \"platelets\": 358000.0, \"serum_creatinine\": 0.9, \"serum_sodium\": 141, \"sex\": 0, \"smoking\": 0, \"time\": 196, \"DEATH_EVENT\": 0}, {\"age\": 54.0, \"anaemia\": 1, \"creatinine_phosphokinase\": 427, \"diabetes\": 0, \"ejection_fraction\": 70, \"high_blood_pressure\": 1, \"platelets\": 151000.0, \"serum_creatinine\": 9.0, \"serum_sodium\": 137, \"sex\": 0, \"smoking\": 0, \"time\": 196, \"DEATH_EVENT\": 1}, {\"age\": 68.0, \"anaemia\": 1, \"creatinine_phosphokinase\": 1021, \"diabetes\": 1, \"ejection_fraction\": 35, \"high_blood_pressure\": 0, \"platelets\": 271000.0, \"serum_creatinine\": 1.1, \"serum_sodium\": 134, \"sex\": 1, \"smoking\": 0, \"time\": 197, \"DEATH_EVENT\": 0}, {\"age\": 55.0, \"anaemia\": 0, \"creatinine_phosphokinase\": 582, \"diabetes\": 1, \"ejection_fraction\": 35, \"high_blood_pressure\": 1, \"platelets\": 371000.0, \"serum_creatinine\": 0.7, \"serum_sodium\": 140, \"sex\": 0, \"smoking\": 0, \"time\": 197, \"DEATH_EVENT\": 0}, {\"age\": 73.0, \"anaemia\": 0, \"creatinine_phosphokinase\": 582, \"diabetes\": 0, \"ejection_fraction\": 20, \"high_blood_pressure\": 0, \"platelets\": 263358.03, \"serum_creatinine\": 1.83, \"serum_sodium\": 134, \"sex\": 1, \"smoking\": 0, \"time\": 198, \"DEATH_EVENT\": 1}, {\"age\": 65.0, \"anaemia\": 0, \"creatinine_phosphokinase\": 118, \"diabetes\": 0, \"ejection_fraction\": 50, \"high_blood_pressure\": 0, \"platelets\": 194000.0, \"serum_creatinine\": 1.1, \"serum_sodium\": 145, \"sex\": 1, \"smoking\": 1, \"time\": 200, \"DEATH_EVENT\": 0}, {\"age\": 42.0, \"anaemia\": 1, \"creatinine_phosphokinase\": 86, \"diabetes\": 0, \"ejection_fraction\": 35, \"high_blood_pressure\": 0, \"platelets\": 365000.0, \"serum_creatinine\": 1.1, \"serum_sodium\": 139, \"sex\": 1, \"smoking\": 1, \"time\": 201, \"DEATH_EVENT\": 0}, {\"age\": 47.0, \"anaemia\": 0, \"creatinine_phosphokinase\": 582, \"diabetes\": 0, \"ejection_fraction\": 25, \"high_blood_pressure\": 0, \"platelets\": 130000.0, \"serum_creatinine\": 0.8, \"serum_sodium\": 134, \"sex\": 1, \"smoking\": 0, \"time\": 201, \"DEATH_EVENT\": 0}, {\"age\": 58.0, \"anaemia\": 0, \"creatinine_phosphokinase\": 582, \"diabetes\": 1, \"ejection_fraction\": 25, \"high_blood_pressure\": 0, \"platelets\": 504000.0, \"serum_creatinine\": 1.0, \"serum_sodium\": 138, \"sex\": 1, \"smoking\": 0, \"time\": 205, \"DEATH_EVENT\": 0}, {\"age\": 75.0, \"anaemia\": 0, \"creatinine_phosphokinase\": 675, \"diabetes\": 1, \"ejection_fraction\": 60, \"high_blood_pressure\": 0, \"platelets\": 265000.0, \"serum_creatinine\": 1.4, \"serum_sodium\": 125, \"sex\": 0, \"smoking\": 0, \"time\": 205, \"DEATH_EVENT\": 0}, {\"age\": 58.0, \"anaemia\": 1, \"creatinine_phosphokinase\": 57, \"diabetes\": 0, \"ejection_fraction\": 25, \"high_blood_pressure\": 0, \"platelets\": 189000.0, \"serum_creatinine\": 1.3, \"serum_sodium\": 132, \"sex\": 1, \"smoking\": 1, \"time\": 205, \"DEATH_EVENT\": 0}, {\"age\": 55.0, \"anaemia\": 1, \"creatinine_phosphokinase\": 2794, \"diabetes\": 0, \"ejection_fraction\": 35, \"high_blood_pressure\": 1, \"platelets\": 141000.0, \"serum_creatinine\": 1.0, \"serum_sodium\": 140, \"sex\": 1, \"smoking\": 0, \"time\": 206, \"DEATH_EVENT\": 0}, {\"age\": 65.0, \"anaemia\": 0, \"creatinine_phosphokinase\": 56, \"diabetes\": 0, \"ejection_fraction\": 25, \"high_blood_pressure\": 0, \"platelets\": 237000.0, \"serum_creatinine\": 5.0, \"serum_sodium\": 130, \"sex\": 0, \"smoking\": 0, \"time\": 207, \"DEATH_EVENT\": 0}, {\"age\": 72.0, \"anaemia\": 0, \"creatinine_phosphokinase\": 211, \"diabetes\": 0, \"ejection_fraction\": 25, \"high_blood_pressure\": 0, \"platelets\": 274000.0, \"serum_creatinine\": 1.2, \"serum_sodium\": 134, \"sex\": 0, \"smoking\": 0, \"time\": 207, \"DEATH_EVENT\": 0}, {\"age\": 60.0, \"anaemia\": 0, \"creatinine_phosphokinase\": 166, \"diabetes\": 0, \"ejection_fraction\": 30, \"high_blood_pressure\": 0, \"platelets\": 62000.0, \"serum_creatinine\": 1.7, \"serum_sodium\": 127, \"sex\": 0, \"smoking\": 0, \"time\": 207, \"DEATH_EVENT\": 1}, {\"age\": 70.0, \"anaemia\": 0, \"creatinine_phosphokinase\": 93, \"diabetes\": 0, \"ejection_fraction\": 35, \"high_blood_pressure\": 0, \"platelets\": 185000.0, \"serum_creatinine\": 1.1, \"serum_sodium\": 134, \"sex\": 1, \"smoking\": 1, \"time\": 208, \"DEATH_EVENT\": 0}, {\"age\": 40.0, \"anaemia\": 1, \"creatinine_phosphokinase\": 129, \"diabetes\": 0, \"ejection_fraction\": 35, \"high_blood_pressure\": 0, \"platelets\": 255000.0, \"serum_creatinine\": 0.9, \"serum_sodium\": 137, \"sex\": 1, \"smoking\": 0, \"time\": 209, \"DEATH_EVENT\": 0}, {\"age\": 53.0, \"anaemia\": 1, \"creatinine_phosphokinase\": 707, \"diabetes\": 0, \"ejection_fraction\": 38, \"high_blood_pressure\": 0, \"platelets\": 330000.0, \"serum_creatinine\": 1.4, \"serum_sodium\": 137, \"sex\": 1, \"smoking\": 1, \"time\": 209, \"DEATH_EVENT\": 0}, {\"age\": 53.0, \"anaemia\": 1, \"creatinine_phosphokinase\": 582, \"diabetes\": 0, \"ejection_fraction\": 45, \"high_blood_pressure\": 0, \"platelets\": 305000.0, \"serum_creatinine\": 1.1, \"serum_sodium\": 137, \"sex\": 1, \"smoking\": 1, \"time\": 209, \"DEATH_EVENT\": 0}, {\"age\": 77.0, \"anaemia\": 1, \"creatinine_phosphokinase\": 109, \"diabetes\": 0, \"ejection_fraction\": 50, \"high_blood_pressure\": 1, \"platelets\": 406000.0, \"serum_creatinine\": 1.1, \"serum_sodium\": 137, \"sex\": 1, \"smoking\": 0, \"time\": 209, \"DEATH_EVENT\": 0}, {\"age\": 75.0, \"anaemia\": 0, \"creatinine_phosphokinase\": 119, \"diabetes\": 0, \"ejection_fraction\": 50, \"high_blood_pressure\": 1, \"platelets\": 248000.0, \"serum_creatinine\": 1.1, \"serum_sodium\": 148, \"sex\": 1, \"smoking\": 0, \"time\": 209, \"DEATH_EVENT\": 0}, {\"age\": 70.0, \"anaemia\": 0, \"creatinine_phosphokinase\": 232, \"diabetes\": 0, \"ejection_fraction\": 30, \"high_blood_pressure\": 0, \"platelets\": 173000.0, \"serum_creatinine\": 1.2, \"serum_sodium\": 132, \"sex\": 1, \"smoking\": 0, \"time\": 210, \"DEATH_EVENT\": 0}, {\"age\": 65.0, \"anaemia\": 1, \"creatinine_phosphokinase\": 720, \"diabetes\": 1, \"ejection_fraction\": 40, \"high_blood_pressure\": 0, \"platelets\": 257000.0, \"serum_creatinine\": 1.0, \"serum_sodium\": 136, \"sex\": 0, \"smoking\": 0, \"time\": 210, \"DEATH_EVENT\": 0}, {\"age\": 55.0, \"anaemia\": 1, \"creatinine_phosphokinase\": 180, \"diabetes\": 0, \"ejection_fraction\": 45, \"high_blood_pressure\": 0, \"platelets\": 263358.03, \"serum_creatinine\": 1.18, \"serum_sodium\": 137, \"sex\": 1, \"smoking\": 1, \"time\": 211, \"DEATH_EVENT\": 0}, {\"age\": 70.0, \"anaemia\": 0, \"creatinine_phosphokinase\": 81, \"diabetes\": 1, \"ejection_fraction\": 35, \"high_blood_pressure\": 1, \"platelets\": 533000.0, \"serum_creatinine\": 1.3, \"serum_sodium\": 139, \"sex\": 0, \"smoking\": 0, \"time\": 212, \"DEATH_EVENT\": 0}, {\"age\": 65.0, \"anaemia\": 0, \"creatinine_phosphokinase\": 582, \"diabetes\": 1, \"ejection_fraction\": 30, \"high_blood_pressure\": 0, \"platelets\": 249000.0, \"serum_creatinine\": 1.3, \"serum_sodium\": 136, \"sex\": 1, \"smoking\": 1, \"time\": 212, \"DEATH_EVENT\": 0}, {\"age\": 40.0, \"anaemia\": 0, \"creatinine_phosphokinase\": 90, \"diabetes\": 0, \"ejection_fraction\": 35, \"high_blood_pressure\": 0, \"platelets\": 255000.0, \"serum_creatinine\": 1.1, \"serum_sodium\": 136, \"sex\": 1, \"smoking\": 1, \"time\": 212, \"DEATH_EVENT\": 0}, {\"age\": 73.0, \"anaemia\": 1, \"creatinine_phosphokinase\": 1185, \"diabetes\": 0, \"ejection_fraction\": 40, \"high_blood_pressure\": 1, \"platelets\": 220000.0, \"serum_creatinine\": 0.9, \"serum_sodium\": 141, \"sex\": 0, \"smoking\": 0, \"time\": 213, \"DEATH_EVENT\": 0}, {\"age\": 54.0, \"anaemia\": 0, \"creatinine_phosphokinase\": 582, \"diabetes\": 1, \"ejection_fraction\": 38, \"high_blood_pressure\": 0, \"platelets\": 264000.0, \"serum_creatinine\": 1.8, \"serum_sodium\": 134, \"sex\": 1, \"smoking\": 0, \"time\": 213, \"DEATH_EVENT\": 0}, {\"age\": 61.0, \"anaemia\": 1, \"creatinine_phosphokinase\": 80, \"diabetes\": 1, \"ejection_fraction\": 38, \"high_blood_pressure\": 0, \"platelets\": 282000.0, \"serum_creatinine\": 1.4, \"serum_sodium\": 137, \"sex\": 1, \"smoking\": 0, \"time\": 213, \"DEATH_EVENT\": 0}, {\"age\": 55.0, \"anaemia\": 0, \"creatinine_phosphokinase\": 2017, \"diabetes\": 0, \"ejection_fraction\": 25, \"high_blood_pressure\": 0, \"platelets\": 314000.0, \"serum_creatinine\": 1.1, \"serum_sodium\": 138, \"sex\": 1, \"smoking\": 0, \"time\": 214, \"DEATH_EVENT\": 1}, {\"age\": 64.0, \"anaemia\": 0, \"creatinine_phosphokinase\": 143, \"diabetes\": 0, \"ejection_fraction\": 25, \"high_blood_pressure\": 0, \"platelets\": 246000.0, \"serum_creatinine\": 2.4, \"serum_sodium\": 135, \"sex\": 1, \"smoking\": 0, \"time\": 214, \"DEATH_EVENT\": 0}, {\"age\": 40.0, \"anaemia\": 0, \"creatinine_phosphokinase\": 624, \"diabetes\": 0, \"ejection_fraction\": 35, \"high_blood_pressure\": 0, \"platelets\": 301000.0, \"serum_creatinine\": 1.0, \"serum_sodium\": 142, \"sex\": 1, \"smoking\": 1, \"time\": 214, \"DEATH_EVENT\": 0}, {\"age\": 53.0, \"anaemia\": 0, \"creatinine_phosphokinase\": 207, \"diabetes\": 1, \"ejection_fraction\": 40, \"high_blood_pressure\": 0, \"platelets\": 223000.0, \"serum_creatinine\": 1.2, \"serum_sodium\": 130, \"sex\": 0, \"smoking\": 0, \"time\": 214, \"DEATH_EVENT\": 0}, {\"age\": 50.0, \"anaemia\": 0, \"creatinine_phosphokinase\": 2522, \"diabetes\": 0, \"ejection_fraction\": 30, \"high_blood_pressure\": 1, \"platelets\": 404000.0, \"serum_creatinine\": 0.5, \"serum_sodium\": 139, \"sex\": 0, \"smoking\": 0, \"time\": 214, \"DEATH_EVENT\": 0}, {\"age\": 55.0, \"anaemia\": 0, \"creatinine_phosphokinase\": 572, \"diabetes\": 1, \"ejection_fraction\": 35, \"high_blood_pressure\": 0, \"platelets\": 231000.0, \"serum_creatinine\": 0.8, \"serum_sodium\": 143, \"sex\": 0, \"smoking\": 0, \"time\": 215, \"DEATH_EVENT\": 0}, {\"age\": 50.0, \"anaemia\": 0, \"creatinine_phosphokinase\": 245, \"diabetes\": 0, \"ejection_fraction\": 45, \"high_blood_pressure\": 1, \"platelets\": 274000.0, \"serum_creatinine\": 1.0, \"serum_sodium\": 133, \"sex\": 1, \"smoking\": 0, \"time\": 215, \"DEATH_EVENT\": 0}, {\"age\": 70.0, \"anaemia\": 0, \"creatinine_phosphokinase\": 88, \"diabetes\": 1, \"ejection_fraction\": 35, \"high_blood_pressure\": 1, \"platelets\": 236000.0, \"serum_creatinine\": 1.2, \"serum_sodium\": 132, \"sex\": 0, \"smoking\": 0, \"time\": 215, \"DEATH_EVENT\": 0}, {\"age\": 53.0, \"anaemia\": 1, \"creatinine_phosphokinase\": 446, \"diabetes\": 0, \"ejection_fraction\": 60, \"high_blood_pressure\": 1, \"platelets\": 263358.03, \"serum_creatinine\": 1.0, \"serum_sodium\": 139, \"sex\": 1, \"smoking\": 0, \"time\": 215, \"DEATH_EVENT\": 0}, {\"age\": 52.0, \"anaemia\": 1, \"creatinine_phosphokinase\": 191, \"diabetes\": 1, \"ejection_fraction\": 30, \"high_blood_pressure\": 1, \"platelets\": 334000.0, \"serum_creatinine\": 1.0, \"serum_sodium\": 142, \"sex\": 1, \"smoking\": 1, \"time\": 216, \"DEATH_EVENT\": 0}, {\"age\": 65.0, \"anaemia\": 0, \"creatinine_phosphokinase\": 326, \"diabetes\": 0, \"ejection_fraction\": 38, \"high_blood_pressure\": 0, \"platelets\": 294000.0, \"serum_creatinine\": 1.7, \"serum_sodium\": 139, \"sex\": 0, \"smoking\": 0, \"time\": 220, \"DEATH_EVENT\": 0}, {\"age\": 58.0, \"anaemia\": 0, \"creatinine_phosphokinase\": 132, \"diabetes\": 1, \"ejection_fraction\": 38, \"high_blood_pressure\": 1, \"platelets\": 253000.0, \"serum_creatinine\": 1.0, \"serum_sodium\": 139, \"sex\": 1, \"smoking\": 0, \"time\": 230, \"DEATH_EVENT\": 0}, {\"age\": 45.0, \"anaemia\": 1, \"creatinine_phosphokinase\": 66, \"diabetes\": 1, \"ejection_fraction\": 25, \"high_blood_pressure\": 0, \"platelets\": 233000.0, \"serum_creatinine\": 0.8, \"serum_sodium\": 135, \"sex\": 1, \"smoking\": 0, \"time\": 230, \"DEATH_EVENT\": 0}, {\"age\": 53.0, \"anaemia\": 0, \"creatinine_phosphokinase\": 56, \"diabetes\": 0, \"ejection_fraction\": 50, \"high_blood_pressure\": 0, \"platelets\": 308000.0, \"serum_creatinine\": 0.7, \"serum_sodium\": 135, \"sex\": 1, \"smoking\": 1, \"time\": 231, \"DEATH_EVENT\": 0}, {\"age\": 55.0, \"anaemia\": 0, \"creatinine_phosphokinase\": 66, \"diabetes\": 0, \"ejection_fraction\": 40, \"high_blood_pressure\": 0, \"platelets\": 203000.0, \"serum_creatinine\": 1.0, \"serum_sodium\": 138, \"sex\": 1, \"smoking\": 0, \"time\": 233, \"DEATH_EVENT\": 0}, {\"age\": 62.0, \"anaemia\": 1, \"creatinine_phosphokinase\": 655, \"diabetes\": 0, \"ejection_fraction\": 40, \"high_blood_pressure\": 0, \"platelets\": 283000.0, \"serum_creatinine\": 0.7, \"serum_sodium\": 133, \"sex\": 0, \"smoking\": 0, \"time\": 233, \"DEATH_EVENT\": 0}, {\"age\": 65.0, \"anaemia\": 1, \"creatinine_phosphokinase\": 258, \"diabetes\": 1, \"ejection_fraction\": 25, \"high_blood_pressure\": 0, \"platelets\": 198000.0, \"serum_creatinine\": 1.4, \"serum_sodium\": 129, \"sex\": 1, \"smoking\": 0, \"time\": 235, \"DEATH_EVENT\": 1}, {\"age\": 68.0, \"anaemia\": 1, \"creatinine_phosphokinase\": 157, \"diabetes\": 1, \"ejection_fraction\": 60, \"high_blood_pressure\": 0, \"platelets\": 208000.0, \"serum_creatinine\": 1.0, \"serum_sodium\": 140, \"sex\": 0, \"smoking\": 0, \"time\": 237, \"DEATH_EVENT\": 0}, {\"age\": 61.0, \"anaemia\": 0, \"creatinine_phosphokinase\": 582, \"diabetes\": 1, \"ejection_fraction\": 38, \"high_blood_pressure\": 0, \"platelets\": 147000.0, \"serum_creatinine\": 1.2, \"serum_sodium\": 141, \"sex\": 1, \"smoking\": 0, \"time\": 237, \"DEATH_EVENT\": 0}, {\"age\": 50.0, \"anaemia\": 1, \"creatinine_phosphokinase\": 298, \"diabetes\": 0, \"ejection_fraction\": 35, \"high_blood_pressure\": 0, \"platelets\": 362000.0, \"serum_creatinine\": 0.9, \"serum_sodium\": 140, \"sex\": 1, \"smoking\": 1, \"time\": 240, \"DEATH_EVENT\": 0}, {\"age\": 55.0, \"anaemia\": 0, \"creatinine_phosphokinase\": 1199, \"diabetes\": 0, \"ejection_fraction\": 20, \"high_blood_pressure\": 0, \"platelets\": 263358.03, \"serum_creatinine\": 1.83, \"serum_sodium\": 134, \"sex\": 1, \"smoking\": 1, \"time\": 241, \"DEATH_EVENT\": 1}, {\"age\": 56.0, \"anaemia\": 1, \"creatinine_phosphokinase\": 135, \"diabetes\": 1, \"ejection_fraction\": 38, \"high_blood_pressure\": 0, \"platelets\": 133000.0, \"serum_creatinine\": 1.7, \"serum_sodium\": 140, \"sex\": 1, \"smoking\": 0, \"time\": 244, \"DEATH_EVENT\": 0}, {\"age\": 45.0, \"anaemia\": 0, \"creatinine_phosphokinase\": 582, \"diabetes\": 1, \"ejection_fraction\": 38, \"high_blood_pressure\": 0, \"platelets\": 302000.0, \"serum_creatinine\": 0.9, \"serum_sodium\": 140, \"sex\": 0, \"smoking\": 0, \"time\": 244, \"DEATH_EVENT\": 0}, {\"age\": 40.0, \"anaemia\": 0, \"creatinine_phosphokinase\": 582, \"diabetes\": 1, \"ejection_fraction\": 35, \"high_blood_pressure\": 0, \"platelets\": 222000.0, \"serum_creatinine\": 1.0, \"serum_sodium\": 132, \"sex\": 1, \"smoking\": 0, \"time\": 244, \"DEATH_EVENT\": 0}, {\"age\": 44.0, \"anaemia\": 0, \"creatinine_phosphokinase\": 582, \"diabetes\": 1, \"ejection_fraction\": 30, \"high_blood_pressure\": 1, \"platelets\": 263358.03, \"serum_creatinine\": 1.6, \"serum_sodium\": 130, \"sex\": 1, \"smoking\": 1, \"time\": 244, \"DEATH_EVENT\": 0}, {\"age\": 51.0, \"anaemia\": 0, \"creatinine_phosphokinase\": 582, \"diabetes\": 1, \"ejection_fraction\": 40, \"high_blood_pressure\": 0, \"platelets\": 221000.0, \"serum_creatinine\": 0.9, \"serum_sodium\": 134, \"sex\": 0, \"smoking\": 0, \"time\": 244, \"DEATH_EVENT\": 0}, {\"age\": 67.0, \"anaemia\": 0, \"creatinine_phosphokinase\": 213, \"diabetes\": 0, \"ejection_fraction\": 38, \"high_blood_pressure\": 0, \"platelets\": 215000.0, \"serum_creatinine\": 1.2, \"serum_sodium\": 133, \"sex\": 0, \"smoking\": 0, \"time\": 245, \"DEATH_EVENT\": 0}, {\"age\": 42.0, \"anaemia\": 0, \"creatinine_phosphokinase\": 64, \"diabetes\": 0, \"ejection_fraction\": 40, \"high_blood_pressure\": 0, \"platelets\": 189000.0, \"serum_creatinine\": 0.7, \"serum_sodium\": 140, \"sex\": 1, \"smoking\": 0, \"time\": 245, \"DEATH_EVENT\": 0}, {\"age\": 60.0, \"anaemia\": 1, \"creatinine_phosphokinase\": 257, \"diabetes\": 1, \"ejection_fraction\": 30, \"high_blood_pressure\": 0, \"platelets\": 150000.0, \"serum_creatinine\": 1.0, \"serum_sodium\": 137, \"sex\": 1, \"smoking\": 1, \"time\": 245, \"DEATH_EVENT\": 0}, {\"age\": 45.0, \"anaemia\": 0, \"creatinine_phosphokinase\": 582, \"diabetes\": 0, \"ejection_fraction\": 38, \"high_blood_pressure\": 1, \"platelets\": 422000.0, \"serum_creatinine\": 0.8, \"serum_sodium\": 137, \"sex\": 0, \"smoking\": 0, \"time\": 245, \"DEATH_EVENT\": 0}, {\"age\": 70.0, \"anaemia\": 0, \"creatinine_phosphokinase\": 618, \"diabetes\": 0, \"ejection_fraction\": 35, \"high_blood_pressure\": 0, \"platelets\": 327000.0, \"serum_creatinine\": 1.1, \"serum_sodium\": 142, \"sex\": 0, \"smoking\": 0, \"time\": 245, \"DEATH_EVENT\": 0}, {\"age\": 70.0, \"anaemia\": 0, \"creatinine_phosphokinase\": 582, \"diabetes\": 1, \"ejection_fraction\": 38, \"high_blood_pressure\": 0, \"platelets\": 25100.0, \"serum_creatinine\": 1.1, \"serum_sodium\": 140, \"sex\": 1, \"smoking\": 0, \"time\": 246, \"DEATH_EVENT\": 0}, {\"age\": 50.0, \"anaemia\": 1, \"creatinine_phosphokinase\": 1051, \"diabetes\": 1, \"ejection_fraction\": 30, \"high_blood_pressure\": 0, \"platelets\": 232000.0, \"serum_creatinine\": 0.7, \"serum_sodium\": 136, \"sex\": 0, \"smoking\": 0, \"time\": 246, \"DEATH_EVENT\": 0}, {\"age\": 55.0, \"anaemia\": 0, \"creatinine_phosphokinase\": 84, \"diabetes\": 1, \"ejection_fraction\": 38, \"high_blood_pressure\": 0, \"platelets\": 451000.0, \"serum_creatinine\": 1.3, \"serum_sodium\": 136, \"sex\": 0, \"smoking\": 0, \"time\": 246, \"DEATH_EVENT\": 0}, {\"age\": 70.0, \"anaemia\": 0, \"creatinine_phosphokinase\": 2695, \"diabetes\": 1, \"ejection_fraction\": 40, \"high_blood_pressure\": 0, \"platelets\": 241000.0, \"serum_creatinine\": 1.0, \"serum_sodium\": 137, \"sex\": 1, \"smoking\": 0, \"time\": 247, \"DEATH_EVENT\": 0}, {\"age\": 70.0, \"anaemia\": 0, \"creatinine_phosphokinase\": 582, \"diabetes\": 0, \"ejection_fraction\": 40, \"high_blood_pressure\": 0, \"platelets\": 51000.0, \"serum_creatinine\": 2.7, \"serum_sodium\": 136, \"sex\": 1, \"smoking\": 1, \"time\": 250, \"DEATH_EVENT\": 0}, {\"age\": 42.0, \"anaemia\": 0, \"creatinine_phosphokinase\": 64, \"diabetes\": 0, \"ejection_fraction\": 30, \"high_blood_pressure\": 0, \"platelets\": 215000.0, \"serum_creatinine\": 3.8, \"serum_sodium\": 128, \"sex\": 1, \"smoking\": 1, \"time\": 250, \"DEATH_EVENT\": 0}, {\"age\": 65.0, \"anaemia\": 0, \"creatinine_phosphokinase\": 1688, \"diabetes\": 0, \"ejection_fraction\": 38, \"high_blood_pressure\": 0, \"platelets\": 263358.03, \"serum_creatinine\": 1.1, \"serum_sodium\": 138, \"sex\": 1, \"smoking\": 1, \"time\": 250, \"DEATH_EVENT\": 0}, {\"age\": 50.0, \"anaemia\": 1, \"creatinine_phosphokinase\": 54, \"diabetes\": 0, \"ejection_fraction\": 40, \"high_blood_pressure\": 0, \"platelets\": 279000.0, \"serum_creatinine\": 0.8, \"serum_sodium\": 141, \"sex\": 1, \"smoking\": 0, \"time\": 250, \"DEATH_EVENT\": 0}, {\"age\": 55.0, \"anaemia\": 1, \"creatinine_phosphokinase\": 170, \"diabetes\": 1, \"ejection_fraction\": 40, \"high_blood_pressure\": 0, \"platelets\": 336000.0, \"serum_creatinine\": 1.2, \"serum_sodium\": 135, \"sex\": 1, \"smoking\": 0, \"time\": 250, \"DEATH_EVENT\": 0}, {\"age\": 60.0, \"anaemia\": 0, \"creatinine_phosphokinase\": 253, \"diabetes\": 0, \"ejection_fraction\": 35, \"high_blood_pressure\": 0, \"platelets\": 279000.0, \"serum_creatinine\": 1.7, \"serum_sodium\": 140, \"sex\": 1, \"smoking\": 0, \"time\": 250, \"DEATH_EVENT\": 0}, {\"age\": 45.0, \"anaemia\": 0, \"creatinine_phosphokinase\": 582, \"diabetes\": 1, \"ejection_fraction\": 55, \"high_blood_pressure\": 0, \"platelets\": 543000.0, \"serum_creatinine\": 1.0, \"serum_sodium\": 132, \"sex\": 0, \"smoking\": 0, \"time\": 250, \"DEATH_EVENT\": 0}, {\"age\": 65.0, \"anaemia\": 0, \"creatinine_phosphokinase\": 892, \"diabetes\": 1, \"ejection_fraction\": 35, \"high_blood_pressure\": 0, \"platelets\": 263358.03, \"serum_creatinine\": 1.1, \"serum_sodium\": 142, \"sex\": 0, \"smoking\": 0, \"time\": 256, \"DEATH_EVENT\": 0}, {\"age\": 90.0, \"anaemia\": 1, \"creatinine_phosphokinase\": 337, \"diabetes\": 0, \"ejection_fraction\": 38, \"high_blood_pressure\": 0, \"platelets\": 390000.0, \"serum_creatinine\": 0.9, \"serum_sodium\": 144, \"sex\": 0, \"smoking\": 0, \"time\": 256, \"DEATH_EVENT\": 0}, {\"age\": 45.0, \"anaemia\": 0, \"creatinine_phosphokinase\": 615, \"diabetes\": 1, \"ejection_fraction\": 55, \"high_blood_pressure\": 0, \"platelets\": 222000.0, \"serum_creatinine\": 0.8, \"serum_sodium\": 141, \"sex\": 0, \"smoking\": 0, \"time\": 257, \"DEATH_EVENT\": 0}, {\"age\": 60.0, \"anaemia\": 0, \"creatinine_phosphokinase\": 320, \"diabetes\": 0, \"ejection_fraction\": 35, \"high_blood_pressure\": 0, \"platelets\": 133000.0, \"serum_creatinine\": 1.4, \"serum_sodium\": 139, \"sex\": 1, \"smoking\": 0, \"time\": 258, \"DEATH_EVENT\": 0}, {\"age\": 52.0, \"anaemia\": 0, \"creatinine_phosphokinase\": 190, \"diabetes\": 1, \"ejection_fraction\": 38, \"high_blood_pressure\": 0, \"platelets\": 382000.0, \"serum_creatinine\": 1.0, \"serum_sodium\": 140, \"sex\": 1, \"smoking\": 1, \"time\": 258, \"DEATH_EVENT\": 0}, {\"age\": 63.0, \"anaemia\": 1, \"creatinine_phosphokinase\": 103, \"diabetes\": 1, \"ejection_fraction\": 35, \"high_blood_pressure\": 0, \"platelets\": 179000.0, \"serum_creatinine\": 0.9, \"serum_sodium\": 136, \"sex\": 1, \"smoking\": 1, \"time\": 270, \"DEATH_EVENT\": 0}, {\"age\": 62.0, \"anaemia\": 0, \"creatinine_phosphokinase\": 61, \"diabetes\": 1, \"ejection_fraction\": 38, \"high_blood_pressure\": 1, \"platelets\": 155000.0, \"serum_creatinine\": 1.1, \"serum_sodium\": 143, \"sex\": 1, \"smoking\": 1, \"time\": 270, \"DEATH_EVENT\": 0}, {\"age\": 55.0, \"anaemia\": 0, \"creatinine_phosphokinase\": 1820, \"diabetes\": 0, \"ejection_fraction\": 38, \"high_blood_pressure\": 0, \"platelets\": 270000.0, \"serum_creatinine\": 1.2, \"serum_sodium\": 139, \"sex\": 0, \"smoking\": 0, \"time\": 271, \"DEATH_EVENT\": 0}, {\"age\": 45.0, \"anaemia\": 0, \"creatinine_phosphokinase\": 2060, \"diabetes\": 1, \"ejection_fraction\": 60, \"high_blood_pressure\": 0, \"platelets\": 742000.0, \"serum_creatinine\": 0.8, \"serum_sodium\": 138, \"sex\": 0, \"smoking\": 0, \"time\": 278, \"DEATH_EVENT\": 0}, {\"age\": 45.0, \"anaemia\": 0, \"creatinine_phosphokinase\": 2413, \"diabetes\": 0, \"ejection_fraction\": 38, \"high_blood_pressure\": 0, \"platelets\": 140000.0, \"serum_creatinine\": 1.4, \"serum_sodium\": 140, \"sex\": 1, \"smoking\": 1, \"time\": 280, \"DEATH_EVENT\": 0}, {\"age\": 50.0, \"anaemia\": 0, \"creatinine_phosphokinase\": 196, \"diabetes\": 0, \"ejection_fraction\": 45, \"high_blood_pressure\": 0, \"platelets\": 395000.0, \"serum_creatinine\": 1.6, \"serum_sodium\": 136, \"sex\": 1, \"smoking\": 1, \"time\": 285, \"DEATH_EVENT\": 0}]}}, {\"mode\": \"vega-lite\"});\n</script>"
              }
            ],
            "_view_module": "@jupyter-widgets/output",
            "_model_module_version": "1.0.0",
            "_view_count": null,
            "_view_module_version": "1.0.0",
            "layout": "IPY_MODEL_b1ffa99aeb1d4df8bbb83cc8b48d49a5",
            "_model_module": "@jupyter-widgets/output"
          }
        },
        "9b43b9267ff641598bcb7acaeab4174f": {
          "model_module": "@jupyter-widgets/controls",
          "model_name": "DescriptionStyleModel",
          "state": {
            "_view_name": "StyleView",
            "_model_name": "DescriptionStyleModel",
            "description_width": "",
            "_view_module": "@jupyter-widgets/base",
            "_model_module_version": "1.5.0",
            "_view_count": null,
            "_view_module_version": "1.2.0",
            "_model_module": "@jupyter-widgets/controls"
          }
        },
        "e0ed8b270e8646e3b667adbae48942f0": {
          "model_module": "@jupyter-widgets/base",
          "model_name": "LayoutModel",
          "state": {
            "_view_name": "LayoutView",
            "grid_template_rows": null,
            "right": null,
            "justify_content": null,
            "_view_module": "@jupyter-widgets/base",
            "overflow": null,
            "_model_module_version": "1.2.0",
            "_view_count": null,
            "flex_flow": null,
            "width": null,
            "min_width": null,
            "border": null,
            "align_items": null,
            "bottom": null,
            "_model_module": "@jupyter-widgets/base",
            "top": null,
            "grid_column": null,
            "overflow_y": null,
            "overflow_x": null,
            "grid_auto_flow": null,
            "grid_area": null,
            "grid_template_columns": null,
            "flex": null,
            "_model_name": "LayoutModel",
            "justify_items": null,
            "grid_row": null,
            "max_height": null,
            "align_content": null,
            "visibility": null,
            "align_self": null,
            "height": null,
            "min_height": null,
            "padding": null,
            "grid_auto_rows": null,
            "grid_gap": null,
            "max_width": null,
            "order": null,
            "_view_module_version": "1.2.0",
            "grid_template_areas": null,
            "object_position": null,
            "object_fit": null,
            "grid_auto_columns": null,
            "margin": null,
            "display": null,
            "left": null
          }
        },
        "4e652e2ac9164ab191dc64f0fe44be6f": {
          "model_module": "@jupyter-widgets/controls",
          "model_name": "DescriptionStyleModel",
          "state": {
            "_view_name": "StyleView",
            "_model_name": "DescriptionStyleModel",
            "description_width": "",
            "_view_module": "@jupyter-widgets/base",
            "_model_module_version": "1.5.0",
            "_view_count": null,
            "_view_module_version": "1.2.0",
            "_model_module": "@jupyter-widgets/controls"
          }
        },
        "f2b7e529068746a1af2375eaa2e23bea": {
          "model_module": "@jupyter-widgets/base",
          "model_name": "LayoutModel",
          "state": {
            "_view_name": "LayoutView",
            "grid_template_rows": null,
            "right": null,
            "justify_content": null,
            "_view_module": "@jupyter-widgets/base",
            "overflow": null,
            "_model_module_version": "1.2.0",
            "_view_count": null,
            "flex_flow": null,
            "width": null,
            "min_width": null,
            "border": null,
            "align_items": null,
            "bottom": null,
            "_model_module": "@jupyter-widgets/base",
            "top": null,
            "grid_column": null,
            "overflow_y": null,
            "overflow_x": null,
            "grid_auto_flow": null,
            "grid_area": null,
            "grid_template_columns": null,
            "flex": null,
            "_model_name": "LayoutModel",
            "justify_items": null,
            "grid_row": null,
            "max_height": null,
            "align_content": null,
            "visibility": null,
            "align_self": null,
            "height": null,
            "min_height": null,
            "padding": null,
            "grid_auto_rows": null,
            "grid_gap": null,
            "max_width": null,
            "order": null,
            "_view_module_version": "1.2.0",
            "grid_template_areas": null,
            "object_position": null,
            "object_fit": null,
            "grid_auto_columns": null,
            "margin": null,
            "display": null,
            "left": null
          }
        },
        "b1ffa99aeb1d4df8bbb83cc8b48d49a5": {
          "model_module": "@jupyter-widgets/base",
          "model_name": "LayoutModel",
          "state": {
            "_view_name": "LayoutView",
            "grid_template_rows": null,
            "right": null,
            "justify_content": null,
            "_view_module": "@jupyter-widgets/base",
            "overflow": null,
            "_model_module_version": "1.2.0",
            "_view_count": null,
            "flex_flow": null,
            "width": null,
            "min_width": null,
            "border": null,
            "align_items": null,
            "bottom": null,
            "_model_module": "@jupyter-widgets/base",
            "top": null,
            "grid_column": null,
            "overflow_y": null,
            "overflow_x": null,
            "grid_auto_flow": null,
            "grid_area": null,
            "grid_template_columns": null,
            "flex": null,
            "_model_name": "LayoutModel",
            "justify_items": null,
            "grid_row": null,
            "max_height": null,
            "align_content": null,
            "visibility": null,
            "align_self": null,
            "height": null,
            "min_height": null,
            "padding": null,
            "grid_auto_rows": null,
            "grid_gap": null,
            "max_width": null,
            "order": null,
            "_view_module_version": "1.2.0",
            "grid_template_areas": null,
            "object_position": null,
            "object_fit": null,
            "grid_auto_columns": null,
            "margin": null,
            "display": null,
            "left": null
          }
        }
      }
    }
  },
  "cells": [
    {
      "cell_type": "markdown",
      "metadata": {
        "id": "view-in-github",
        "colab_type": "text"
      },
      "source": [
        "<a href=\"https://colab.research.google.com/github/Bastian951/Heart-Failure-Prediction/blob/master/Heart%20Failure%20Prediction.ipynb\" target=\"_parent\"><img src=\"https://colab.research.google.com/assets/colab-badge.svg\" alt=\"Open In Colab\"/></a>"
      ]
    },
    {
      "cell_type": "code",
      "metadata": {
        "id": "f-SjUqgzk1Dp"
      },
      "source": [
        "import numpy as np \n",
        "import pandas as pd "
      ],
      "execution_count": null,
      "outputs": []
    },
    {
      "cell_type": "markdown",
      "metadata": {
        "id": "QKOxse4gmk04"
      },
      "source": [
        "# Heart Failure Prediction\n",
        "\n",
        "Segun datos de la OMS las principales causas de muerte se deben a enfermedades cardiovasculares. \n",
        "Sin embargo la mayoría de estas enfermedades se pueden prevenir abordando los factores de riesgo conductuales como el consumo de tabaco, la dieta poco saludable, la inactividad física y el consumo de alcohol.\n",
        "\n",
        "Las personas con enfermedad cardiovascular o que tienen un alto riesgo cardiovascular (debido a otros factores como hipertensión, diabetes, hiperlipidemia o enfermedad ya establecida) necesitan una detección y manejo precoz.\n",
        "\n",
        "Es por esto que un modelo de aprendizaje automático puede ser de gran ayuda para la detección de enfermedades cardiovasculares. \n",
        "<figure>\n",
        "<center>\n",
        "<img  src=\"https://salutaprop.org/images/uploads/2016/09/06/large/ECV.jpg\" width=\"400\" height=\"300\"/>\n",
        "</center>\n",
        "</figure>\n",
        "\n",
        "\n",
        "\n",
        "\n"
      ]
    },
    {
      "cell_type": "markdown",
      "metadata": {
        "id": "GKZaacxFpfVW"
      },
      "source": [
        "# Dataset\n",
        "\n",
        "El dataset utilizado titulado [**Heart Failure Prediction**](https://www.kaggle.com/andrewmvd/heart-failure-clinical-data) fue obtenido desde el sitio web [Kaggle ](https://www.kaggle.com).\n",
        "\n",
        "Este conjunto de datos contiene 12 características que se pueden utilizar para predecir la mortalidad por insuficiencia cardíaca. \n",
        "Estas caracteristicas son \n",
        "\n",
        "**age:** Edad del paciente\n",
        "\n",
        "**anaemia:** Toma el valor 1 si el paciente padece anemia y 0 si no.\n",
        "\n",
        "**diabetes:** Toma el valor 1 si el paciente padece diabetes y 0 si no.\n",
        "\n",
        "**creatinine_phosphokinase:** cantidad de creatina fosfocinasa en la sangre.\n",
        "\n",
        "**ejection_fraction :** Porcentaje de sangre que sale del corazón del paciente cada vez que se contrae.\n",
        "\n",
        "**high_blood_pressure:** Toma el valor 1 si el paciente tiene presión sanguínea alta y 0 si no.\n",
        "\n",
        "**platelets:** Numero de plaquetas en la sangre del paciente\n",
        "\n",
        "**serum_creatinine :** nivel de creatina en la sangre\n",
        "\n",
        "**serum_sodium:** Nivel de sodio en la sangre\n",
        "\n",
        "**sex:** Variable binaria toma el valor 1 si es hombre y el valor 0 si es mujer.\n",
        "\n",
        "**smoking:** Toma el valor 1 si el paciente fuma y 0 si no.\n",
        "\n",
        "**time:** Período de seguimiento \n",
        "\n",
        "**DEATH_EVENT:** Toma el valor 1 si el paciente murio en el periodo de seguimiento y 0 si no. \n"
      ]
    },
    {
      "cell_type": "code",
      "metadata": {
        "id": "BI1AfZ5tl2XT",
        "colab": {
          "base_uri": "https://localhost:8080/",
          "height": 226
        },
        "outputId": "a7ec836d-13fd-4004-8b68-4418071a1435"
      },
      "source": [
        "data  = pd.read_csv(\"heart_failure_clinical_records_dataset.csv\")\n",
        "data.head()"
      ],
      "execution_count": null,
      "outputs": [
        {
          "output_type": "execute_result",
          "data": {
            "text/html": [
              "<div>\n",
              "<style scoped>\n",
              "    .dataframe tbody tr th:only-of-type {\n",
              "        vertical-align: middle;\n",
              "    }\n",
              "\n",
              "    .dataframe tbody tr th {\n",
              "        vertical-align: top;\n",
              "    }\n",
              "\n",
              "    .dataframe thead th {\n",
              "        text-align: right;\n",
              "    }\n",
              "</style>\n",
              "<table border=\"1\" class=\"dataframe\">\n",
              "  <thead>\n",
              "    <tr style=\"text-align: right;\">\n",
              "      <th></th>\n",
              "      <th>age</th>\n",
              "      <th>anaemia</th>\n",
              "      <th>creatinine_phosphokinase</th>\n",
              "      <th>diabetes</th>\n",
              "      <th>ejection_fraction</th>\n",
              "      <th>high_blood_pressure</th>\n",
              "      <th>platelets</th>\n",
              "      <th>serum_creatinine</th>\n",
              "      <th>serum_sodium</th>\n",
              "      <th>sex</th>\n",
              "      <th>smoking</th>\n",
              "      <th>time</th>\n",
              "      <th>DEATH_EVENT</th>\n",
              "    </tr>\n",
              "  </thead>\n",
              "  <tbody>\n",
              "    <tr>\n",
              "      <th>0</th>\n",
              "      <td>75.0</td>\n",
              "      <td>0</td>\n",
              "      <td>582</td>\n",
              "      <td>0</td>\n",
              "      <td>20</td>\n",
              "      <td>1</td>\n",
              "      <td>265000.00</td>\n",
              "      <td>1.9</td>\n",
              "      <td>130</td>\n",
              "      <td>1</td>\n",
              "      <td>0</td>\n",
              "      <td>4</td>\n",
              "      <td>1</td>\n",
              "    </tr>\n",
              "    <tr>\n",
              "      <th>1</th>\n",
              "      <td>55.0</td>\n",
              "      <td>0</td>\n",
              "      <td>7861</td>\n",
              "      <td>0</td>\n",
              "      <td>38</td>\n",
              "      <td>0</td>\n",
              "      <td>263358.03</td>\n",
              "      <td>1.1</td>\n",
              "      <td>136</td>\n",
              "      <td>1</td>\n",
              "      <td>0</td>\n",
              "      <td>6</td>\n",
              "      <td>1</td>\n",
              "    </tr>\n",
              "    <tr>\n",
              "      <th>2</th>\n",
              "      <td>65.0</td>\n",
              "      <td>0</td>\n",
              "      <td>146</td>\n",
              "      <td>0</td>\n",
              "      <td>20</td>\n",
              "      <td>0</td>\n",
              "      <td>162000.00</td>\n",
              "      <td>1.3</td>\n",
              "      <td>129</td>\n",
              "      <td>1</td>\n",
              "      <td>1</td>\n",
              "      <td>7</td>\n",
              "      <td>1</td>\n",
              "    </tr>\n",
              "    <tr>\n",
              "      <th>3</th>\n",
              "      <td>50.0</td>\n",
              "      <td>1</td>\n",
              "      <td>111</td>\n",
              "      <td>0</td>\n",
              "      <td>20</td>\n",
              "      <td>0</td>\n",
              "      <td>210000.00</td>\n",
              "      <td>1.9</td>\n",
              "      <td>137</td>\n",
              "      <td>1</td>\n",
              "      <td>0</td>\n",
              "      <td>7</td>\n",
              "      <td>1</td>\n",
              "    </tr>\n",
              "    <tr>\n",
              "      <th>4</th>\n",
              "      <td>65.0</td>\n",
              "      <td>1</td>\n",
              "      <td>160</td>\n",
              "      <td>1</td>\n",
              "      <td>20</td>\n",
              "      <td>0</td>\n",
              "      <td>327000.00</td>\n",
              "      <td>2.7</td>\n",
              "      <td>116</td>\n",
              "      <td>0</td>\n",
              "      <td>0</td>\n",
              "      <td>8</td>\n",
              "      <td>1</td>\n",
              "    </tr>\n",
              "  </tbody>\n",
              "</table>\n",
              "</div>"
            ],
            "text/plain": [
              "    age  anaemia  creatinine_phosphokinase  ...  smoking  time  DEATH_EVENT\n",
              "0  75.0        0                       582  ...        0     4            1\n",
              "1  55.0        0                      7861  ...        0     6            1\n",
              "2  65.0        0                       146  ...        1     7            1\n",
              "3  50.0        1                       111  ...        0     7            1\n",
              "4  65.0        1                       160  ...        0     8            1\n",
              "\n",
              "[5 rows x 13 columns]"
            ]
          },
          "metadata": {
            "tags": []
          },
          "execution_count": 2
        }
      ]
    },
    {
      "cell_type": "markdown",
      "metadata": {
        "id": "bcvKx5KkwKn5"
      },
      "source": [
        "# Análisis exploratorio de los datos\n",
        "\n",
        "Primero veremos si existen datos faltantes, nulos o repetidos"
      ]
    },
    {
      "cell_type": "code",
      "metadata": {
        "colab": {
          "base_uri": "https://localhost:8080/"
        },
        "id": "PtIIofh2wqBQ",
        "outputId": "41cc3d66-8d6b-4d88-e317-828fc424f7eb"
      },
      "source": [
        "data.dtypes"
      ],
      "execution_count": null,
      "outputs": [
        {
          "output_type": "execute_result",
          "data": {
            "text/plain": [
              "age                         float64\n",
              "anaemia                       int64\n",
              "creatinine_phosphokinase      int64\n",
              "diabetes                      int64\n",
              "ejection_fraction             int64\n",
              "high_blood_pressure           int64\n",
              "platelets                   float64\n",
              "serum_creatinine            float64\n",
              "serum_sodium                  int64\n",
              "sex                           int64\n",
              "smoking                       int64\n",
              "time                          int64\n",
              "DEATH_EVENT                   int64\n",
              "dtype: object"
            ]
          },
          "metadata": {
            "tags": []
          },
          "execution_count": 3
        }
      ]
    },
    {
      "cell_type": "code",
      "metadata": {
        "colab": {
          "base_uri": "https://localhost:8080/"
        },
        "id": "OApOESXeubXf",
        "outputId": "1d594f22-c093-42bd-9911-8f01dc74a17d"
      },
      "source": [
        "data.isnull().sum()"
      ],
      "execution_count": null,
      "outputs": [
        {
          "output_type": "execute_result",
          "data": {
            "text/plain": [
              "age                         0\n",
              "anaemia                     0\n",
              "creatinine_phosphokinase    0\n",
              "diabetes                    0\n",
              "ejection_fraction           0\n",
              "high_blood_pressure         0\n",
              "platelets                   0\n",
              "serum_creatinine            0\n",
              "serum_sodium                0\n",
              "sex                         0\n",
              "smoking                     0\n",
              "time                        0\n",
              "DEATH_EVENT                 0\n",
              "dtype: int64"
            ]
          },
          "metadata": {
            "tags": []
          },
          "execution_count": 4
        }
      ]
    },
    {
      "cell_type": "code",
      "metadata": {
        "colab": {
          "base_uri": "https://localhost:8080/"
        },
        "id": "Y5IeTYeWw8yI",
        "outputId": "d39f2e3d-d65b-4a67-fe0b-b1091ed73318"
      },
      "source": [
        "data[data.duplicated(keep=False)].sum()"
      ],
      "execution_count": null,
      "outputs": [
        {
          "output_type": "execute_result",
          "data": {
            "text/plain": [
              "age                         0.0\n",
              "anaemia                     0.0\n",
              "creatinine_phosphokinase    0.0\n",
              "diabetes                    0.0\n",
              "ejection_fraction           0.0\n",
              "high_blood_pressure         0.0\n",
              "platelets                   0.0\n",
              "serum_creatinine            0.0\n",
              "serum_sodium                0.0\n",
              "sex                         0.0\n",
              "smoking                     0.0\n",
              "time                        0.0\n",
              "DEATH_EVENT                 0.0\n",
              "dtype: float64"
            ]
          },
          "metadata": {
            "tags": []
          },
          "execution_count": 5
        }
      ]
    },
    {
      "cell_type": "markdown",
      "metadata": {
        "id": "bEWtT7Fgwe6n"
      },
      "source": [
        "\n",
        "\n",
        "*   No existen datos nulos\n",
        "*   Los datos son coherentes entre si\n",
        "*   No existen datos duplicados\n",
        "\n",
        "\n",
        "\n",
        "\n",
        "\n"
      ]
    },
    {
      "cell_type": "markdown",
      "metadata": {
        "id": "B14nC0vb1Ztx"
      },
      "source": [
        "Ahora crearemos un dashboard interactivo para ver los graficos"
      ]
    },
    {
      "cell_type": "code",
      "metadata": {
        "id": "xZnBthTpugMJ"
      },
      "source": [
        "import altair as alt\n",
        "import matplotlib.pyplot as plt\n",
        "import ipywidgets as widgets\n",
        "from ipywidgets import interactive, interact"
      ],
      "execution_count": null,
      "outputs": []
    },
    {
      "cell_type": "code",
      "metadata": {
        "id": "cC0TceoNzTKY"
      },
      "source": [
        "def heart_disease_chart(col2,col1):\n",
        "    datos = data[col2]\n",
        "    \n",
        "    chart = alt.Chart(data).mark_circle().encode(\n",
        "        x=alt.X(col1,title=col1),\n",
        "        y=alt.Y(col2,title=col2),\n",
        "    ).properties(\n",
        "        width=600,\n",
        "        height=400,\n",
        "        title = col1+' VS '+col2\n",
        "    )\n",
        "    \n",
        "    chart.display()\n",
        "    return"
      ],
      "execution_count": null,
      "outputs": []
    },
    {
      "cell_type": "code",
      "metadata": {
        "id": "L-rh6BKsyDM_"
      },
      "source": [
        "col1_widget = widgets.Dropdown(\n",
        "    options=['age','anaemia', 'creatinine_phosphokinase', \n",
        "             'diabetes', 'ejection_fraction', 'high_blood_pressure',\n",
        "             'platelets', 'serum_creatinine', 'serum_sodium',\n",
        "             'sex', 'smoking','time'],\n",
        "    description='Eje X',\n",
        "    continuous_update = False\n",
        ")\n",
        "\n",
        "\n",
        "col2_widget = widgets.Dropdown(\n",
        "    options=['age','anaemia', 'creatinine_phosphokinase', \n",
        "             'diabetes', 'ejection_fraction', 'high_blood_pressure',\n",
        "             'platelets', 'serum_creatinine', 'serum_sodium',\n",
        "             'sex', 'smoking','time','DEATH_EVENT'],\n",
        "    description='Eje Y',\n",
        "    continuous_update = False\n",
        ")"
      ],
      "execution_count": null,
      "outputs": []
    },
    {
      "cell_type": "code",
      "metadata": {
        "colab": {
          "base_uri": "https://localhost:8080/",
          "height": 549,
          "referenced_widgets": [
            "077eb527af8c45a4a70214be6f683f86",
            "a951808de67a4ef9b940446a90d85de8",
            "8de74e32191f413d813199114de937e7",
            "ad872107970842e09dcaf6d67c6cd607",
            "63ce477eed424a48b73ecc87ae28a9fc",
            "9b43b9267ff641598bcb7acaeab4174f",
            "e0ed8b270e8646e3b667adbae48942f0",
            "4e652e2ac9164ab191dc64f0fe44be6f",
            "f2b7e529068746a1af2375eaa2e23bea",
            "b1ffa99aeb1d4df8bbb83cc8b48d49a5"
          ]
        },
        "id": "umZuwRWqy-0O",
        "outputId": "94f12edd-c7f5-4c2f-cdc0-97b7adda678a"
      },
      "source": [
        "heart_dashboard = interactive(\n",
        "    heart_disease_chart,\n",
        "    col2=col2_widget,\n",
        "    col1=col1_widget\n",
        ")\n",
        "heart_dashboard\n",
        "\n"
      ],
      "execution_count": null,
      "outputs": [
        {
          "output_type": "display_data",
          "data": {
            "application/vnd.jupyter.widget-view+json": {
              "model_id": "077eb527af8c45a4a70214be6f683f86",
              "version_minor": 0,
              "version_major": 2
            },
            "text/plain": [
              "interactive(children=(Dropdown(description='Eje Y', options=('age', 'anaemia', 'creatinine_phosphokinase', 'di…"
            ]
          },
          "metadata": {
            "tags": []
          }
        }
      ]
    },
    {
      "cell_type": "markdown",
      "metadata": {
        "id": "TF6yIGeW1sz6"
      },
      "source": [
        "Ahora veamos la distrubición de las muertes"
      ]
    },
    {
      "cell_type": "code",
      "metadata": {
        "id": "m5g3LSrV23Js"
      },
      "source": [
        "import seaborn as sns"
      ],
      "execution_count": null,
      "outputs": []
    },
    {
      "cell_type": "code",
      "metadata": {
        "colab": {
          "base_uri": "https://localhost:8080/",
          "height": 403
        },
        "id": "cnjF4rjU1r92",
        "outputId": "99cd88be-0a46-42d6-bee5-56ab549ca490"
      },
      "source": [
        "sns.countplot('DEATH_EVENT', data=data)\n",
        "plt.title('DEATH_EVENT Distributions \\n (0: NO DEATH || 1: DEATH)', fontsize=14)\n",
        "\n",
        "print('No Muertos', round(data['DEATH_EVENT'].value_counts()[0]/len(data) * 100,2), '% of the dataset')\n",
        "print('Muertos', round(data['DEATH_EVENT'].value_counts()[1]/len(data) * 100,2), '% of the dataset')"
      ],
      "execution_count": null,
      "outputs": [
        {
          "output_type": "stream",
          "text": [
            "/usr/local/lib/python3.6/dist-packages/seaborn/_decorators.py:43: FutureWarning: Pass the following variable as a keyword arg: x. From version 0.12, the only valid positional argument will be `data`, and passing other arguments without an explicit keyword will result in an error or misinterpretation.\n",
            "  FutureWarning\n"
          ],
          "name": "stderr"
        },
        {
          "output_type": "stream",
          "text": [
            "No Muertos 67.89 % of the dataset\n",
            "Muertos 32.11 % of the dataset\n"
          ],
          "name": "stdout"
        },
        {
          "output_type": "display_data",
          "data": {
            "image/png": "[encoded data removed]",
            "text/plain": [
              "<Figure size 432x288 with 1 Axes>"
            ]
          },
          "metadata": {
            "tags": [],
            "needs_background": "light"
          }
        }
      ]
    },
    {
      "cell_type": "markdown",
      "metadata": {
        "id": "Owv-9Qy4FeN7"
      },
      "source": [
        "Un 32.11% de los pacientes murieron mientras se hacia el seguimiento, por lo que podriamos decir que estamos desbalanceados. \n",
        "Para solventar esto, realizaremos undersamplig y oversampling."
      ]
    },
    {
      "cell_type": "code",
      "metadata": {
        "colab": {
          "base_uri": "https://localhost:8080/",
          "height": 1000
        },
        "id": "pjiNv8PaGNsb",
        "outputId": "f54890f8-c6bd-40d7-ff27-2cd40802f221"
      },
      "source": [
        "fig, ax = plt.subplots(7, 1, figsize=(18,25))\n",
        "\n",
        "amount_val = data['age'].values\n",
        "time_val = data['time'].values\n",
        "creaphos_val = data[\"creatinine_phosphokinase\"].values\n",
        "ejec_val = data[\"ejection_fraction\"].values  \n",
        "platelets_val =data[\"platelets\"].values\n",
        "ser_crea_val = data[\"serum_creatinine\"].values  \n",
        "ser_sod_val =data[\"serum_sodium\"].values\n",
        "\n",
        "sns.distplot(amount_val, ax=ax[0], color='r')\n",
        "ax[0].set_title('Distribution of age', fontsize=14)\n",
        "ax[0].set_xlim([min(amount_val), max(amount_val)])\n",
        "\n",
        "sns.distplot(time_val, ax=ax[1], color='b')\n",
        "ax[1].set_title('Distribution of time', fontsize=14)\n",
        "ax[1].set_xlim([min(time_val), max(time_val)])\n",
        "\n",
        "sns.distplot(creaphos_val, ax=ax[2], color='r')\n",
        "ax[2].set_title('Distribution of creatinine phosphokinase', fontsize=14)\n",
        "ax[2].set_xlim([min(creaphos_val), max(creaphos_val)])\n",
        "\n",
        "sns.distplot(ejec_val, ax=ax[3], color='b')\n",
        "ax[3].set_title('Distribution of ejection_fraction', fontsize=14)\n",
        "ax[3].set_xlim([min(ejec_val), max(ejec_val)])\n",
        "\n",
        "sns.distplot(platelets_val, ax=ax[4], color='b')\n",
        "ax[4].set_title('Distribution of platelets', fontsize=14)\n",
        "ax[4].set_xlim([min(platelets_val), max(platelets_val)])\n",
        "\n",
        "sns.distplot(ser_crea_val, ax=ax[5], color='b')\n",
        "ax[5].set_title('Distribution of serum creatinine', fontsize=14)\n",
        "ax[5].set_xlim([min(ser_crea_val), max(ser_crea_val)])\n",
        "\n",
        "sns.distplot(ser_sod_val, ax=ax[6], color='b')\n",
        "ax[6].set_title('Distribution of serum sodium', fontsize=14)\n",
        "ax[6].set_xlim([min(ser_sod_val), max(ser_sod_val)])\n",
        "\n",
        "plt.show()"
      ],
      "execution_count": null,
      "outputs": [
        {
          "output_type": "stream",
          "text": [
            "/usr/local/lib/python3.6/dist-packages/seaborn/distributions.py:2557: FutureWarning: `distplot` is a deprecated function and will be removed in a future version. Please adapt your code to use either `displot` (a figure-level function with similar flexibility) or `histplot` (an axes-level function for histograms).\n",
            "  warnings.warn(msg, FutureWarning)\n",
            "/usr/local/lib/python3.6/dist-packages/seaborn/distributions.py:2557: FutureWarning: `distplot` is a deprecated function and will be removed in a future version. Please adapt your code to use either `displot` (a figure-level function with similar flexibility) or `histplot` (an axes-level function for histograms).\n",
            "  warnings.warn(msg, FutureWarning)\n",
            "/usr/local/lib/python3.6/dist-packages/seaborn/distributions.py:2557: FutureWarning: `distplot` is a deprecated function and will be removed in a future version. Please adapt your code to use either `displot` (a figure-level function with similar flexibility) or `histplot` (an axes-level function for histograms).\n",
            "  warnings.warn(msg, FutureWarning)\n",
            "/usr/local/lib/python3.6/dist-packages/seaborn/distributions.py:2557: FutureWarning: `distplot` is a deprecated function and will be removed in a future version. Please adapt your code to use either `displot` (a figure-level function with similar flexibility) or `histplot` (an axes-level function for histograms).\n",
            "  warnings.warn(msg, FutureWarning)\n",
            "/usr/local/lib/python3.6/dist-packages/seaborn/distributions.py:2557: FutureWarning: `distplot` is a deprecated function and will be removed in a future version. Please adapt your code to use either `displot` (a figure-level function with similar flexibility) or `histplot` (an axes-level function for histograms).\n",
            "  warnings.warn(msg, FutureWarning)\n",
            "/usr/local/lib/python3.6/dist-packages/seaborn/distributions.py:2557: FutureWarning: `distplot` is a deprecated function and will be removed in a future version. Please adapt your code to use either `displot` (a figure-level function with similar flexibility) or `histplot` (an axes-level function for histograms).\n",
            "  warnings.warn(msg, FutureWarning)\n",
            "/usr/local/lib/python3.6/dist-packages/seaborn/distributions.py:2557: FutureWarning: `distplot` is a deprecated function and will be removed in a future version. Please adapt your code to use either `displot` (a figure-level function with similar flexibility) or `histplot` (an axes-level function for histograms).\n",
            "  warnings.warn(msg, FutureWarning)\n"
          ],
          "name": "stderr"
        },
        {
          "output_type": "display_data",
          "data": {
            "image/png": "[encoded data removed]",
            "text/plain": [
              "<Figure size 1296x1800 with 7 Axes>"
            ]
          },
          "metadata": {
            "tags": [],
            "needs_background": "light"
          }
        }
      ]
    },
    {
      "cell_type": "markdown",
      "metadata": {
        "id": "pCCTecTsJq5Q"
      },
      "source": [
        "Notemos que hay valores atipicos en serum creatinine, en creatinine phosphokinase y serum_sodium"
      ]
    },
    {
      "cell_type": "markdown",
      "metadata": {
        "id": "a8syGGVJGERU"
      },
      "source": [
        "# Preprocesamiento\n",
        "\n"
      ]
    },
    {
      "cell_type": "code",
      "metadata": {
        "id": "fVSZ3g4hEwbQ"
      },
      "source": [
        "from sklearn.preprocessing import RobustScaler"
      ],
      "execution_count": null,
      "outputs": []
    },
    {
      "cell_type": "code",
      "metadata": {
        "id": "WESEZBg4KRqG"
      },
      "source": [
        "rob_scaler = RobustScaler()\n",
        "\n",
        "data['scaled_age'] = rob_scaler.fit_transform(data['age'].values.reshape(-1,1))\n",
        "data['scaled_time'] = rob_scaler.fit_transform(data['time'].values.reshape(-1,1))\n",
        "data['scaled_creatinine_phosphokinase'] = rob_scaler.fit_transform(data['creatinine_phosphokinase'].values.reshape(-1,1))\n",
        "data['scaled_ejection_fraction'] = rob_scaler.fit_transform(data['ejection_fraction'].values.reshape(-1,1))\n",
        "data['scaled_platelets'] = rob_scaler.fit_transform(data['platelets'].values.reshape(-1,1))\n",
        "data['scaled_serum_creatinine'] = rob_scaler.fit_transform(data['serum_creatinine'].values.reshape(-1,1))\n",
        "data['scaled_serum_sodium'] = rob_scaler.fit_transform(data['serum_sodium'].values.reshape(-1,1))\n",
        "\n",
        "data.drop(['age','time','creatinine_phosphokinase','ejection_fraction','platelets','serum_creatinine','serum_sodium'], axis=1, inplace=True)\n"
      ],
      "execution_count": null,
      "outputs": []
    },
    {
      "cell_type": "markdown",
      "metadata": {
        "id": "DiJou_ywM2fH"
      },
      "source": [
        "# Random undersampling"
      ]
    },
    {
      "cell_type": "code",
      "metadata": {
        "id": "cNC6zCNQL3tU"
      },
      "source": [
        "from imblearn.under_sampling import RandomUnderSampler \n",
        "from imblearn.over_sampling import RandomOverSampler "
      ],
      "execution_count": null,
      "outputs": []
    },
    {
      "cell_type": "code",
      "metadata": {
        "id": "QOdWqUrCM_QU"
      },
      "source": [
        "undersample = RandomUnderSampler(sampling_strategy='majority')\n",
        "oversample = RandomOverSampler(sampling_strategy='minority')"
      ],
      "execution_count": null,
      "outputs": []
    },
    {
      "cell_type": "code",
      "metadata": {
        "colab": {
          "base_uri": "https://localhost:8080/"
        },
        "id": "nuH0sffdNhsu",
        "outputId": "e39277f8-eca5-4103-ecf6-03e3409a25fb"
      },
      "source": [
        "X = data.drop(\"DEATH_EVENT\",axis=1)\n",
        "y =data[\"DEATH_EVENT\"]\n",
        "\n",
        "X_under, y_under = undersample.fit_resample(X, y)\n",
        "X_over, y_over = oversample.fit_resample(X, y)"
      ],
      "execution_count": null,
      "outputs": [
        {
          "output_type": "stream",
          "text": [
            "/usr/local/lib/python3.6/dist-packages/sklearn/utils/deprecation.py:87: FutureWarning: Function safe_indexing is deprecated; safe_indexing is deprecated in version 0.22 and will be removed in version 0.24.\n",
            "  warnings.warn(msg, category=FutureWarning)\n",
            "/usr/local/lib/python3.6/dist-packages/sklearn/utils/deprecation.py:87: FutureWarning: Function safe_indexing is deprecated; safe_indexing is deprecated in version 0.22 and will be removed in version 0.24.\n",
            "  warnings.warn(msg, category=FutureWarning)\n"
          ],
          "name": "stderr"
        }
      ]
    },
    {
      "cell_type": "code",
      "metadata": {
        "colab": {
          "base_uri": "https://localhost:8080/"
        },
        "id": "SPUH0aAaNuy7",
        "outputId": "a14e806c-16ea-477e-9fc1-03b1876c013b"
      },
      "source": [
        "print(f\"Dimensiones Undersampling: {X_under.shape}\\nDimensiones Oversampling: {X_over.shape}\")"
      ],
      "execution_count": null,
      "outputs": [
        {
          "output_type": "stream",
          "text": [
            "Dimensiones Undersampling: (192, 12)\n",
            "Dimensiones Oversampling: (406, 12)\n"
          ],
          "name": "stdout"
        }
      ]
    },
    {
      "cell_type": "markdown",
      "metadata": {
        "id": "E-FLYeMgPTdr"
      },
      "source": [
        "# Modelos "
      ]
    },
    {
      "cell_type": "code",
      "metadata": {
        "id": "pHjacaRZN21Q"
      },
      "source": [
        "from sklearn.model_selection import train_test_split"
      ],
      "execution_count": null,
      "outputs": []
    },
    {
      "cell_type": "code",
      "metadata": {
        "id": "Z0_QdadsPSit"
      },
      "source": [
        "X_train_under, X_test_under, y_train_under, y_test_under = train_test_split(X_under, y_under, test_size=0.2, random_state=42)"
      ],
      "execution_count": null,
      "outputs": []
    },
    {
      "cell_type": "code",
      "metadata": {
        "id": "SPFiyl3nQigr"
      },
      "source": [
        "from sklearn.model_selection import GridSearchCV\n",
        "\n",
        "from sklearn.linear_model import LogisticRegression\n",
        "from sklearn.svm import SVC\n",
        "from sklearn.neighbors import KNeighborsClassifier\n",
        "from sklearn.tree import DecisionTreeClassifier\n",
        "from sklearn.ensemble import RandomForestClassifier"
      ],
      "execution_count": null,
      "outputs": []
    },
    {
      "cell_type": "markdown",
      "metadata": {
        "id": "fZjHwUnH3QiA"
      },
      "source": [
        "# Regresión logistica\n"
      ]
    },
    {
      "cell_type": "code",
      "metadata": {
        "id": "0pkp9gb3Qsll"
      },
      "source": [
        "log_reg_params = {'C': [0.001, 0.01, 0.1, 1, 10, 100, 1000]}\n",
        "\n",
        "grid_log_reg_under = GridSearchCV(LogisticRegression(penalty=\"l2\"), log_reg_params)\n",
        "grid_log_reg_under.fit(X_train_under, y_train_under)\n",
        "# We automatically get the logistic regression with the best parameters.\n",
        "log_reg_under = grid_log_reg_under.best_estimator_"
      ],
      "execution_count": null,
      "outputs": []
    },
    {
      "cell_type": "code",
      "metadata": {
        "colab": {
          "base_uri": "https://localhost:8080/"
        },
        "id": "XU8ErAEaQ8fI",
        "outputId": "7f2324df-63ea-4d4c-c038-f473890c7e89"
      },
      "source": [
        "log_reg_under"
      ],
      "execution_count": null,
      "outputs": [
        {
          "output_type": "execute_result",
          "data": {
            "text/plain": [
              "LogisticRegression(C=0.1, class_weight=None, dual=False, fit_intercept=True,\n",
              "                   intercept_scaling=1, l1_ratio=None, max_iter=100,\n",
              "                   multi_class='auto', n_jobs=None, penalty='l2',\n",
              "                   random_state=None, solver='lbfgs', tol=0.0001, verbose=0,\n",
              "                   warm_start=False)"
            ]
          },
          "metadata": {
            "tags": []
          },
          "execution_count": 44
        }
      ]
    },
    {
      "cell_type": "code",
      "metadata": {
        "colab": {
          "base_uri": "https://localhost:8080/"
        },
        "id": "jD3XalqqSIK6",
        "outputId": "4e09b92b-d641-480f-d3f8-7a23c722a715"
      },
      "source": [
        "from sklearn.metrics import confusion_matrix, accuracy_score\n",
        "y_pred_lg_under = log_reg_under.predict(X_test_under)\n",
        "\n",
        "\n",
        "print('---' * 45)\n",
        "print('Accuracy score Logistic regresion Undersampling: {:.2f}'.format(accuracy_score(y_test_under, y_pred_under)))\n",
        "\n",
        "cm = confusion_matrix(y_test_under,y_pred_lg_under)\n",
        "print(\"Matriz de confusión:\\n\",cm)"
      ],
      "execution_count": 104,
      "outputs": [
        {
          "output_type": "stream",
          "text": [
            "---------------------------------------------------------------------------------------------------------------------------------------\n",
            "Accuracy score Logistic regresion Undersampling: 0.85\n",
            "Matriz de confusión:\n",
            " [[14  4]\n",
            " [ 2 19]]\n"
          ],
          "name": "stdout"
        }
      ]
    },
    {
      "cell_type": "markdown",
      "metadata": {
        "id": "kg61J3yj3Vpa"
      },
      "source": [
        "# KNN"
      ]
    },
    {
      "cell_type": "code",
      "metadata": {
        "colab": {
          "base_uri": "https://localhost:8080/"
        },
        "id": "-QdplyT9sUO5",
        "outputId": "80a743d2-c97a-417b-a4fe-4c78a2ba243a"
      },
      "source": [
        "knears_params = {\"n_neighbors\": list(range(2,5,1)), 'algorithm': ['auto', 'ball_tree', 'kd_tree', 'brute']}\n",
        "\n",
        "grid_knears_under = GridSearchCV(KNeighborsClassifier(), knears_params)\n",
        "grid_knears_under.fit(X_train_under, y_train_under)\n",
        "# KNears best estimator\n",
        "knears_neighbors_under= grid_knears_under.best_estimator_\n",
        "\n",
        "y_pred_knn_under = knears_neighbors_under.predict(X_test_under)\n",
        "\n",
        "\n",
        "print('---' * 45)\n",
        "print('Accuracy score KNN Undersampling: {:.2f}'.format(accuracy_score(y_test_under, y_pred_knn_under)))\n",
        "\n",
        "cm = confusion_matrix(y_test_under,y_pred_knn_under)\n",
        "print(\"Matriz de confusión:\\n\",cm)"
      ],
      "execution_count": 103,
      "outputs": [
        {
          "output_type": "stream",
          "text": [
            "---------------------------------------------------------------------------------------------------------------------------------------\n",
            "Accuracy score KNN Undersampling: 0.69\n",
            "Matriz de confusión:\n",
            " [[15  3]\n",
            " [ 9 12]]\n"
          ],
          "name": "stdout"
        }
      ]
    },
    {
      "cell_type": "markdown",
      "metadata": {
        "id": "XPrmdMJg3Yh5"
      },
      "source": [
        "#SVC"
      ]
    },
    {
      "cell_type": "code",
      "metadata": {
        "colab": {
          "base_uri": "https://localhost:8080/"
        },
        "id": "0z_cl9XvEZgV",
        "outputId": "f0bf9164-ca69-4ae9-bd80-a58712ca0018"
      },
      "source": [
        "svc_params = {'C': [0.5, 0.7, 0.9, 1], 'kernel': ['rbf', 'poly', 'sigmoid', 'linear']}\n",
        "grid_svc_under = GridSearchCV(SVC(), svc_params)\n",
        "grid_svc_under.fit(X_train_under, y_train_under)\n",
        "\n",
        "# SVC best estimator\n",
        "svc_under = grid_svc_under.best_estimator_\n",
        "\n",
        "y_pred_svc_under = svc_under.predict(X_test_under)\n",
        "\n",
        "\n",
        "print('---' * 45)\n",
        "print('Accuracy score SVC Undersampling: {:.2f}'.format(accuracy_score(y_test_under, y_pred_svc_under)))\n",
        "\n",
        "cm = confusion_matrix(y_test_under,y_pred_svc_under)\n",
        "print(\"Matriz de confusión:\\n\",cm)"
      ],
      "execution_count": 102,
      "outputs": [
        {
          "output_type": "stream",
          "text": [
            "---------------------------------------------------------------------------------------------------------------------------------------\n",
            "Accuracy score SVC Undersampling: 0.85\n",
            "Matriz de confusión:\n",
            " [[14  4]\n",
            " [ 2 19]]\n"
          ],
          "name": "stdout"
        }
      ]
    },
    {
      "cell_type": "markdown",
      "metadata": {
        "id": "K_JdIic43a5V"
      },
      "source": [
        "#DecisionTree Classifier"
      ]
    },
    {
      "cell_type": "code",
      "metadata": {
        "colab": {
          "base_uri": "https://localhost:8080/"
        },
        "id": "oEvZtLfnEcmO",
        "outputId": "122407ac-3efd-4ac4-bcdc-1c934d7411f1"
      },
      "source": [
        "# DecisionTree Classifier\n",
        "tree_params = {\"criterion\": [\"gini\", \"entropy\"], \"max_depth\": list(range(2,4,1)), \n",
        "              \"min_samples_leaf\": list(range(5,7,1))}\n",
        "grid_tree_under = GridSearchCV(DecisionTreeClassifier(), tree_params)\n",
        "grid_tree_under.fit(X_train_under, y_train_under)\n",
        "\n",
        "# tree best estimator\n",
        "tree_clf_under = grid_tree_under.best_estimator_\n",
        "\n",
        "y_pred_tree_under = tree_clf_under.predict(X_test_under)\n",
        "\n",
        "\n",
        "print('---' * 45)\n",
        "print('Accuracy score DecisionTree Undersampling: {:.2f}'.format(accuracy_score(y_test_under, y_pred_tree_under)))\n",
        "\n",
        "cm = confusion_matrix(y_test_under,y_pred_tree_under)\n",
        "print(\"Matriz de confusión:\\n\",cm)"
      ],
      "execution_count": 101,
      "outputs": [
        {
          "output_type": "stream",
          "text": [
            "---------------------------------------------------------------------------------------------------------------------------------------\n",
            "Accuracy score DecisionTree Undersampling: 0.82\n",
            "Matriz de confusión:\n",
            " [[15  3]\n",
            " [ 4 17]]\n"
          ],
          "name": "stdout"
        }
      ]
    },
    {
      "cell_type": "markdown",
      "metadata": {
        "id": "AEyrW0J33gJ5"
      },
      "source": [
        "# Red neuronal artificial"
      ]
    },
    {
      "cell_type": "code",
      "metadata": {
        "id": "_h-01brxHViS"
      },
      "source": [
        "import keras\n",
        "from keras.models import Sequential\n",
        "from keras.layers import Dense\n",
        "from keras.layers import Dropout"
      ],
      "execution_count": null,
      "outputs": []
    },
    {
      "cell_type": "code",
      "metadata": {
        "colab": {
          "base_uri": "https://localhost:8080/"
        },
        "id": "tMg90CFyHljY",
        "outputId": "1bc90bfc-0260-47da-ab4f-ffb4c2ba9cf4"
      },
      "source": [
        "classifier = Sequential()\n",
        "classifier.add(Dense(units = 3, kernel_initializer = \"uniform\",activation = \"relu\", input_dim = 12))\n",
        "classifier.add(Dense(units = 6, kernel_initializer = \"uniform\",  activation = \"relu\"))\n",
        "classifier.add(Dense(units = 1, kernel_initializer = \"uniform\",  activation = \"sigmoid\"))\n",
        "classifier.compile(optimizer = \"adam\", loss = \"binary_crossentropy\", metrics = [\"accuracy\"])\n",
        "classifier.fit(X_train_under, y_train_under,  batch_size = 5, epochs = 15)"
      ],
      "execution_count": null,
      "outputs": [
        {
          "output_type": "stream",
          "text": [
            "Epoch 1/15\n",
            "31/31 [==============================] - 0s 1ms/step - loss: 0.6933 - accuracy: 0.4303\n",
            "Epoch 2/15\n",
            "31/31 [==============================] - 0s 1ms/step - loss: 0.6929 - accuracy: 0.5712\n",
            "Epoch 3/15\n",
            "31/31 [==============================] - 0s 1ms/step - loss: 0.6930 - accuracy: 0.5008\n",
            "Epoch 4/15\n",
            "31/31 [==============================] - 0s 1ms/step - loss: 0.6919 - accuracy: 0.7918\n",
            "Epoch 5/15\n",
            "31/31 [==============================] - 0s 1ms/step - loss: 0.6894 - accuracy: 0.7727\n",
            "Epoch 6/15\n",
            "31/31 [==============================] - 0s 1ms/step - loss: 0.6854 - accuracy: 0.7804\n",
            "Epoch 7/15\n",
            "31/31 [==============================] - 0s 1ms/step - loss: 0.6797 - accuracy: 0.7172\n",
            "Epoch 8/15\n",
            "31/31 [==============================] - 0s 1ms/step - loss: 0.6729 - accuracy: 0.7414\n",
            "Epoch 9/15\n",
            "31/31 [==============================] - 0s 1ms/step - loss: 0.6657 - accuracy: 0.7578\n",
            "Epoch 10/15\n",
            "31/31 [==============================] - 0s 1ms/step - loss: 0.6585 - accuracy: 0.7510\n",
            "Epoch 11/15\n",
            "31/31 [==============================] - 0s 1ms/step - loss: 0.6429 - accuracy: 0.7000\n",
            "Epoch 12/15\n",
            "31/31 [==============================] - 0s 1ms/step - loss: 0.6290 - accuracy: 0.7743\n",
            "Epoch 13/15\n",
            "31/31 [==============================] - 0s 1ms/step - loss: 0.6248 - accuracy: 0.7351\n",
            "Epoch 14/15\n",
            "31/31 [==============================] - 0s 1ms/step - loss: 0.6142 - accuracy: 0.7332\n",
            "Epoch 15/15\n",
            "31/31 [==============================] - 0s 1ms/step - loss: 0.6002 - accuracy: 0.7527\n"
          ],
          "name": "stdout"
        },
        {
          "output_type": "execute_result",
          "data": {
            "text/plain": [
              "<tensorflow.python.keras.callbacks.History at 0x7f668ae6df98>"
            ]
          },
          "metadata": {
            "tags": []
          },
          "execution_count": 84
        }
      ]
    },
    {
      "cell_type": "code",
      "metadata": {
        "id": "I8wVoHK-HzxG"
      },
      "source": [
        "y_pred_rna_under  = classifier.predict(X_test_under)\n",
        "y_pred_rna_under = (y_pred_rna_under>0.5)"
      ],
      "execution_count": null,
      "outputs": []
    },
    {
      "cell_type": "code",
      "metadata": {
        "colab": {
          "base_uri": "https://localhost:8080/"
        },
        "id": "XTp1Iv2YH1dx",
        "outputId": "2af2a754-ea9f-45f8-acd5-c9fd13f7a0c5"
      },
      "source": [
        "print('---' * 45)\n",
        "print('Accuracy score artificial neural network Undersampling: {:.2f}'.format(accuracy_score(y_test_under,y_pred_rna_under)))\n",
        "\n",
        "cm = confusion_matrix(y_test_under,y_pred_rna_under)\n",
        "print(\"Matriz de confusión:\\n\",cm)"
      ],
      "execution_count": 100,
      "outputs": [
        {
          "output_type": "stream",
          "text": [
            "---------------------------------------------------------------------------------------------------------------------------------------\n",
            "Accuracy score artificial neural network Undersampling: 0.82\n",
            "Matriz de confusión:\n",
            " [[11  7]\n",
            " [ 0 21]]\n"
          ],
          "name": "stdout"
        }
      ]
    },
    {
      "cell_type": "markdown",
      "metadata": {
        "id": "K4h26mc13lse"
      },
      "source": [
        "# Red neuronal artificial MLPClassifier (Sklearn)"
      ]
    },
    {
      "cell_type": "code",
      "metadata": {
        "id": "dKTbF2_fI1T5"
      },
      "source": [
        "from sklearn.neural_network import MLPClassifier"
      ],
      "execution_count": 91,
      "outputs": []
    },
    {
      "cell_type": "code",
      "metadata": {
        "colab": {
          "base_uri": "https://localhost:8080/"
        },
        "id": "w1970n82eSx7",
        "outputId": "e33aa47e-f85c-40eb-cbd7-50e67374b16e"
      },
      "source": [
        "mlpc = MLPClassifier(random_state=1, max_iter=1200).fit(X_train_under, y_train_under)\n",
        "y_pred_mlpc_under=mlpc.predict(X_test_under)\n",
        "\n",
        "print('---' * 45)\n",
        "print('Accuracy score MLPCClassifier undersampling: {:.2f}'.format(accuracy_score(y_test_under,y_pred_mlpc_under)))\n",
        "\n",
        "cm = confusion_matrix(y_test_under,y_pred_mlpc_under)\n",
        "print(\"Matriz de confusión:\\n\",cm)"
      ],
      "execution_count": 99,
      "outputs": [
        {
          "output_type": "stream",
          "text": [
            "---------------------------------------------------------------------------------------------------------------------------------------\n",
            "Accuracy score MLPCClassifier undersampling: 0.87\n",
            "Matriz de confusión:\n",
            " [[15  3]\n",
            " [ 2 19]]\n"
          ],
          "name": "stdout"
        }
      ]
    },
    {
      "cell_type": "markdown",
      "metadata": {
        "id": "1BAdTmDofSe7"
      },
      "source": [
        "# Resumen modelos ajustados con Undersampling\n",
        "\n",
        "\n",
        "| Modelo |  Accuracy |\n",
        "| --- | --- |\n",
        "| LogisticRegression | 0.85 |\n",
        "| KNeighborsClassifier | 0.69 |\n",
        "| DecisionTree | 0.82 |\n",
        "| SVC | 0.85|\n",
        "|RNA (Keras) |0.82 |\n",
        "|MLPClassifier| 0.87 |\n",
        "\n",
        "En base a estos resultados podemos ver que la red neuronal MLPClassifier tuvo buenos resultados. Desde la documentación podemos ver que es una red neuronal con la siguiente estructura\n",
        "\n",
        "\n",
        "\n",
        "*   100 neuronas por capa oculta, por defecto 1 capa oculta.\n",
        "*   Activación relu\n",
        "*   Optimizador Adam\n",
        "*   Regularizador L2 con $\\alpha=0.0001$\n",
        "*   Batch size = min(200, n_samples)\n",
        "\n"
      ]
    },
    {
      "cell_type": "markdown",
      "metadata": {
        "id": "4UWn3_gW3vFP"
      },
      "source": [
        "Basandonos en estos parametros haremos un GridSearch para tratar de mejorar el 87% de precisión"
      ]
    },
    {
      "cell_type": "code",
      "metadata": {
        "id": "Rq0ymnXQj7Bo"
      },
      "source": [
        "def build_classifier(n1,n2,nl1,nl2,r):\n",
        "  model = Sequential()\n",
        "  model.add(Dense(n1, input_dim=12,kernel_regularizer=l2(nl1), bias_regularizer=l2(nl1), activation='relu'))\n",
        "  model.add(Dropout(rate=r))\n",
        "  model.add(Dense(n2, activation='relu',kernel_regularizer=l2(nl2), bias_regularizer=l2(nl2)))\n",
        "  model.add(Dropout(rate=r))\n",
        "  model.add(Dense(1, activation='sigmoid'))\n",
        "# Compile model\n",
        "  model.compile(loss='binary_crossentropy', optimizer='adam', metrics=['accuracy'])\n",
        "  return classifier\n"
      ],
      "execution_count": 275,
      "outputs": []
    },
    {
      "cell_type": "code",
      "metadata": {
        "id": "VytobRYLqs9n"
      },
      "source": [
        "classifier2 = KerasClassifier(build_fn = build_classifier)"
      ],
      "execution_count": 276,
      "outputs": []
    },
    {
      "cell_type": "code",
      "metadata": {
        "id": "frR9OH-fqxgW"
      },
      "source": [
        "parameters = {\n",
        "    'n1' : [100,90],\n",
        "    'n2' : [100,90,10],\n",
        "    'r' : [0.001,0.001],\n",
        "    'nl1' : [0.01,0.00001],\n",
        "    'nl2' : [0.01,0.0001,0.00001]\n",
        "}"
      ],
      "execution_count": 283,
      "outputs": []
    },
    {
      "cell_type": "code",
      "metadata": {
        "colab": {
          "base_uri": "https://localhost:8080/"
        },
        "id": "JgFhBh9QrdOe",
        "outputId": "fddb5e86-e541-4b92-bbdb-79e13dfa7d55"
      },
      "source": [
        "grid_search = GridSearchCV(estimator = classifier2, \n",
        "                           param_grid = parameters, \n",
        "                           scoring = 'accuracy', \n",
        "                           cv = 10)\n",
        "grid_search = grid_search.fit(X_train_under, y_train_under)\n",
        "\n",
        "best_parameters = grid_search.best_params_\n",
        "best_accuracy = grid_search.best_score_\n"
      ],
      "execution_count": 284,
      "outputs": [
        {
          "output_type": "stream",
          "text": [
            "5/5 [==============================] - 0s 2ms/step - loss: 0.1116 - accuracy: 0.9270\n",
            "5/5 [==============================] - 0s 2ms/step - loss: 0.0954 - accuracy: 0.9416\n"
          ],
          "name": "stdout"
        },
        {
          "output_type": "stream",
          "text": [
            "/usr/local/lib/python3.6/dist-packages/tensorflow/python/keras/engine/sequential.py:450: UserWarning: `model.predict_classes()` is deprecated and will be removed after 2021-01-01. Please use instead:* `np.argmax(model.predict(x), axis=-1)`,   if your model does multi-class classification   (e.g. if it uses a `softmax` last-layer activation).* `(model.predict(x) > 0.5).astype(\"int32\")`,   if your model does binary classification   (e.g. if it uses a `sigmoid` last-layer activation).\n",
            "  warnings.warn('`model.predict_classes()` is deprecated and '\n"
          ],
          "name": "stderr"
        },
        {
          "output_type": "stream",
          "text": [
            "5/5 [==============================] - 0s 2ms/step - loss: 0.1013 - accuracy: 0.9343\n",
            "5/5 [==============================] - 0s 2ms/step - loss: 0.1048 - accuracy: 0.9348\n",
            "5/5 [==============================] - 0s 2ms/step - loss: 0.1048 - accuracy: 0.9348\n",
            "5/5 [==============================] - 0s 2ms/step - loss: 0.1046 - accuracy: 0.9348\n",
            "5/5 [==============================] - 0s 2ms/step - loss: 0.0944 - accuracy: 0.9420\n",
            "5/5 [==============================] - 0s 2ms/step - loss: 0.1005 - accuracy: 0.9348\n",
            "5/5 [==============================] - 0s 2ms/step - loss: 0.1089 - accuracy: 0.9348\n",
            "5/5 [==============================] - 0s 2ms/step - loss: 0.1107 - accuracy: 0.9275\n",
            "5/5 [==============================] - 0s 2ms/step - loss: 0.1115 - accuracy: 0.9270\n",
            "5/5 [==============================] - 0s 2ms/step - loss: 0.0953 - accuracy: 0.9416\n",
            "5/5 [==============================] - 0s 2ms/step - loss: 0.1013 - accuracy: 0.9343\n",
            "5/5 [==============================] - 0s 2ms/step - loss: 0.1048 - accuracy: 0.9348\n",
            "5/5 [==============================] - 0s 2ms/step - loss: 0.1048 - accuracy: 0.9348\n",
            "5/5 [==============================] - 0s 2ms/step - loss: 0.1046 - accuracy: 0.9348\n",
            "5/5 [==============================] - 0s 2ms/step - loss: 0.0944 - accuracy: 0.9420\n",
            "5/5 [==============================] - 0s 2ms/step - loss: 0.1005 - accuracy: 0.9348\n",
            "5/5 [==============================] - 0s 2ms/step - loss: 0.1089 - accuracy: 0.9348\n",
            "5/5 [==============================] - 0s 2ms/step - loss: 0.1107 - accuracy: 0.9275\n",
            "5/5 [==============================] - 0s 2ms/step - loss: 0.1115 - accuracy: 0.9270\n",
            "5/5 [==============================] - 0s 2ms/step - loss: 0.0953 - accuracy: 0.9416\n",
            "5/5 [==============================] - 0s 2ms/step - loss: 0.1013 - accuracy: 0.9343\n",
            "5/5 [==============================] - 0s 2ms/step - loss: 0.1048 - accuracy: 0.9348\n",
            "5/5 [==============================] - 0s 2ms/step - loss: 0.1048 - accuracy: 0.9348\n",
            "5/5 [==============================] - 0s 2ms/step - loss: 0.1045 - accuracy: 0.9348\n",
            "5/5 [==============================] - 0s 2ms/step - loss: 0.0944 - accuracy: 0.9420\n",
            "5/5 [==============================] - 0s 2ms/step - loss: 0.1005 - accuracy: 0.9348\n",
            "5/5 [==============================] - 0s 3ms/step - loss: 0.1090 - accuracy: 0.9348\n",
            "5/5 [==============================] - 0s 2ms/step - loss: 0.1108 - accuracy: 0.9275\n",
            "5/5 [==============================] - 0s 2ms/step - loss: 0.1116 - accuracy: 0.9270\n",
            "5/5 [==============================] - 0s 2ms/step - loss: 0.0954 - accuracy: 0.9416\n",
            "5/5 [==============================] - 0s 2ms/step - loss: 0.1014 - accuracy: 0.9343\n",
            "5/5 [==============================] - 0s 2ms/step - loss: 0.1048 - accuracy: 0.9348\n",
            "5/5 [==============================] - 0s 2ms/step - loss: 0.1049 - accuracy: 0.9348\n",
            "5/5 [==============================] - 0s 2ms/step - loss: 0.1046 - accuracy: 0.9348\n",
            "5/5 [==============================] - 0s 2ms/step - loss: 0.0944 - accuracy: 0.9420\n",
            "5/5 [==============================] - 0s 2ms/step - loss: 0.1005 - accuracy: 0.9348\n",
            "5/5 [==============================] - 0s 2ms/step - loss: 0.1089 - accuracy: 0.9348\n",
            "5/5 [==============================] - 0s 2ms/step - loss: 0.1107 - accuracy: 0.9275\n",
            "5/5 [==============================] - 0s 2ms/step - loss: 0.1115 - accuracy: 0.9270\n",
            "5/5 [==============================] - 0s 2ms/step - loss: 0.0953 - accuracy: 0.9416\n",
            "5/5 [==============================] - 0s 2ms/step - loss: 0.1013 - accuracy: 0.9343\n",
            "5/5 [==============================] - 0s 2ms/step - loss: 0.1048 - accuracy: 0.9348\n",
            "5/5 [==============================] - 0s 4ms/step - loss: 0.1050 - accuracy: 0.9348\n",
            "5/5 [==============================] - 0s 2ms/step - loss: 0.1048 - accuracy: 0.9348\n",
            "5/5 [==============================] - 0s 2ms/step - loss: 0.0946 - accuracy: 0.9420\n",
            "5/5 [==============================] - 0s 2ms/step - loss: 0.1008 - accuracy: 0.9348\n",
            "5/5 [==============================] - 0s 2ms/step - loss: 0.1090 - accuracy: 0.9348\n",
            "5/5 [==============================] - 0s 2ms/step - loss: 0.1108 - accuracy: 0.9275\n",
            "5/5 [==============================] - 0s 2ms/step - loss: 0.1117 - accuracy: 0.9270\n",
            "5/5 [==============================] - 0s 2ms/step - loss: 0.0953 - accuracy: 0.9416\n",
            "5/5 [==============================] - 0s 2ms/step - loss: 0.1013 - accuracy: 0.9343\n",
            "5/5 [==============================] - 0s 4ms/step - loss: 0.1048 - accuracy: 0.9348\n",
            "5/5 [==============================] - 0s 3ms/step - loss: 0.1048 - accuracy: 0.9348\n",
            "5/5 [==============================] - 0s 3ms/step - loss: 0.1047 - accuracy: 0.9348\n",
            "5/5 [==============================] - 0s 2ms/step - loss: 0.0944 - accuracy: 0.9420\n",
            "5/5 [==============================] - 0s 2ms/step - loss: 0.1005 - accuracy: 0.9348\n",
            "5/5 [==============================] - 0s 2ms/step - loss: 0.1089 - accuracy: 0.9348\n",
            "5/5 [==============================] - 0s 2ms/step - loss: 0.1107 - accuracy: 0.9275\n",
            "5/5 [==============================] - 0s 2ms/step - loss: 0.1116 - accuracy: 0.9270\n",
            "5/5 [==============================] - 0s 2ms/step - loss: 0.0954 - accuracy: 0.9416\n",
            "5/5 [==============================] - 0s 2ms/step - loss: 0.1015 - accuracy: 0.9343\n",
            "5/5 [==============================] - 0s 3ms/step - loss: 0.1050 - accuracy: 0.9348\n",
            "5/5 [==============================] - 0s 2ms/step - loss: 0.1050 - accuracy: 0.9348\n",
            "5/5 [==============================] - 0s 2ms/step - loss: 0.1047 - accuracy: 0.9348\n",
            "5/5 [==============================] - 0s 2ms/step - loss: 0.0945 - accuracy: 0.9420\n",
            "5/5 [==============================] - 0s 2ms/step - loss: 0.1006 - accuracy: 0.9348\n",
            "5/5 [==============================] - 0s 2ms/step - loss: 0.1089 - accuracy: 0.9348\n",
            "5/5 [==============================] - 0s 2ms/step - loss: 0.1108 - accuracy: 0.9275\n",
            "5/5 [==============================] - 0s 2ms/step - loss: 0.1116 - accuracy: 0.9270\n",
            "5/5 [==============================] - 0s 2ms/step - loss: 0.0953 - accuracy: 0.9416\n",
            "5/5 [==============================] - 0s 3ms/step - loss: 0.1013 - accuracy: 0.9343\n",
            "5/5 [==============================] - 0s 3ms/step - loss: 0.1048 - accuracy: 0.9348\n",
            "5/5 [==============================] - 0s 3ms/step - loss: 0.1048 - accuracy: 0.9348\n",
            "5/5 [==============================] - 0s 4ms/step - loss: 0.1045 - accuracy: 0.9348\n",
            "5/5 [==============================] - 0s 2ms/step - loss: 0.0944 - accuracy: 0.9420\n",
            "5/5 [==============================] - 0s 2ms/step - loss: 0.1004 - accuracy: 0.9348\n",
            "5/5 [==============================] - 0s 2ms/step - loss: 0.1091 - accuracy: 0.9348\n",
            "5/5 [==============================] - 0s 2ms/step - loss: 0.1107 - accuracy: 0.9275\n",
            "5/5 [==============================] - 0s 2ms/step - loss: 0.1116 - accuracy: 0.9270\n",
            "5/5 [==============================] - 0s 2ms/step - loss: 0.0953 - accuracy: 0.9416\n",
            "5/5 [==============================] - 0s 2ms/step - loss: 0.1014 - accuracy: 0.9343\n",
            "5/5 [==============================] - 0s 2ms/step - loss: 0.1048 - accuracy: 0.9348\n",
            "5/5 [==============================] - 0s 2ms/step - loss: 0.1048 - accuracy: 0.9348\n",
            "5/5 [==============================] - 0s 2ms/step - loss: 0.1045 - accuracy: 0.9348\n",
            "5/5 [==============================] - 0s 3ms/step - loss: 0.0944 - accuracy: 0.9420\n",
            "5/5 [==============================] - 0s 3ms/step - loss: 0.1005 - accuracy: 0.9348\n",
            "5/5 [==============================] - 0s 2ms/step - loss: 0.1089 - accuracy: 0.9348\n",
            "5/5 [==============================] - 0s 2ms/step - loss: 0.1108 - accuracy: 0.9275\n",
            "5/5 [==============================] - 0s 3ms/step - loss: 0.1116 - accuracy: 0.9270\n",
            "5/5 [==============================] - 0s 2ms/step - loss: 0.0953 - accuracy: 0.9416\n",
            "5/5 [==============================] - 0s 2ms/step - loss: 0.1013 - accuracy: 0.9343\n",
            "5/5 [==============================] - 0s 2ms/step - loss: 0.1048 - accuracy: 0.9348\n",
            "5/5 [==============================] - 0s 2ms/step - loss: 0.1048 - accuracy: 0.9348\n",
            "5/5 [==============================] - 0s 2ms/step - loss: 0.1045 - accuracy: 0.9348\n",
            "5/5 [==============================] - 0s 2ms/step - loss: 0.0944 - accuracy: 0.9420\n",
            "5/5 [==============================] - 0s 2ms/step - loss: 0.1005 - accuracy: 0.9348\n",
            "5/5 [==============================] - 0s 2ms/step - loss: 0.1089 - accuracy: 0.9348\n",
            "5/5 [==============================] - 0s 2ms/step - loss: 0.1107 - accuracy: 0.9275\n",
            "5/5 [==============================] - 0s 3ms/step - loss: 0.1115 - accuracy: 0.9270\n",
            "5/5 [==============================] - 0s 2ms/step - loss: 0.0953 - accuracy: 0.9416\n",
            "5/5 [==============================] - 0s 2ms/step - loss: 0.1012 - accuracy: 0.9343\n",
            "5/5 [==============================] - 0s 3ms/step - loss: 0.1048 - accuracy: 0.9348\n",
            "5/5 [==============================] - 0s 2ms/step - loss: 0.1047 - accuracy: 0.9348\n",
            "5/5 [==============================] - 0s 3ms/step - loss: 0.1045 - accuracy: 0.9348\n",
            "5/5 [==============================] - 0s 2ms/step - loss: 0.0944 - accuracy: 0.9420\n",
            "5/5 [==============================] - 0s 3ms/step - loss: 0.1005 - accuracy: 0.9348\n",
            "5/5 [==============================] - 0s 3ms/step - loss: 0.1088 - accuracy: 0.9348\n",
            "5/5 [==============================] - 0s 2ms/step - loss: 0.1107 - accuracy: 0.9275\n",
            "5/5 [==============================] - 0s 2ms/step - loss: 0.1116 - accuracy: 0.9270\n",
            "5/5 [==============================] - 0s 2ms/step - loss: 0.0952 - accuracy: 0.9416\n",
            "5/5 [==============================] - 0s 3ms/step - loss: 0.1012 - accuracy: 0.9343\n",
            "5/5 [==============================] - 0s 3ms/step - loss: 0.1047 - accuracy: 0.9348\n",
            "5/5 [==============================] - 0s 2ms/step - loss: 0.1048 - accuracy: 0.9348\n",
            "5/5 [==============================] - 0s 2ms/step - loss: 0.1046 - accuracy: 0.9348\n",
            "5/5 [==============================] - 0s 3ms/step - loss: 0.0947 - accuracy: 0.9420\n",
            "5/5 [==============================] - 0s 2ms/step - loss: 0.1008 - accuracy: 0.9348\n",
            "5/5 [==============================] - 0s 2ms/step - loss: 0.1090 - accuracy: 0.9348\n",
            "5/5 [==============================] - 0s 3ms/step - loss: 0.1109 - accuracy: 0.9275\n",
            "5/5 [==============================] - 0s 3ms/step - loss: 0.1117 - accuracy: 0.9270\n",
            "5/5 [==============================] - 0s 2ms/step - loss: 0.0953 - accuracy: 0.9416\n",
            "5/5 [==============================] - 0s 3ms/step - loss: 0.1013 - accuracy: 0.9343\n",
            "5/5 [==============================] - 0s 3ms/step - loss: 0.1050 - accuracy: 0.9348\n",
            "5/5 [==============================] - 0s 3ms/step - loss: 0.1049 - accuracy: 0.9348\n",
            "5/5 [==============================] - 0s 3ms/step - loss: 0.1047 - accuracy: 0.9348\n",
            "5/5 [==============================] - 0s 3ms/step - loss: 0.0947 - accuracy: 0.9420\n",
            "5/5 [==============================] - 0s 3ms/step - loss: 0.1008 - accuracy: 0.9348\n",
            "5/5 [==============================] - 0s 2ms/step - loss: 0.1092 - accuracy: 0.9348\n",
            "5/5 [==============================] - 0s 2ms/step - loss: 0.1110 - accuracy: 0.9275\n",
            "5/5 [==============================] - 0s 3ms/step - loss: 0.1118 - accuracy: 0.9270\n",
            "5/5 [==============================] - 0s 3ms/step - loss: 0.0955 - accuracy: 0.9416\n",
            "5/5 [==============================] - 0s 3ms/step - loss: 0.1013 - accuracy: 0.9343\n",
            "5/5 [==============================] - 0s 2ms/step - loss: 0.1048 - accuracy: 0.9348\n",
            "5/5 [==============================] - 0s 2ms/step - loss: 0.1048 - accuracy: 0.9348\n",
            "5/5 [==============================] - 0s 2ms/step - loss: 0.1047 - accuracy: 0.9348\n",
            "5/5 [==============================] - 0s 3ms/step - loss: 0.0945 - accuracy: 0.9420\n",
            "5/5 [==============================] - 0s 3ms/step - loss: 0.1006 - accuracy: 0.9348\n",
            "5/5 [==============================] - 0s 3ms/step - loss: 0.1090 - accuracy: 0.9348\n",
            "5/5 [==============================] - 0s 2ms/step - loss: 0.1108 - accuracy: 0.9275\n",
            "5/5 [==============================] - 0s 2ms/step - loss: 0.1116 - accuracy: 0.9270\n",
            "5/5 [==============================] - 0s 2ms/step - loss: 0.0953 - accuracy: 0.9416\n",
            "5/5 [==============================] - 0s 3ms/step - loss: 0.1012 - accuracy: 0.9343\n",
            "5/5 [==============================] - 0s 2ms/step - loss: 0.1048 - accuracy: 0.9348\n",
            "5/5 [==============================] - 0s 2ms/step - loss: 0.1048 - accuracy: 0.9348\n",
            "5/5 [==============================] - 0s 3ms/step - loss: 0.1045 - accuracy: 0.9348\n",
            "5/5 [==============================] - 0s 2ms/step - loss: 0.0944 - accuracy: 0.9420\n",
            "5/5 [==============================] - 0s 2ms/step - loss: 0.1005 - accuracy: 0.9348\n",
            "5/5 [==============================] - 0s 2ms/step - loss: 0.1089 - accuracy: 0.9348\n",
            "5/5 [==============================] - 0s 2ms/step - loss: 0.1107 - accuracy: 0.9275\n",
            "5/5 [==============================] - 0s 2ms/step - loss: 0.1115 - accuracy: 0.9270\n",
            "5/5 [==============================] - 0s 2ms/step - loss: 0.0953 - accuracy: 0.9416\n",
            "5/5 [==============================] - 0s 2ms/step - loss: 0.1012 - accuracy: 0.9343\n",
            "5/5 [==============================] - 0s 4ms/step - loss: 0.1049 - accuracy: 0.9348\n",
            "5/5 [==============================] - 0s 2ms/step - loss: 0.1048 - accuracy: 0.9348\n",
            "5/5 [==============================] - 0s 2ms/step - loss: 0.1046 - accuracy: 0.9348\n",
            "5/5 [==============================] - 0s 2ms/step - loss: 0.0945 - accuracy: 0.9420\n",
            "5/5 [==============================] - 0s 2ms/step - loss: 0.1005 - accuracy: 0.9348\n",
            "5/5 [==============================] - 0s 2ms/step - loss: 0.1089 - accuracy: 0.9348\n",
            "5/5 [==============================] - 0s 3ms/step - loss: 0.1107 - accuracy: 0.9275\n",
            "5/5 [==============================] - 0s 4ms/step - loss: 0.1115 - accuracy: 0.9270\n",
            "5/5 [==============================] - 0s 3ms/step - loss: 0.0952 - accuracy: 0.9416\n",
            "5/5 [==============================] - 0s 2ms/step - loss: 0.1012 - accuracy: 0.9343\n",
            "5/5 [==============================] - 0s 3ms/step - loss: 0.1050 - accuracy: 0.9348\n",
            "5/5 [==============================] - 0s 3ms/step - loss: 0.1047 - accuracy: 0.9348\n",
            "5/5 [==============================] - 0s 3ms/step - loss: 0.1046 - accuracy: 0.9348\n",
            "5/5 [==============================] - 0s 2ms/step - loss: 0.0945 - accuracy: 0.9420\n",
            "5/5 [==============================] - 0s 2ms/step - loss: 0.1005 - accuracy: 0.9348\n",
            "5/5 [==============================] - 0s 2ms/step - loss: 0.1088 - accuracy: 0.9348\n",
            "5/5 [==============================] - 0s 2ms/step - loss: 0.1107 - accuracy: 0.9275\n",
            "5/5 [==============================] - 0s 2ms/step - loss: 0.1117 - accuracy: 0.9270\n",
            "5/5 [==============================] - 0s 3ms/step - loss: 0.0953 - accuracy: 0.9416\n",
            "5/5 [==============================] - 0s 3ms/step - loss: 0.1013 - accuracy: 0.9343\n",
            "5/5 [==============================] - 0s 2ms/step - loss: 0.1049 - accuracy: 0.9348\n",
            "5/5 [==============================] - 0s 3ms/step - loss: 0.1049 - accuracy: 0.9348\n",
            "5/5 [==============================] - 0s 3ms/step - loss: 0.1045 - accuracy: 0.9348\n",
            "5/5 [==============================] - 0s 3ms/step - loss: 0.0944 - accuracy: 0.9420\n",
            "5/5 [==============================] - 0s 2ms/step - loss: 0.1004 - accuracy: 0.9348\n",
            "5/5 [==============================] - 0s 2ms/step - loss: 0.1089 - accuracy: 0.9348\n",
            "5/5 [==============================] - 0s 2ms/step - loss: 0.1107 - accuracy: 0.9275\n",
            "5/5 [==============================] - 0s 3ms/step - loss: 0.1115 - accuracy: 0.9270\n",
            "5/5 [==============================] - 0s 3ms/step - loss: 0.0953 - accuracy: 0.9416\n",
            "5/5 [==============================] - 0s 3ms/step - loss: 0.1012 - accuracy: 0.9343\n",
            "5/5 [==============================] - 0s 3ms/step - loss: 0.1047 - accuracy: 0.9348\n",
            "5/5 [==============================] - 0s 3ms/step - loss: 0.1047 - accuracy: 0.9348\n",
            "5/5 [==============================] - 0s 2ms/step - loss: 0.1045 - accuracy: 0.9348\n",
            "5/5 [==============================] - 0s 2ms/step - loss: 0.0943 - accuracy: 0.9420\n",
            "5/5 [==============================] - 0s 3ms/step - loss: 0.1004 - accuracy: 0.9348\n",
            "5/5 [==============================] - 0s 2ms/step - loss: 0.1088 - accuracy: 0.9348\n",
            "5/5 [==============================] - 0s 3ms/step - loss: 0.1107 - accuracy: 0.9275\n",
            "5/5 [==============================] - 0s 3ms/step - loss: 0.1115 - accuracy: 0.9270\n",
            "5/5 [==============================] - 0s 3ms/step - loss: 0.0953 - accuracy: 0.9416\n",
            "5/5 [==============================] - 0s 2ms/step - loss: 0.1012 - accuracy: 0.9343\n",
            "5/5 [==============================] - 0s 4ms/step - loss: 0.1047 - accuracy: 0.9348\n",
            "5/5 [==============================] - 0s 2ms/step - loss: 0.1047 - accuracy: 0.9348\n",
            "5/5 [==============================] - 0s 4ms/step - loss: 0.1045 - accuracy: 0.9348\n",
            "5/5 [==============================] - 0s 2ms/step - loss: 0.0945 - accuracy: 0.9420\n",
            "5/5 [==============================] - 0s 3ms/step - loss: 0.1005 - accuracy: 0.9348\n",
            "5/5 [==============================] - 0s 2ms/step - loss: 0.1089 - accuracy: 0.9348\n",
            "5/5 [==============================] - 0s 3ms/step - loss: 0.1108 - accuracy: 0.9275\n",
            "5/5 [==============================] - 0s 2ms/step - loss: 0.1116 - accuracy: 0.9270\n",
            "5/5 [==============================] - 0s 3ms/step - loss: 0.0953 - accuracy: 0.9416\n",
            "5/5 [==============================] - 0s 3ms/step - loss: 0.1012 - accuracy: 0.9343\n",
            "5/5 [==============================] - 0s 3ms/step - loss: 0.1047 - accuracy: 0.9348\n",
            "5/5 [==============================] - 0s 3ms/step - loss: 0.1047 - accuracy: 0.9348\n",
            "5/5 [==============================] - 0s 2ms/step - loss: 0.1045 - accuracy: 0.9348\n",
            "5/5 [==============================] - 0s 3ms/step - loss: 0.0943 - accuracy: 0.9420\n",
            "5/5 [==============================] - 0s 3ms/step - loss: 0.1004 - accuracy: 0.9348\n",
            "5/5 [==============================] - 0s 3ms/step - loss: 0.1088 - accuracy: 0.9348\n",
            "5/5 [==============================] - 0s 2ms/step - loss: 0.1109 - accuracy: 0.9275\n",
            "5/5 [==============================] - 0s 2ms/step - loss: 0.1118 - accuracy: 0.9270\n",
            "5/5 [==============================] - 0s 2ms/step - loss: 0.0956 - accuracy: 0.9416\n",
            "5/5 [==============================] - 0s 2ms/step - loss: 0.1017 - accuracy: 0.9343\n",
            "5/5 [==============================] - 0s 3ms/step - loss: 0.1051 - accuracy: 0.9348\n",
            "5/5 [==============================] - 0s 2ms/step - loss: 0.1049 - accuracy: 0.9348\n",
            "5/5 [==============================] - 0s 2ms/step - loss: 0.1046 - accuracy: 0.9348\n",
            "5/5 [==============================] - 0s 3ms/step - loss: 0.0944 - accuracy: 0.9420\n",
            "5/5 [==============================] - 0s 3ms/step - loss: 0.1005 - accuracy: 0.9348\n",
            "5/5 [==============================] - 0s 2ms/step - loss: 0.1088 - accuracy: 0.9348\n",
            "5/5 [==============================] - 0s 3ms/step - loss: 0.1107 - accuracy: 0.9275\n",
            "5/5 [==============================] - 0s 2ms/step - loss: 0.1117 - accuracy: 0.9270\n",
            "5/5 [==============================] - 0s 3ms/step - loss: 0.0952 - accuracy: 0.9416\n",
            "5/5 [==============================] - 0s 2ms/step - loss: 0.1013 - accuracy: 0.9343\n",
            "5/5 [==============================] - 0s 2ms/step - loss: 0.1048 - accuracy: 0.9348\n",
            "5/5 [==============================] - 0s 2ms/step - loss: 0.1048 - accuracy: 0.9348\n",
            "5/5 [==============================] - 0s 2ms/step - loss: 0.1045 - accuracy: 0.9348\n",
            "5/5 [==============================] - 0s 2ms/step - loss: 0.0943 - accuracy: 0.9420\n",
            "5/5 [==============================] - 0s 2ms/step - loss: 0.1006 - accuracy: 0.9348\n",
            "5/5 [==============================] - 0s 3ms/step - loss: 0.1088 - accuracy: 0.9348\n",
            "5/5 [==============================] - 0s 2ms/step - loss: 0.1107 - accuracy: 0.9275\n",
            "5/5 [==============================] - 0s 2ms/step - loss: 0.1115 - accuracy: 0.9270\n",
            "5/5 [==============================] - 0s 2ms/step - loss: 0.0952 - accuracy: 0.9416\n",
            "5/5 [==============================] - 0s 3ms/step - loss: 0.1012 - accuracy: 0.9343\n",
            "5/5 [==============================] - 0s 3ms/step - loss: 0.1047 - accuracy: 0.9348\n",
            "5/5 [==============================] - 0s 3ms/step - loss: 0.1047 - accuracy: 0.9348\n",
            "5/5 [==============================] - 0s 2ms/step - loss: 0.1045 - accuracy: 0.9348\n",
            "5/5 [==============================] - 0s 2ms/step - loss: 0.0943 - accuracy: 0.9420\n",
            "5/5 [==============================] - 0s 2ms/step - loss: 0.1004 - accuracy: 0.9348\n",
            "5/5 [==============================] - 0s 2ms/step - loss: 0.1088 - accuracy: 0.9348\n",
            "5/5 [==============================] - 0s 3ms/step - loss: 0.1107 - accuracy: 0.9275\n",
            "5/5 [==============================] - 0s 3ms/step - loss: 0.1115 - accuracy: 0.9270\n",
            "5/5 [==============================] - 0s 3ms/step - loss: 0.0952 - accuracy: 0.9416\n",
            "5/5 [==============================] - 0s 2ms/step - loss: 0.1012 - accuracy: 0.9343\n",
            "5/5 [==============================] - 0s 3ms/step - loss: 0.1047 - accuracy: 0.9348\n",
            "5/5 [==============================] - 0s 4ms/step - loss: 0.1047 - accuracy: 0.9348\n",
            "5/5 [==============================] - 0s 3ms/step - loss: 0.1045 - accuracy: 0.9348\n",
            "5/5 [==============================] - 0s 3ms/step - loss: 0.0943 - accuracy: 0.9420\n",
            "5/5 [==============================] - 0s 2ms/step - loss: 0.1004 - accuracy: 0.9348\n",
            "5/5 [==============================] - 0s 3ms/step - loss: 0.1088 - accuracy: 0.9348\n",
            "5/5 [==============================] - 0s 3ms/step - loss: 0.1107 - accuracy: 0.9275\n",
            "5/5 [==============================] - 0s 2ms/step - loss: 0.1115 - accuracy: 0.9270\n",
            "5/5 [==============================] - 0s 2ms/step - loss: 0.0952 - accuracy: 0.9416\n",
            "5/5 [==============================] - 0s 2ms/step - loss: 0.1013 - accuracy: 0.9343\n",
            "5/5 [==============================] - 0s 3ms/step - loss: 0.1047 - accuracy: 0.9348\n",
            "5/5 [==============================] - 0s 2ms/step - loss: 0.1047 - accuracy: 0.9348\n",
            "5/5 [==============================] - 0s 2ms/step - loss: 0.1045 - accuracy: 0.9348\n",
            "5/5 [==============================] - 0s 2ms/step - loss: 0.0944 - accuracy: 0.9420\n",
            "5/5 [==============================] - 0s 2ms/step - loss: 0.1005 - accuracy: 0.9348\n",
            "5/5 [==============================] - 0s 2ms/step - loss: 0.1088 - accuracy: 0.9348\n",
            "5/5 [==============================] - 0s 2ms/step - loss: 0.1107 - accuracy: 0.9275\n",
            "5/5 [==============================] - 0s 3ms/step - loss: 0.1115 - accuracy: 0.9270\n",
            "5/5 [==============================] - 0s 2ms/step - loss: 0.0951 - accuracy: 0.9416\n",
            "5/5 [==============================] - 0s 2ms/step - loss: 0.1013 - accuracy: 0.9343\n",
            "5/5 [==============================] - 0s 3ms/step - loss: 0.1047 - accuracy: 0.9348\n",
            "5/5 [==============================] - 0s 3ms/step - loss: 0.1047 - accuracy: 0.9348\n",
            "5/5 [==============================] - 0s 3ms/step - loss: 0.1045 - accuracy: 0.9348\n",
            "5/5 [==============================] - 0s 3ms/step - loss: 0.0943 - accuracy: 0.9420\n",
            "5/5 [==============================] - 0s 3ms/step - loss: 0.1004 - accuracy: 0.9348\n",
            "5/5 [==============================] - 0s 3ms/step - loss: 0.1089 - accuracy: 0.9348\n",
            "5/5 [==============================] - 0s 3ms/step - loss: 0.1107 - accuracy: 0.9275\n",
            "5/5 [==============================] - 0s 3ms/step - loss: 0.1115 - accuracy: 0.9270\n",
            "5/5 [==============================] - 0s 2ms/step - loss: 0.0955 - accuracy: 0.9416\n",
            "5/5 [==============================] - 0s 2ms/step - loss: 0.1015 - accuracy: 0.9343\n",
            "5/5 [==============================] - 0s 3ms/step - loss: 0.1050 - accuracy: 0.9348\n",
            "5/5 [==============================] - 0s 3ms/step - loss: 0.1050 - accuracy: 0.9348\n",
            "5/5 [==============================] - 0s 3ms/step - loss: 0.1048 - accuracy: 0.9348\n",
            "5/5 [==============================] - 0s 2ms/step - loss: 0.0949 - accuracy: 0.9420\n",
            "5/5 [==============================] - 0s 3ms/step - loss: 0.1010 - accuracy: 0.9348\n",
            "5/5 [==============================] - 0s 3ms/step - loss: 0.1092 - accuracy: 0.9348\n",
            "5/5 [==============================] - 0s 3ms/step - loss: 0.1112 - accuracy: 0.9275\n",
            "5/5 [==============================] - 0s 3ms/step - loss: 0.1119 - accuracy: 0.9270\n",
            "5/5 [==============================] - 0s 3ms/step - loss: 0.0955 - accuracy: 0.9416\n",
            "5/5 [==============================] - 0s 3ms/step - loss: 0.1014 - accuracy: 0.9343\n",
            "5/5 [==============================] - 0s 3ms/step - loss: 0.1048 - accuracy: 0.9348\n",
            "5/5 [==============================] - 0s 2ms/step - loss: 0.1049 - accuracy: 0.9348\n",
            "5/5 [==============================] - 0s 3ms/step - loss: 0.1046 - accuracy: 0.9348\n",
            "5/5 [==============================] - 0s 3ms/step - loss: 0.0944 - accuracy: 0.9420\n",
            "5/5 [==============================] - 0s 2ms/step - loss: 0.1005 - accuracy: 0.9348\n",
            "5/5 [==============================] - 0s 3ms/step - loss: 0.1088 - accuracy: 0.9348\n",
            "5/5 [==============================] - 0s 3ms/step - loss: 0.1108 - accuracy: 0.9275\n",
            "5/5 [==============================] - 0s 3ms/step - loss: 0.1116 - accuracy: 0.9270\n",
            "5/5 [==============================] - 0s 3ms/step - loss: 0.0954 - accuracy: 0.9416\n",
            "5/5 [==============================] - 0s 2ms/step - loss: 0.1015 - accuracy: 0.9343\n",
            "5/5 [==============================] - 0s 2ms/step - loss: 0.1049 - accuracy: 0.9348\n",
            "5/5 [==============================] - 0s 3ms/step - loss: 0.1048 - accuracy: 0.9348\n",
            "5/5 [==============================] - 0s 3ms/step - loss: 0.1045 - accuracy: 0.9348\n",
            "5/5 [==============================] - 0s 3ms/step - loss: 0.0947 - accuracy: 0.9420\n",
            "5/5 [==============================] - 0s 3ms/step - loss: 0.1007 - accuracy: 0.9348\n",
            "5/5 [==============================] - 0s 2ms/step - loss: 0.1091 - accuracy: 0.9348\n",
            "5/5 [==============================] - 0s 2ms/step - loss: 0.1113 - accuracy: 0.9275\n",
            "5/5 [==============================] - 0s 4ms/step - loss: 0.1120 - accuracy: 0.9270\n",
            "5/5 [==============================] - 0s 3ms/step - loss: 0.0955 - accuracy: 0.9416\n",
            "5/5 [==============================] - 0s 2ms/step - loss: 0.1015 - accuracy: 0.9343\n",
            "5/5 [==============================] - 0s 2ms/step - loss: 0.1048 - accuracy: 0.9348\n",
            "5/5 [==============================] - 0s 3ms/step - loss: 0.1048 - accuracy: 0.9348\n",
            "5/5 [==============================] - 0s 3ms/step - loss: 0.1046 - accuracy: 0.9348\n",
            "5/5 [==============================] - 0s 3ms/step - loss: 0.0944 - accuracy: 0.9420\n",
            "5/5 [==============================] - 0s 3ms/step - loss: 0.1005 - accuracy: 0.9348\n",
            "5/5 [==============================] - 0s 3ms/step - loss: 0.1088 - accuracy: 0.9348\n",
            "5/5 [==============================] - 0s 2ms/step - loss: 0.1108 - accuracy: 0.9275\n",
            "5/5 [==============================] - 0s 3ms/step - loss: 0.1116 - accuracy: 0.9270\n",
            "5/5 [==============================] - 0s 2ms/step - loss: 0.0953 - accuracy: 0.9416\n",
            "5/5 [==============================] - 0s 4ms/step - loss: 0.1013 - accuracy: 0.9343\n",
            "5/5 [==============================] - 0s 2ms/step - loss: 0.1047 - accuracy: 0.9348\n",
            "5/5 [==============================] - 0s 3ms/step - loss: 0.1047 - accuracy: 0.9348\n",
            "5/5 [==============================] - 0s 3ms/step - loss: 0.1045 - accuracy: 0.9348\n",
            "5/5 [==============================] - 0s 4ms/step - loss: 0.0944 - accuracy: 0.9420\n",
            "5/5 [==============================] - 0s 2ms/step - loss: 0.1005 - accuracy: 0.9348\n",
            "5/5 [==============================] - 0s 2ms/step - loss: 0.1088 - accuracy: 0.9348\n",
            "5/5 [==============================] - 0s 3ms/step - loss: 0.1108 - accuracy: 0.9275\n",
            "5/5 [==============================] - 0s 2ms/step - loss: 0.1116 - accuracy: 0.9270\n",
            "5/5 [==============================] - 0s 2ms/step - loss: 0.0952 - accuracy: 0.9416\n",
            "5/5 [==============================] - 0s 3ms/step - loss: 0.1013 - accuracy: 0.9343\n",
            "5/5 [==============================] - 0s 3ms/step - loss: 0.1047 - accuracy: 0.9348\n",
            "5/5 [==============================] - 0s 3ms/step - loss: 0.1047 - accuracy: 0.9348\n",
            "5/5 [==============================] - 0s 2ms/step - loss: 0.1045 - accuracy: 0.9348\n",
            "5/5 [==============================] - 0s 2ms/step - loss: 0.0943 - accuracy: 0.9420\n",
            "5/5 [==============================] - 0s 3ms/step - loss: 0.1005 - accuracy: 0.9348\n",
            "5/5 [==============================] - 0s 3ms/step - loss: 0.1091 - accuracy: 0.9348\n",
            "5/5 [==============================] - 0s 2ms/step - loss: 0.1111 - accuracy: 0.9275\n",
            "5/5 [==============================] - 0s 2ms/step - loss: 0.1120 - accuracy: 0.9270\n",
            "5/5 [==============================] - 0s 3ms/step - loss: 0.0955 - accuracy: 0.9416\n",
            "5/5 [==============================] - 0s 3ms/step - loss: 0.1015 - accuracy: 0.9343\n",
            "5/5 [==============================] - 0s 3ms/step - loss: 0.1050 - accuracy: 0.9348\n",
            "5/5 [==============================] - 0s 3ms/step - loss: 0.1049 - accuracy: 0.9348\n",
            "5/5 [==============================] - 0s 3ms/step - loss: 0.1045 - accuracy: 0.9348\n",
            "5/5 [==============================] - 0s 3ms/step - loss: 0.0945 - accuracy: 0.9420\n",
            "5/5 [==============================] - 0s 3ms/step - loss: 0.1005 - accuracy: 0.9348\n",
            "5/5 [==============================] - 0s 2ms/step - loss: 0.1088 - accuracy: 0.9348\n",
            "5/5 [==============================] - 0s 3ms/step - loss: 0.1107 - accuracy: 0.9275\n",
            "5/5 [==============================] - 0s 3ms/step - loss: 0.1115 - accuracy: 0.9270\n",
            "5/5 [==============================] - 0s 3ms/step - loss: 0.0953 - accuracy: 0.9416\n",
            "5/5 [==============================] - 0s 6ms/step - loss: 0.1012 - accuracy: 0.9343\n",
            "5/5 [==============================] - 0s 2ms/step - loss: 0.1047 - accuracy: 0.9348\n",
            "5/5 [==============================] - 0s 2ms/step - loss: 0.1047 - accuracy: 0.9348\n",
            "5/5 [==============================] - 0s 3ms/step - loss: 0.1045 - accuracy: 0.9348\n",
            "5/5 [==============================] - 0s 2ms/step - loss: 0.0944 - accuracy: 0.9420\n",
            "5/5 [==============================] - 0s 3ms/step - loss: 0.1004 - accuracy: 0.9348\n",
            "5/5 [==============================] - 0s 2ms/step - loss: 0.1088 - accuracy: 0.9348\n",
            "5/5 [==============================] - 0s 3ms/step - loss: 0.1107 - accuracy: 0.9275\n",
            "5/5 [==============================] - 0s 3ms/step - loss: 0.1115 - accuracy: 0.9270\n",
            "5/5 [==============================] - 0s 2ms/step - loss: 0.0952 - accuracy: 0.9416\n",
            "5/5 [==============================] - 0s 2ms/step - loss: 0.1012 - accuracy: 0.9343\n",
            "5/5 [==============================] - 0s 3ms/step - loss: 0.1047 - accuracy: 0.9348\n",
            "5/5 [==============================] - 0s 3ms/step - loss: 0.1047 - accuracy: 0.9348\n",
            "5/5 [==============================] - 0s 3ms/step - loss: 0.1045 - accuracy: 0.9348\n",
            "5/5 [==============================] - 0s 3ms/step - loss: 0.0944 - accuracy: 0.9420\n",
            "5/5 [==============================] - 0s 2ms/step - loss: 0.1005 - accuracy: 0.9348\n",
            "5/5 [==============================] - 0s 3ms/step - loss: 0.1091 - accuracy: 0.9348\n",
            "5/5 [==============================] - 0s 2ms/step - loss: 0.1111 - accuracy: 0.9275\n",
            "5/5 [==============================] - 0s 2ms/step - loss: 0.1120 - accuracy: 0.9270\n",
            "5/5 [==============================] - 0s 3ms/step - loss: 0.0956 - accuracy: 0.9416\n",
            "5/5 [==============================] - 0s 4ms/step - loss: 0.1015 - accuracy: 0.9343\n",
            "5/5 [==============================] - 0s 4ms/step - loss: 0.1049 - accuracy: 0.9348\n",
            "5/5 [==============================] - 0s 3ms/step - loss: 0.1049 - accuracy: 0.9348\n",
            "5/5 [==============================] - 0s 3ms/step - loss: 0.1045 - accuracy: 0.9348\n",
            "5/5 [==============================] - 0s 3ms/step - loss: 0.0944 - accuracy: 0.9420\n",
            "5/5 [==============================] - 0s 2ms/step - loss: 0.1005 - accuracy: 0.9348\n",
            "5/5 [==============================] - 0s 3ms/step - loss: 0.1090 - accuracy: 0.9348\n",
            "5/5 [==============================] - 0s 3ms/step - loss: 0.1107 - accuracy: 0.9275\n",
            "5/5 [==============================] - 0s 3ms/step - loss: 0.1115 - accuracy: 0.9270\n",
            "5/5 [==============================] - 0s 3ms/step - loss: 0.0952 - accuracy: 0.9416\n",
            "5/5 [==============================] - 0s 3ms/step - loss: 0.1012 - accuracy: 0.9343\n",
            "5/5 [==============================] - 0s 3ms/step - loss: 0.1047 - accuracy: 0.9348\n",
            "5/5 [==============================] - 0s 3ms/step - loss: 0.1047 - accuracy: 0.9348\n",
            "5/5 [==============================] - 0s 3ms/step - loss: 0.1045 - accuracy: 0.9348\n",
            "5/5 [==============================] - 0s 2ms/step - loss: 0.0943 - accuracy: 0.9420\n",
            "5/5 [==============================] - 0s 3ms/step - loss: 0.1004 - accuracy: 0.9348\n",
            "5/5 [==============================] - 0s 3ms/step - loss: 0.1088 - accuracy: 0.9348\n",
            "5/5 [==============================] - 0s 3ms/step - loss: 0.1106 - accuracy: 0.9275\n",
            "5/5 [==============================] - 0s 3ms/step - loss: 0.1114 - accuracy: 0.9270\n",
            "5/5 [==============================] - 0s 2ms/step - loss: 0.0953 - accuracy: 0.9416\n",
            "5/5 [==============================] - 0s 3ms/step - loss: 0.1012 - accuracy: 0.9343\n",
            "5/5 [==============================] - 0s 4ms/step - loss: 0.1047 - accuracy: 0.9348\n",
            "5/5 [==============================] - 0s 3ms/step - loss: 0.1047 - accuracy: 0.9348\n",
            "5/5 [==============================] - 0s 3ms/step - loss: 0.1044 - accuracy: 0.9348\n",
            "5/5 [==============================] - 0s 3ms/step - loss: 0.0944 - accuracy: 0.9420\n",
            "5/5 [==============================] - 0s 4ms/step - loss: 0.1004 - accuracy: 0.9348\n",
            "5/5 [==============================] - 0s 2ms/step - loss: 0.1088 - accuracy: 0.9348\n",
            "5/5 [==============================] - 0s 3ms/step - loss: 0.1107 - accuracy: 0.9275\n",
            "5/5 [==============================] - 0s 3ms/step - loss: 0.1114 - accuracy: 0.9270\n",
            "5/5 [==============================] - 0s 2ms/step - loss: 0.0952 - accuracy: 0.9416\n",
            "5/5 [==============================] - 0s 2ms/step - loss: 0.1012 - accuracy: 0.9343\n",
            "5/5 [==============================] - 0s 3ms/step - loss: 0.1047 - accuracy: 0.9348\n",
            "5/5 [==============================] - 0s 2ms/step - loss: 0.1047 - accuracy: 0.9348\n",
            "5/5 [==============================] - 0s 3ms/step - loss: 0.1044 - accuracy: 0.9348\n",
            "5/5 [==============================] - 0s 3ms/step - loss: 0.0943 - accuracy: 0.9420\n",
            "5/5 [==============================] - 0s 2ms/step - loss: 0.1004 - accuracy: 0.9348\n",
            "5/5 [==============================] - 0s 3ms/step - loss: 0.1087 - accuracy: 0.9348\n",
            "5/5 [==============================] - 0s 3ms/step - loss: 0.1107 - accuracy: 0.9275\n",
            "5/5 [==============================] - 0s 2ms/step - loss: 0.1115 - accuracy: 0.9270\n",
            "5/5 [==============================] - 0s 3ms/step - loss: 0.0952 - accuracy: 0.9416\n",
            "5/5 [==============================] - 0s 2ms/step - loss: 0.1012 - accuracy: 0.9343\n",
            "5/5 [==============================] - 0s 3ms/step - loss: 0.1047 - accuracy: 0.9348\n",
            "5/5 [==============================] - 0s 5ms/step - loss: 0.1047 - accuracy: 0.9348\n",
            "5/5 [==============================] - 0s 2ms/step - loss: 0.1044 - accuracy: 0.9348\n",
            "5/5 [==============================] - 0s 3ms/step - loss: 0.0943 - accuracy: 0.9420\n",
            "5/5 [==============================] - 0s 3ms/step - loss: 0.1004 - accuracy: 0.9348\n",
            "5/5 [==============================] - 0s 3ms/step - loss: 0.1087 - accuracy: 0.9348\n",
            "5/5 [==============================] - 0s 4ms/step - loss: 0.1107 - accuracy: 0.9275\n",
            "5/5 [==============================] - 0s 3ms/step - loss: 0.1115 - accuracy: 0.9270\n",
            "5/5 [==============================] - 0s 3ms/step - loss: 0.0952 - accuracy: 0.9416\n",
            "5/5 [==============================] - 0s 3ms/step - loss: 0.1012 - accuracy: 0.9343\n",
            "5/5 [==============================] - 0s 2ms/step - loss: 0.1047 - accuracy: 0.9348\n",
            "5/5 [==============================] - 0s 2ms/step - loss: 0.1047 - accuracy: 0.9348\n",
            "5/5 [==============================] - 0s 3ms/step - loss: 0.1044 - accuracy: 0.9348\n",
            "5/5 [==============================] - 0s 2ms/step - loss: 0.0943 - accuracy: 0.9420\n",
            "5/5 [==============================] - 0s 3ms/step - loss: 0.1004 - accuracy: 0.9348\n",
            "5/5 [==============================] - 0s 2ms/step - loss: 0.1088 - accuracy: 0.9348\n",
            "5/5 [==============================] - 0s 3ms/step - loss: 0.1107 - accuracy: 0.9275\n",
            "5/5 [==============================] - 0s 2ms/step - loss: 0.1115 - accuracy: 0.9270\n",
            "5/5 [==============================] - 0s 3ms/step - loss: 0.0952 - accuracy: 0.9416\n",
            "5/5 [==============================] - 0s 2ms/step - loss: 0.1012 - accuracy: 0.9343\n",
            "5/5 [==============================] - 0s 3ms/step - loss: 0.1046 - accuracy: 0.9348\n",
            "5/5 [==============================] - 0s 2ms/step - loss: 0.1047 - accuracy: 0.9348\n",
            "5/5 [==============================] - 0s 4ms/step - loss: 0.1045 - accuracy: 0.9348\n",
            "5/5 [==============================] - 0s 3ms/step - loss: 0.0945 - accuracy: 0.9420\n",
            "5/5 [==============================] - 0s 3ms/step - loss: 0.1008 - accuracy: 0.9348\n",
            "5/5 [==============================] - 0s 3ms/step - loss: 0.1091 - accuracy: 0.9348\n",
            "5/5 [==============================] - 0s 2ms/step - loss: 0.1110 - accuracy: 0.9275\n",
            "5/5 [==============================] - 0s 2ms/step - loss: 0.1118 - accuracy: 0.9270\n",
            "5/5 [==============================] - 0s 3ms/step - loss: 0.0954 - accuracy: 0.9416\n",
            "5/5 [==============================] - 0s 3ms/step - loss: 0.1015 - accuracy: 0.9343\n",
            "5/5 [==============================] - 0s 2ms/step - loss: 0.1049 - accuracy: 0.9348\n",
            "5/5 [==============================] - 0s 2ms/step - loss: 0.1048 - accuracy: 0.9348\n",
            "5/5 [==============================] - 0s 3ms/step - loss: 0.1046 - accuracy: 0.9348\n",
            "5/5 [==============================] - 0s 3ms/step - loss: 0.0945 - accuracy: 0.9420\n",
            "5/5 [==============================] - 0s 3ms/step - loss: 0.1007 - accuracy: 0.9348\n",
            "5/5 [==============================] - 0s 2ms/step - loss: 0.1091 - accuracy: 0.9348\n",
            "5/5 [==============================] - 0s 3ms/step - loss: 0.1111 - accuracy: 0.9275\n",
            "5/5 [==============================] - 0s 3ms/step - loss: 0.1119 - accuracy: 0.9270\n",
            "5/5 [==============================] - 0s 3ms/step - loss: 0.0955 - accuracy: 0.9416\n",
            "5/5 [==============================] - 0s 3ms/step - loss: 0.1014 - accuracy: 0.9343\n",
            "5/5 [==============================] - 0s 3ms/step - loss: 0.1049 - accuracy: 0.9348\n",
            "5/5 [==============================] - 0s 2ms/step - loss: 0.1048 - accuracy: 0.9348\n",
            "5/5 [==============================] - 0s 4ms/step - loss: 0.1045 - accuracy: 0.9348\n",
            "5/5 [==============================] - 0s 2ms/step - loss: 0.0945 - accuracy: 0.9420\n",
            "5/5 [==============================] - 0s 3ms/step - loss: 0.1005 - accuracy: 0.9348\n",
            "5/5 [==============================] - 0s 4ms/step - loss: 0.1088 - accuracy: 0.9348\n",
            "5/5 [==============================] - 0s 2ms/step - loss: 0.1107 - accuracy: 0.9275\n",
            "5/5 [==============================] - 0s 3ms/step - loss: 0.1115 - accuracy: 0.9270\n",
            "5/5 [==============================] - 0s 4ms/step - loss: 0.0952 - accuracy: 0.9416\n",
            "5/5 [==============================] - 0s 4ms/step - loss: 0.1012 - accuracy: 0.9343\n",
            "5/5 [==============================] - 0s 3ms/step - loss: 0.1047 - accuracy: 0.9348\n",
            "5/5 [==============================] - 0s 3ms/step - loss: 0.1047 - accuracy: 0.9348\n",
            "5/5 [==============================] - 0s 2ms/step - loss: 0.1045 - accuracy: 0.9348\n",
            "5/5 [==============================] - 0s 4ms/step - loss: 0.0943 - accuracy: 0.9420\n",
            "5/5 [==============================] - 0s 4ms/step - loss: 0.1005 - accuracy: 0.9348\n",
            "5/5 [==============================] - 0s 2ms/step - loss: 0.1087 - accuracy: 0.9348\n",
            "5/5 [==============================] - 0s 3ms/step - loss: 0.1107 - accuracy: 0.9275\n",
            "5/5 [==============================] - 0s 3ms/step - loss: 0.1115 - accuracy: 0.9270\n",
            "5/5 [==============================] - 0s 3ms/step - loss: 0.0951 - accuracy: 0.9416\n",
            "5/5 [==============================] - 0s 3ms/step - loss: 0.1013 - accuracy: 0.9343\n",
            "5/5 [==============================] - 0s 2ms/step - loss: 0.1047 - accuracy: 0.9348\n",
            "5/5 [==============================] - 0s 4ms/step - loss: 0.1048 - accuracy: 0.9348\n",
            "5/5 [==============================] - 0s 2ms/step - loss: 0.1045 - accuracy: 0.9348\n",
            "5/5 [==============================] - 0s 3ms/step - loss: 0.0945 - accuracy: 0.9420\n",
            "5/5 [==============================] - 0s 2ms/step - loss: 0.1005 - accuracy: 0.9348\n",
            "5/5 [==============================] - 0s 2ms/step - loss: 0.1089 - accuracy: 0.9348\n",
            "5/5 [==============================] - 0s 2ms/step - loss: 0.1108 - accuracy: 0.9275\n",
            "5/5 [==============================] - 0s 3ms/step - loss: 0.1116 - accuracy: 0.9270\n",
            "5/5 [==============================] - 0s 3ms/step - loss: 0.0953 - accuracy: 0.9416\n",
            "5/5 [==============================] - 0s 3ms/step - loss: 0.1013 - accuracy: 0.9343\n",
            "5/5 [==============================] - 0s 3ms/step - loss: 0.1048 - accuracy: 0.9348\n",
            "5/5 [==============================] - 0s 3ms/step - loss: 0.1047 - accuracy: 0.9348\n",
            "5/5 [==============================] - 0s 3ms/step - loss: 0.1045 - accuracy: 0.9348\n",
            "5/5 [==============================] - 0s 3ms/step - loss: 0.0943 - accuracy: 0.9420\n",
            "5/5 [==============================] - 0s 2ms/step - loss: 0.1004 - accuracy: 0.9348\n",
            "5/5 [==============================] - 0s 6ms/step - loss: 0.1091 - accuracy: 0.9348\n",
            "5/5 [==============================] - 0s 2ms/step - loss: 0.1107 - accuracy: 0.9275\n",
            "5/5 [==============================] - 0s 3ms/step - loss: 0.1115 - accuracy: 0.9270\n",
            "5/5 [==============================] - 0s 2ms/step - loss: 0.0952 - accuracy: 0.9416\n",
            "5/5 [==============================] - 0s 3ms/step - loss: 0.1012 - accuracy: 0.9343\n",
            "5/5 [==============================] - 0s 4ms/step - loss: 0.1047 - accuracy: 0.9348\n",
            "5/5 [==============================] - 0s 3ms/step - loss: 0.1047 - accuracy: 0.9348\n",
            "5/5 [==============================] - 0s 2ms/step - loss: 0.1045 - accuracy: 0.9348\n",
            "5/5 [==============================] - 0s 3ms/step - loss: 0.0944 - accuracy: 0.9420\n",
            "5/5 [==============================] - 0s 2ms/step - loss: 0.1004 - accuracy: 0.9348\n",
            "5/5 [==============================] - 0s 3ms/step - loss: 0.1088 - accuracy: 0.9348\n",
            "5/5 [==============================] - 0s 3ms/step - loss: 0.1107 - accuracy: 0.9275\n",
            "5/5 [==============================] - 0s 2ms/step - loss: 0.1115 - accuracy: 0.9270\n",
            "5/5 [==============================] - 0s 4ms/step - loss: 0.0952 - accuracy: 0.9416\n",
            "5/5 [==============================] - 0s 4ms/step - loss: 0.1012 - accuracy: 0.9343\n",
            "5/5 [==============================] - 0s 3ms/step - loss: 0.1048 - accuracy: 0.9348\n",
            "5/5 [==============================] - 0s 4ms/step - loss: 0.1048 - accuracy: 0.9348\n",
            "5/5 [==============================] - 0s 3ms/step - loss: 0.1045 - accuracy: 0.9348\n",
            "5/5 [==============================] - 0s 4ms/step - loss: 0.0944 - accuracy: 0.9420\n",
            "5/5 [==============================] - 0s 3ms/step - loss: 0.1004 - accuracy: 0.9348\n",
            "5/5 [==============================] - 0s 3ms/step - loss: 0.1087 - accuracy: 0.9348\n",
            "5/5 [==============================] - 0s 2ms/step - loss: 0.1106 - accuracy: 0.9275\n",
            "5/5 [==============================] - 0s 3ms/step - loss: 0.1115 - accuracy: 0.9270\n",
            "5/5 [==============================] - 0s 3ms/step - loss: 0.0952 - accuracy: 0.9416\n",
            "5/5 [==============================] - 0s 3ms/step - loss: 0.1012 - accuracy: 0.9343\n",
            "5/5 [==============================] - 0s 3ms/step - loss: 0.1047 - accuracy: 0.9348\n",
            "5/5 [==============================] - 0s 2ms/step - loss: 0.1047 - accuracy: 0.9348\n",
            "5/5 [==============================] - 0s 3ms/step - loss: 0.1044 - accuracy: 0.9348\n",
            "5/5 [==============================] - 0s 2ms/step - loss: 0.0945 - accuracy: 0.9420\n",
            "5/5 [==============================] - 0s 2ms/step - loss: 0.1005 - accuracy: 0.9348\n",
            "5/5 [==============================] - 0s 2ms/step - loss: 0.1093 - accuracy: 0.9348\n",
            "5/5 [==============================] - 0s 2ms/step - loss: 0.1112 - accuracy: 0.9275\n",
            "5/5 [==============================] - 0s 3ms/step - loss: 0.1118 - accuracy: 0.9270\n",
            "5/5 [==============================] - 0s 2ms/step - loss: 0.0955 - accuracy: 0.9416\n",
            "5/5 [==============================] - 0s 2ms/step - loss: 0.1014 - accuracy: 0.9343\n",
            "5/5 [==============================] - 0s 3ms/step - loss: 0.1048 - accuracy: 0.9348\n",
            "5/5 [==============================] - 0s 3ms/step - loss: 0.1048 - accuracy: 0.9348\n",
            "5/5 [==============================] - 0s 3ms/step - loss: 0.1045 - accuracy: 0.9348\n",
            "5/5 [==============================] - 0s 3ms/step - loss: 0.0944 - accuracy: 0.9420\n",
            "5/5 [==============================] - 0s 2ms/step - loss: 0.1004 - accuracy: 0.9348\n",
            "5/5 [==============================] - 0s 3ms/step - loss: 0.1088 - accuracy: 0.9348\n",
            "5/5 [==============================] - 0s 2ms/step - loss: 0.1106 - accuracy: 0.9275\n",
            "5/5 [==============================] - 0s 3ms/step - loss: 0.1115 - accuracy: 0.9270\n",
            "5/5 [==============================] - 0s 4ms/step - loss: 0.0952 - accuracy: 0.9416\n",
            "5/5 [==============================] - 0s 2ms/step - loss: 0.1011 - accuracy: 0.9343\n",
            "5/5 [==============================] - 0s 3ms/step - loss: 0.1046 - accuracy: 0.9348\n",
            "5/5 [==============================] - 0s 4ms/step - loss: 0.1047 - accuracy: 0.9348\n",
            "5/5 [==============================] - 0s 3ms/step - loss: 0.1045 - accuracy: 0.9348\n",
            "5/5 [==============================] - 0s 3ms/step - loss: 0.0946 - accuracy: 0.9420\n",
            "5/5 [==============================] - 0s 3ms/step - loss: 0.1007 - accuracy: 0.9348\n",
            "5/5 [==============================] - 0s 2ms/step - loss: 0.1091 - accuracy: 0.9348\n",
            "5/5 [==============================] - 0s 3ms/step - loss: 0.1110 - accuracy: 0.9275\n",
            "5/5 [==============================] - 0s 2ms/step - loss: 0.1117 - accuracy: 0.9270\n",
            "5/5 [==============================] - 0s 3ms/step - loss: 0.0953 - accuracy: 0.9416\n",
            "5/5 [==============================] - 0s 3ms/step - loss: 0.1012 - accuracy: 0.9343\n",
            "5/5 [==============================] - 0s 3ms/step - loss: 0.1047 - accuracy: 0.9348\n",
            "5/5 [==============================] - 0s 2ms/step - loss: 0.1047 - accuracy: 0.9348\n",
            "5/5 [==============================] - 0s 2ms/step - loss: 0.1044 - accuracy: 0.9348\n",
            "5/5 [==============================] - 0s 3ms/step - loss: 0.0944 - accuracy: 0.9420\n",
            "5/5 [==============================] - 0s 2ms/step - loss: 0.1004 - accuracy: 0.9348\n",
            "5/5 [==============================] - 0s 2ms/step - loss: 0.1088 - accuracy: 0.9348\n",
            "5/5 [==============================] - 0s 3ms/step - loss: 0.1106 - accuracy: 0.9275\n",
            "5/5 [==============================] - 0s 3ms/step - loss: 0.1114 - accuracy: 0.9270\n",
            "5/5 [==============================] - 0s 2ms/step - loss: 0.0951 - accuracy: 0.9416\n",
            "5/5 [==============================] - 0s 3ms/step - loss: 0.1012 - accuracy: 0.9343\n",
            "5/5 [==============================] - 0s 2ms/step - loss: 0.1046 - accuracy: 0.9348\n",
            "5/5 [==============================] - 0s 3ms/step - loss: 0.1046 - accuracy: 0.9348\n",
            "5/5 [==============================] - 0s 4ms/step - loss: 0.1044 - accuracy: 0.9348\n",
            "5/5 [==============================] - 0s 3ms/step - loss: 0.0943 - accuracy: 0.9420\n",
            "5/5 [==============================] - 0s 3ms/step - loss: 0.1003 - accuracy: 0.9348\n",
            "5/5 [==============================] - 0s 2ms/step - loss: 0.1088 - accuracy: 0.9348\n",
            "5/5 [==============================] - 0s 4ms/step - loss: 0.1106 - accuracy: 0.9275\n",
            "5/5 [==============================] - 0s 4ms/step - loss: 0.1114 - accuracy: 0.9270\n",
            "5/5 [==============================] - 0s 3ms/step - loss: 0.0951 - accuracy: 0.9416\n",
            "5/5 [==============================] - 0s 2ms/step - loss: 0.1011 - accuracy: 0.9343\n",
            "5/5 [==============================] - 0s 5ms/step - loss: 0.1046 - accuracy: 0.9348\n",
            "5/5 [==============================] - 0s 2ms/step - loss: 0.1047 - accuracy: 0.9348\n",
            "5/5 [==============================] - 0s 2ms/step - loss: 0.1045 - accuracy: 0.9348\n",
            "5/5 [==============================] - 0s 2ms/step - loss: 0.0943 - accuracy: 0.9420\n",
            "5/5 [==============================] - 0s 2ms/step - loss: 0.1004 - accuracy: 0.9348\n",
            "5/5 [==============================] - 0s 3ms/step - loss: 0.1088 - accuracy: 0.9348\n",
            "5/5 [==============================] - 0s 4ms/step - loss: 0.1106 - accuracy: 0.9275\n",
            "5/5 [==============================] - 0s 4ms/step - loss: 0.1114 - accuracy: 0.9270\n",
            "5/5 [==============================] - 0s 4ms/step - loss: 0.0952 - accuracy: 0.9416\n",
            "5/5 [==============================] - 0s 3ms/step - loss: 0.1011 - accuracy: 0.9343\n",
            "5/5 [==============================] - 0s 5ms/step - loss: 0.1046 - accuracy: 0.9348\n",
            "5/5 [==============================] - 0s 2ms/step - loss: 0.1047 - accuracy: 0.9348\n",
            "5/5 [==============================] - 0s 2ms/step - loss: 0.1045 - accuracy: 0.9348\n",
            "5/5 [==============================] - 0s 3ms/step - loss: 0.0943 - accuracy: 0.9420\n",
            "5/5 [==============================] - 0s 4ms/step - loss: 0.1003 - accuracy: 0.9348\n",
            "5/5 [==============================] - 0s 3ms/step - loss: 0.1088 - accuracy: 0.9348\n",
            "5/5 [==============================] - 0s 3ms/step - loss: 0.1105 - accuracy: 0.9275\n",
            "5/5 [==============================] - 0s 4ms/step - loss: 0.1114 - accuracy: 0.9270\n",
            "5/5 [==============================] - 0s 2ms/step - loss: 0.0952 - accuracy: 0.9416\n",
            "5/5 [==============================] - 0s 3ms/step - loss: 0.1011 - accuracy: 0.9343\n",
            "5/5 [==============================] - 0s 3ms/step - loss: 0.1046 - accuracy: 0.9348\n",
            "5/5 [==============================] - 0s 5ms/step - loss: 0.1047 - accuracy: 0.9348\n",
            "5/5 [==============================] - 0s 3ms/step - loss: 0.1045 - accuracy: 0.9348\n",
            "5/5 [==============================] - 0s 4ms/step - loss: 0.0946 - accuracy: 0.9420\n",
            "5/5 [==============================] - 0s 2ms/step - loss: 0.1006 - accuracy: 0.9348\n",
            "5/5 [==============================] - 0s 3ms/step - loss: 0.1090 - accuracy: 0.9348\n",
            "5/5 [==============================] - 0s 2ms/step - loss: 0.1107 - accuracy: 0.9275\n",
            "5/5 [==============================] - 0s 3ms/step - loss: 0.1116 - accuracy: 0.9270\n",
            "5/5 [==============================] - 0s 2ms/step - loss: 0.0953 - accuracy: 0.9416\n",
            "5/5 [==============================] - 0s 2ms/step - loss: 0.1012 - accuracy: 0.9343\n",
            "5/5 [==============================] - 0s 3ms/step - loss: 0.1047 - accuracy: 0.9348\n",
            "5/5 [==============================] - 0s 3ms/step - loss: 0.1047 - accuracy: 0.9348\n",
            "5/5 [==============================] - 0s 2ms/step - loss: 0.1044 - accuracy: 0.9348\n",
            "5/5 [==============================] - 0s 2ms/step - loss: 0.0943 - accuracy: 0.9420\n",
            "5/5 [==============================] - 0s 3ms/step - loss: 0.1004 - accuracy: 0.9348\n",
            "5/5 [==============================] - 0s 3ms/step - loss: 0.1088 - accuracy: 0.9348\n",
            "5/5 [==============================] - 0s 4ms/step - loss: 0.1106 - accuracy: 0.9275\n",
            "5/5 [==============================] - 0s 2ms/step - loss: 0.1114 - accuracy: 0.9270\n",
            "5/5 [==============================] - 0s 4ms/step - loss: 0.0952 - accuracy: 0.9416\n",
            "5/5 [==============================] - 0s 2ms/step - loss: 0.1011 - accuracy: 0.9343\n",
            "5/5 [==============================] - 0s 2ms/step - loss: 0.1046 - accuracy: 0.9348\n",
            "5/5 [==============================] - 0s 5ms/step - loss: 0.1047 - accuracy: 0.9348\n",
            "5/5 [==============================] - 0s 2ms/step - loss: 0.1044 - accuracy: 0.9348\n",
            "5/5 [==============================] - 0s 3ms/step - loss: 0.0943 - accuracy: 0.9420\n",
            "5/5 [==============================] - 0s 4ms/step - loss: 0.1003 - accuracy: 0.9348\n",
            "5/5 [==============================] - 0s 2ms/step - loss: 0.1088 - accuracy: 0.9348\n",
            "5/5 [==============================] - 0s 2ms/step - loss: 0.1107 - accuracy: 0.9275\n",
            "5/5 [==============================] - 0s 3ms/step - loss: 0.1114 - accuracy: 0.9270\n",
            "5/5 [==============================] - 0s 4ms/step - loss: 0.0952 - accuracy: 0.9416\n",
            "5/5 [==============================] - 0s 3ms/step - loss: 0.1012 - accuracy: 0.9343\n",
            "5/5 [==============================] - 0s 2ms/step - loss: 0.1046 - accuracy: 0.9348\n",
            "5/5 [==============================] - 0s 3ms/step - loss: 0.1047 - accuracy: 0.9348\n",
            "5/5 [==============================] - 0s 3ms/step - loss: 0.1044 - accuracy: 0.9348\n",
            "5/5 [==============================] - 0s 4ms/step - loss: 0.0943 - accuracy: 0.9420\n",
            "5/5 [==============================] - 0s 2ms/step - loss: 0.1004 - accuracy: 0.9348\n",
            "5/5 [==============================] - 0s 3ms/step - loss: 0.1088 - accuracy: 0.9348\n",
            "5/5 [==============================] - 0s 2ms/step - loss: 0.1106 - accuracy: 0.9275\n",
            "5/5 [==============================] - 0s 3ms/step - loss: 0.1115 - accuracy: 0.9270\n",
            "5/5 [==============================] - 0s 2ms/step - loss: 0.0951 - accuracy: 0.9416\n",
            "5/5 [==============================] - 0s 2ms/step - loss: 0.1011 - accuracy: 0.9343\n",
            "5/5 [==============================] - 0s 3ms/step - loss: 0.1046 - accuracy: 0.9348\n",
            "5/5 [==============================] - 0s 3ms/step - loss: 0.1046 - accuracy: 0.9348\n",
            "5/5 [==============================] - 0s 2ms/step - loss: 0.1044 - accuracy: 0.9348\n",
            "5/5 [==============================] - 0s 2ms/step - loss: 0.0943 - accuracy: 0.9420\n",
            "5/5 [==============================] - 0s 2ms/step - loss: 0.1004 - accuracy: 0.9348\n",
            "5/5 [==============================] - 0s 3ms/step - loss: 0.1088 - accuracy: 0.9348\n",
            "5/5 [==============================] - 0s 2ms/step - loss: 0.1106 - accuracy: 0.9275\n",
            "5/5 [==============================] - 0s 3ms/step - loss: 0.1114 - accuracy: 0.9270\n",
            "5/5 [==============================] - 0s 3ms/step - loss: 0.0953 - accuracy: 0.9416\n",
            "5/5 [==============================] - 0s 4ms/step - loss: 0.1012 - accuracy: 0.9343\n",
            "5/5 [==============================] - 0s 2ms/step - loss: 0.1048 - accuracy: 0.9348\n",
            "5/5 [==============================] - 0s 4ms/step - loss: 0.1048 - accuracy: 0.9348\n",
            "5/5 [==============================] - 0s 3ms/step - loss: 0.1045 - accuracy: 0.9348\n",
            "5/5 [==============================] - 0s 2ms/step - loss: 0.0944 - accuracy: 0.9420\n",
            "5/5 [==============================] - 0s 2ms/step - loss: 0.1004 - accuracy: 0.9348\n",
            "5/5 [==============================] - 0s 3ms/step - loss: 0.1089 - accuracy: 0.9348\n",
            "5/5 [==============================] - 0s 3ms/step - loss: 0.1107 - accuracy: 0.9275\n",
            "5/5 [==============================] - 0s 3ms/step - loss: 0.1115 - accuracy: 0.9270\n",
            "5/5 [==============================] - 0s 4ms/step - loss: 0.0953 - accuracy: 0.9416\n",
            "5/5 [==============================] - 0s 2ms/step - loss: 0.1013 - accuracy: 0.9343\n",
            "5/5 [==============================] - 0s 3ms/step - loss: 0.1047 - accuracy: 0.9348\n",
            "5/5 [==============================] - 0s 3ms/step - loss: 0.1047 - accuracy: 0.9348\n",
            "5/5 [==============================] - 0s 3ms/step - loss: 0.1045 - accuracy: 0.9348\n",
            "5/5 [==============================] - 0s 3ms/step - loss: 0.0943 - accuracy: 0.9420\n",
            "5/5 [==============================] - 0s 2ms/step - loss: 0.1003 - accuracy: 0.9348\n",
            "5/5 [==============================] - 0s 3ms/step - loss: 0.1091 - accuracy: 0.9348\n",
            "5/5 [==============================] - 0s 4ms/step - loss: 0.1106 - accuracy: 0.9275\n",
            "5/5 [==============================] - 0s 3ms/step - loss: 0.1115 - accuracy: 0.9270\n",
            "5/5 [==============================] - 0s 2ms/step - loss: 0.0952 - accuracy: 0.9416\n",
            "5/5 [==============================] - 0s 3ms/step - loss: 0.1012 - accuracy: 0.9343\n",
            "5/5 [==============================] - 0s 2ms/step - loss: 0.1047 - accuracy: 0.9348\n",
            "5/5 [==============================] - 0s 2ms/step - loss: 0.1047 - accuracy: 0.9348\n",
            "5/5 [==============================] - 0s 4ms/step - loss: 0.1044 - accuracy: 0.9348\n",
            "5/5 [==============================] - 0s 2ms/step - loss: 0.0943 - accuracy: 0.9420\n",
            "5/5 [==============================] - 0s 7ms/step - loss: 0.1004 - accuracy: 0.9348\n",
            "5/5 [==============================] - 0s 2ms/step - loss: 0.1087 - accuracy: 0.9348\n",
            "5/5 [==============================] - 0s 3ms/step - loss: 0.1106 - accuracy: 0.9275\n",
            "5/5 [==============================] - 0s 4ms/step - loss: 0.1114 - accuracy: 0.9270\n",
            "5/5 [==============================] - 0s 3ms/step - loss: 0.0951 - accuracy: 0.9416\n",
            "5/5 [==============================] - 0s 3ms/step - loss: 0.1012 - accuracy: 0.9343\n",
            "5/5 [==============================] - 0s 4ms/step - loss: 0.1046 - accuracy: 0.9348\n",
            "5/5 [==============================] - 0s 2ms/step - loss: 0.1046 - accuracy: 0.9348\n",
            "5/5 [==============================] - 0s 4ms/step - loss: 0.1044 - accuracy: 0.9348\n",
            "5/5 [==============================] - 0s 2ms/step - loss: 0.0943 - accuracy: 0.9420\n",
            "5/5 [==============================] - 0s 3ms/step - loss: 0.1005 - accuracy: 0.9348\n",
            "5/5 [==============================] - 0s 3ms/step - loss: 0.1087 - accuracy: 0.9348\n",
            "5/5 [==============================] - 0s 3ms/step - loss: 0.1106 - accuracy: 0.9275\n",
            "5/5 [==============================] - 0s 3ms/step - loss: 0.1114 - accuracy: 0.9270\n",
            "5/5 [==============================] - 0s 3ms/step - loss: 0.0951 - accuracy: 0.9416\n",
            "5/5 [==============================] - 0s 3ms/step - loss: 0.1011 - accuracy: 0.9343\n",
            "5/5 [==============================] - 0s 3ms/step - loss: 0.1046 - accuracy: 0.9348\n",
            "5/5 [==============================] - 0s 4ms/step - loss: 0.1047 - accuracy: 0.9348\n",
            "5/5 [==============================] - 0s 4ms/step - loss: 0.1046 - accuracy: 0.9348\n",
            "5/5 [==============================] - 0s 3ms/step - loss: 0.0946 - accuracy: 0.9420\n",
            "5/5 [==============================] - 0s 2ms/step - loss: 0.1007 - accuracy: 0.9348\n",
            "5/5 [==============================] - 0s 3ms/step - loss: 0.1090 - accuracy: 0.9348\n",
            "5/5 [==============================] - 0s 3ms/step - loss: 0.1114 - accuracy: 0.9275\n",
            "5/5 [==============================] - 0s 2ms/step - loss: 0.1126 - accuracy: 0.9270\n",
            "5/5 [==============================] - 0s 3ms/step - loss: 0.0956 - accuracy: 0.9416\n",
            "5/5 [==============================] - 0s 3ms/step - loss: 0.1094 - accuracy: 0.9270\n",
            "5/5 [==============================] - 0s 3ms/step - loss: 0.1548 - accuracy: 0.9275\n",
            "5/5 [==============================] - 0s 3ms/step - loss: 0.1126 - accuracy: 0.9348\n",
            "5/5 [==============================] - 0s 4ms/step - loss: 0.1176 - accuracy: 0.9275\n",
            "5/5 [==============================] - 0s 2ms/step - loss: 0.1533 - accuracy: 0.9348\n",
            "5/5 [==============================] - 0s 4ms/step - loss: 0.1085 - accuracy: 0.9275\n",
            "5/5 [==============================] - 0s 3ms/step - loss: 0.1367 - accuracy: 0.9275\n",
            "5/5 [==============================] - 0s 3ms/step - loss: 0.1116 - accuracy: 0.9275\n",
            "5/5 [==============================] - 0s 2ms/step - loss: 0.1143 - accuracy: 0.9270\n",
            "5/5 [==============================] - 0s 2ms/step - loss: 0.0975 - accuracy: 0.9416\n",
            "5/5 [==============================] - 0s 2ms/step - loss: 0.1015 - accuracy: 0.9343\n",
            "5/5 [==============================] - 0s 4ms/step - loss: 0.1051 - accuracy: 0.9348\n",
            "5/5 [==============================] - 0s 2ms/step - loss: 0.1051 - accuracy: 0.9348\n",
            "5/5 [==============================] - 0s 2ms/step - loss: 0.1048 - accuracy: 0.9348\n",
            "5/5 [==============================] - 0s 3ms/step - loss: 0.0946 - accuracy: 0.9420\n",
            "5/5 [==============================] - 0s 2ms/step - loss: 0.1007 - accuracy: 0.9348\n",
            "5/5 [==============================] - 0s 3ms/step - loss: 0.1091 - accuracy: 0.9348\n",
            "5/5 [==============================] - 0s 2ms/step - loss: 0.1109 - accuracy: 0.9275\n",
            "5/5 [==============================] - 0s 2ms/step - loss: 0.1117 - accuracy: 0.9270\n",
            "5/5 [==============================] - 0s 3ms/step - loss: 0.0955 - accuracy: 0.9416\n",
            "5/5 [==============================] - 0s 4ms/step - loss: 0.1013 - accuracy: 0.9343\n",
            "5/5 [==============================] - 0s 3ms/step - loss: 0.1049 - accuracy: 0.9348\n",
            "5/5 [==============================] - 0s 3ms/step - loss: 0.1049 - accuracy: 0.9348\n",
            "5/5 [==============================] - 0s 3ms/step - loss: 0.1047 - accuracy: 0.9348\n",
            "5/5 [==============================] - 0s 3ms/step - loss: 0.0945 - accuracy: 0.9420\n",
            "5/5 [==============================] - 0s 4ms/step - loss: 0.1006 - accuracy: 0.9348\n",
            "5/5 [==============================] - 0s 3ms/step - loss: 0.1090 - accuracy: 0.9348\n",
            "5/5 [==============================] - 0s 2ms/step - loss: 0.1108 - accuracy: 0.9275\n",
            "5/5 [==============================] - 0s 2ms/step - loss: 0.1117 - accuracy: 0.9270\n",
            "5/5 [==============================] - 0s 3ms/step - loss: 0.0955 - accuracy: 0.9416\n",
            "5/5 [==============================] - 0s 5ms/step - loss: 0.1015 - accuracy: 0.9343\n",
            "5/5 [==============================] - 0s 3ms/step - loss: 0.1050 - accuracy: 0.9348\n",
            "5/5 [==============================] - 0s 2ms/step - loss: 0.1050 - accuracy: 0.9348\n",
            "5/5 [==============================] - 0s 2ms/step - loss: 0.1047 - accuracy: 0.9348\n",
            "5/5 [==============================] - 0s 2ms/step - loss: 0.0946 - accuracy: 0.9420\n",
            "5/5 [==============================] - 0s 3ms/step - loss: 0.1006 - accuracy: 0.9348\n",
            "5/5 [==============================] - 0s 3ms/step - loss: 0.1089 - accuracy: 0.9348\n",
            "5/5 [==============================] - 0s 4ms/step - loss: 0.1108 - accuracy: 0.9275\n",
            "5/5 [==============================] - 0s 4ms/step - loss: 0.1116 - accuracy: 0.9270\n",
            "5/5 [==============================] - 0s 3ms/step - loss: 0.0954 - accuracy: 0.9416\n",
            "5/5 [==============================] - 0s 2ms/step - loss: 0.1013 - accuracy: 0.9343\n",
            "5/5 [==============================] - 0s 3ms/step - loss: 0.1048 - accuracy: 0.9348\n",
            "5/5 [==============================] - 0s 3ms/step - loss: 0.1048 - accuracy: 0.9348\n",
            "5/5 [==============================] - 0s 3ms/step - loss: 0.1046 - accuracy: 0.9348\n",
            "5/5 [==============================] - 0s 3ms/step - loss: 0.0945 - accuracy: 0.9420\n",
            "5/5 [==============================] - 0s 3ms/step - loss: 0.1005 - accuracy: 0.9348\n",
            "5/5 [==============================] - 0s 3ms/step - loss: 0.1089 - accuracy: 0.9348\n",
            "5/5 [==============================] - 0s 3ms/step - loss: 0.1107 - accuracy: 0.9275\n",
            "5/5 [==============================] - 0s 2ms/step - loss: 0.1037 - accuracy: 0.9346\n"
          ],
          "name": "stdout"
        }
      ]
    },
    {
      "cell_type": "code",
      "metadata": {
        "colab": {
          "base_uri": "https://localhost:8080/"
        },
        "id": "GX2C93Lcz7le",
        "outputId": "59669110-aa5d-4034-80ed-d88a34abe9fd"
      },
      "source": [
        "best_parameters"
      ],
      "execution_count": 285,
      "outputs": [
        {
          "output_type": "execute_result",
          "data": {
            "text/plain": [
              "{'n1': 100, 'n2': 100, 'nl1': 0.01, 'nl2': 0.01, 'r': 0.001}"
            ]
          },
          "metadata": {
            "tags": []
          },
          "execution_count": 285
        }
      ]
    },
    {
      "cell_type": "code",
      "metadata": {
        "colab": {
          "base_uri": "https://localhost:8080/",
          "height": 590
        },
        "id": "wrK56w660yP7",
        "outputId": "dfd57bd4-5d00-4807-df34-d34c257f4e56"
      },
      "source": [
        "model = Sequential()\n",
        "model.add(Dense(100, input_dim=12,kernel_regularizer=l2(0.01), bias_regularizer=l2(0.01), activation='relu'))\n",
        "model.add(Dropout(rate=0.001))\n",
        "model.add(Dense(100, activation='relu',kernel_regularizer=l2(0.01), bias_regularizer=l2(0.01)))\n",
        "model.add(Dropout(rate=0.001))\n",
        "model.add(Dense(1, activation='sigmoid'))\n",
        "# Compile model\n",
        "model.compile(loss='binary_crossentropy', optimizer='adam', metrics=['accuracy'])\n",
        "# Fit the model\n",
        "history = model.fit(X_train_under, y_train_under, epochs=25, batch_size=12, verbose=0)\n",
        "# list all data in history\n",
        "print(history.history.keys())\n",
        "# summarize history for accuracy\n",
        "plt.plot(history.history['accuracy'])\n",
        "plt.title('model accuracy')\n",
        "plt.ylabel('accuracy')\n",
        "plt.xlabel('epoch')\n",
        "plt.legend(['train', 'test'], loc='upper left')\n",
        "plt.show()\n",
        "# summarize history for loss\n",
        "plt.plot(history.history['loss'])\n",
        "plt.title('model loss')\n",
        "plt.ylabel('loss')\n",
        "plt.xlabel('epoch')\n",
        "plt.legend(['train', 'test'], loc='upper left')\n",
        "plt.show()"
      ],
      "execution_count": 288,
      "outputs": [
        {
          "output_type": "stream",
          "text": [
            "dict_keys(['loss', 'accuracy'])\n"
          ],
          "name": "stdout"
        },
        {
          "output_type": "display_data",
          "data": {
            "image/png": "[encoded data removed]",
            "text/plain": [
              "<Figure size 432x288 with 1 Axes>"
            ]
          },
          "metadata": {
            "tags": [],
            "needs_background": "light"
          }
        },
        {
          "output_type": "display_data",
          "data": {
            "image/png": "[encoded data removed]",
            "text/plain": [
              "<Figure size 432x288 with 1 Axes>"
            ]
          },
          "metadata": {
            "tags": [],
            "needs_background": "light"
          }
        }
      ]
    },
    {
      "cell_type": "code",
      "metadata": {
        "colab": {
          "base_uri": "https://localhost:8080/"
        },
        "id": "_zeknPbv1snh",
        "outputId": "2ffeff54-f0fe-483c-b8d3-e114af8f5429"
      },
      "source": [
        "y_pred_rna2_under=model.predict(X_test_under)\n",
        "y_pred_rna2_under = (y_pred_rna2_under>0.5)\n",
        "\n",
        "print('---' * 45)\n",
        "print('Accuracy score RNA 3 undersampling: {:.2f}'.format(accuracy_score(y_test_under,y_pred_rna2_under)))"
      ],
      "execution_count": 289,
      "outputs": [
        {
          "output_type": "stream",
          "text": [
            "---------------------------------------------------------------------------------------------------------------------------------------\n",
            "Accuracy score RNA 3 undersampling: 0.87\n"
          ],
          "name": "stdout"
        }
      ]
    },
    {
      "cell_type": "markdown",
      "metadata": {
        "id": "3pZB52Hz3BX4"
      },
      "source": [
        "En conclusión mediante Undersampling no pudimos llegar mas de un 87% de precisión"
      ]
    },
    {
      "cell_type": "markdown",
      "metadata": {
        "id": "6ycGEzV23ImV"
      },
      "source": [
        "# Oversampling"
      ]
    },
    {
      "cell_type": "code",
      "metadata": {
        "id": "axEZ4aNt4QZz"
      },
      "source": [
        "X_train_over, X_test_over, y_train_over, y_test_over = train_test_split(X_over, y_over, test_size=0.2, random_state=42)"
      ],
      "execution_count": 291,
      "outputs": []
    },
    {
      "cell_type": "markdown",
      "metadata": {
        "id": "MRy9h7n837jr"
      },
      "source": [
        "# Regresión Logistica"
      ]
    },
    {
      "cell_type": "code",
      "metadata": {
        "id": "CyIL9dsB1zTz"
      },
      "source": [
        "grid_log_reg_over = GridSearchCV(LogisticRegression(penalty=\"l2\"), log_reg_params)\n",
        "grid_log_reg_over.fit(X_train_over, y_train_over)\n",
        "# We automatically get the logistic regression with the best parameters.\n",
        "log_reg_over = grid_log_reg_over.best_estimator_"
      ],
      "execution_count": 292,
      "outputs": []
    },
    {
      "cell_type": "code",
      "metadata": {
        "colab": {
          "base_uri": "https://localhost:8080/"
        },
        "id": "fmtEWMTu4IvJ",
        "outputId": "791e668d-1df2-41ed-a952-5617e3861424"
      },
      "source": [
        "y_pred_lg_over = log_reg_over.predict(X_test_over)\n",
        "\n",
        "\n",
        "print('---' * 45)\n",
        "print('Accuracy score Logistic regresion Oversampling: {:.2f}'.format(accuracy_score(y_test_over, y_pred_lg_over)))\n",
        "\n",
        "cm = confusion_matrix(y_test_over,y_pred_lg_over)\n",
        "print(\"Matriz de confusión:\\n\",cm)"
      ],
      "execution_count": 295,
      "outputs": [
        {
          "output_type": "stream",
          "text": [
            "---------------------------------------------------------------------------------------------------------------------------------------\n",
            "Accuracy score Logistic regresion Oversampling: 0.87\n",
            "Matriz de confusión:\n",
            " [[35  6]\n",
            " [ 5 36]]\n"
          ],
          "name": "stdout"
        }
      ]
    },
    {
      "cell_type": "markdown",
      "metadata": {
        "id": "REcsQIUU41QF"
      },
      "source": [
        "#KNN"
      ]
    },
    {
      "cell_type": "code",
      "metadata": {
        "colab": {
          "base_uri": "https://localhost:8080/"
        },
        "id": "ZtEpZnjn4kgG",
        "outputId": "6f7fcf8e-9c0d-4e5e-8b19-4c7508c2e1be"
      },
      "source": [
        "grid_knears_over = GridSearchCV(KNeighborsClassifier(), knears_params)\n",
        "grid_knears_over.fit(X_train_over, y_train_over)\n",
        "# KNears best estimator\n",
        "knears_neighbors_over= grid_knears_over.best_estimator_\n",
        "\n",
        "y_pred_knn_over = knears_neighbors_over.predict(X_test_over)\n",
        "\n",
        "\n",
        "print('---' * 45)\n",
        "print('Accuracy score KNN oversampling: {:.2f}'.format(accuracy_score(y_test_over, y_pred_knn_over)))\n",
        "\n",
        "cm = confusion_matrix(y_test_over,y_pred_knn_over)\n",
        "print(\"Matriz de confusión:\\n\",cm)"
      ],
      "execution_count": 296,
      "outputs": [
        {
          "output_type": "stream",
          "text": [
            "---------------------------------------------------------------------------------------------------------------------------------------\n",
            "Accuracy score KNN oversampling: 0.89\n",
            "Matriz de confusión:\n",
            " [[36  5]\n",
            " [ 4 37]]\n"
          ],
          "name": "stdout"
        }
      ]
    },
    {
      "cell_type": "markdown",
      "metadata": {
        "id": "AWA8Z0kR5Lca"
      },
      "source": [
        "# SVC"
      ]
    },
    {
      "cell_type": "code",
      "metadata": {
        "colab": {
          "base_uri": "https://localhost:8080/"
        },
        "id": "hzgQjl6G5DCe",
        "outputId": "edaf3934-a3dd-4ffe-85a5-4b8d497b4fd0"
      },
      "source": [
        "grid_svc_over = GridSearchCV(SVC(), svc_params)\n",
        "grid_svc_over.fit(X_train_over, y_train_over)\n",
        "\n",
        "# SVC best estimator\n",
        "svc_over = grid_svc_over.best_estimator_\n",
        "\n",
        "y_pred_svc_over = svc_over.predict(X_test_over)\n",
        "\n",
        "\n",
        "print('---' * 45)\n",
        "print('Accuracy score SVC Oversampling: {:.2f}'.format(accuracy_score(y_test_over, y_pred_svc_over)))\n",
        "\n",
        "cm = confusion_matrix(y_test_over,y_pred_svc_over)\n",
        "print(\"Matriz de confusión:\\n\",cm)"
      ],
      "execution_count": 297,
      "outputs": [
        {
          "output_type": "stream",
          "text": [
            "---------------------------------------------------------------------------------------------------------------------------------------\n",
            "Accuracy score SVC Oversampling: 0.87\n",
            "Matriz de confusión:\n",
            " [[34  7]\n",
            " [ 4 37]]\n"
          ],
          "name": "stdout"
        }
      ]
    },
    {
      "cell_type": "markdown",
      "metadata": {
        "id": "utJH4kQ45hz8"
      },
      "source": [
        "# DecisionTree Classifier"
      ]
    },
    {
      "cell_type": "code",
      "metadata": {
        "colab": {
          "base_uri": "https://localhost:8080/"
        },
        "id": "mvsClchH5a_J",
        "outputId": "c30cade0-a2a6-498f-b4ad-4a2c13057022"
      },
      "source": [
        "grid_tree_over = GridSearchCV(DecisionTreeClassifier(), tree_params)\n",
        "grid_tree_over.fit(X_train_over, y_train_over)\n",
        "\n",
        "# tree best estimator\n",
        "tree_clf_over = grid_tree_over.best_estimator_\n",
        "\n",
        "y_pred_tree_over = tree_clf_over.predict(X_test_over)\n",
        "\n",
        "\n",
        "print('---' * 45)\n",
        "print('Accuracy score DecisionTree Oversampling: {:.2f}'.format(accuracy_score(y_test_over, y_pred_tree_over)))\n",
        "\n",
        "cm = confusion_matrix(y_test_over,y_pred_tree_over)\n",
        "print(\"Matriz de confusión:\\n\",cm)"
      ],
      "execution_count": 299,
      "outputs": [
        {
          "output_type": "stream",
          "text": [
            "---------------------------------------------------------------------------------------------------------------------------------------\n",
            "Accuracy score DecisionTree Oversampling: 0.82\n",
            "Matriz de confusión:\n",
            " [[33  8]\n",
            " [ 7 34]]\n"
          ],
          "name": "stdout"
        }
      ]
    },
    {
      "cell_type": "markdown",
      "metadata": {
        "id": "QFk5ZoOO56oV"
      },
      "source": [
        "# MLPClassifier"
      ]
    },
    {
      "cell_type": "code",
      "metadata": {
        "colab": {
          "base_uri": "https://localhost:8080/"
        },
        "id": "YpA6OPZs5xLW",
        "outputId": "4af5eb3a-ba63-47e9-d493-af2ce45eaf57"
      },
      "source": [
        "mlpc = MLPClassifier(random_state=1, max_iter=1200).fit(X_train_over, y_train_over)\n",
        "y_pred_mlpc_over=mlpc.predict(X_test_over)\n",
        "\n",
        "print('---' * 45)\n",
        "print('Accuracy score MLPCClassifier Oversampling: {:.2f}'.format(accuracy_score(y_test_over,y_pred_mlpc_over)))\n",
        "\n",
        "cm = confusion_matrix(y_test_over,y_pred_mlpc_over)\n",
        "print(\"Matriz de confusión:\\n\",cm)"
      ],
      "execution_count": 301,
      "outputs": [
        {
          "output_type": "stream",
          "text": [
            "---------------------------------------------------------------------------------------------------------------------------------------\n",
            "Accuracy score MLPCClassifier Oversampling: 0.87\n",
            "Matriz de confusión:\n",
            " [[33  8]\n",
            " [ 3 38]]\n"
          ],
          "name": "stdout"
        }
      ]
    },
    {
      "cell_type": "markdown",
      "metadata": {
        "id": "RFz1ejsD6YDs"
      },
      "source": [
        "# RNA"
      ]
    },
    {
      "cell_type": "code",
      "metadata": {
        "colab": {
          "base_uri": "https://localhost:8080/",
          "height": 590
        },
        "id": "LMod_y-96Hx2",
        "outputId": "1b92a0a5-50c3-447d-9dbd-65748a8b313e"
      },
      "source": [
        "model = Sequential()\n",
        "model.add(Dense(75, input_dim=12,kernel_regularizer=l2(0.01), bias_regularizer=l2(0.01), activation='relu'))\n",
        "model.add(Dropout(rate=0.001))\n",
        "model.add(Dense(70, activation='relu',kernel_regularizer=l2(0.01), bias_regularizer=l2(0.01)))\n",
        "model.add(Dropout(rate=0.001))\n",
        "model.add(Dense(1, activation='sigmoid'))\n",
        "# Compile model\n",
        "model.compile(loss='binary_crossentropy', optimizer='adam', metrics=['accuracy'])\n",
        "# Fit the model\n",
        "history = model.fit(X_train_over, y_train_over, epochs=25, batch_size=12, verbose=0)\n",
        "# list all data in history\n",
        "print(history.history.keys())\n",
        "# summarize history for accuracy\n",
        "plt.plot(history.history['accuracy'])\n",
        "plt.title('model accuracy')\n",
        "plt.ylabel('accuracy')\n",
        "plt.xlabel('epoch')\n",
        "plt.legend(['train', 'test'], loc='upper left')\n",
        "plt.show()\n",
        "# summarize history for loss\n",
        "plt.plot(history.history['loss'])\n",
        "plt.title('model loss')\n",
        "plt.ylabel('loss')\n",
        "plt.xlabel('epoch')\n",
        "plt.legend(['train', 'test'], loc='upper left')\n",
        "plt.show()"
      ],
      "execution_count": 321,
      "outputs": [
        {
          "output_type": "stream",
          "text": [
            "dict_keys(['loss', 'accuracy'])\n"
          ],
          "name": "stdout"
        },
        {
          "output_type": "display_data",
          "data": {
            "image/png": "[encoded data removed]",
            "text/plain": [
              "<Figure size 432x288 with 1 Axes>"
            ]
          },
          "metadata": {
            "tags": [],
            "needs_background": "light"
          }
        },
        {
          "output_type": "display_data",
          "data": {
            "image/png": "[encoded data removed]",
            "text/plain": [
              "<Figure size 432x288 with 1 Axes>"
            ]
          },
          "metadata": {
            "tags": [],
            "needs_background": "light"
          }
        }
      ]
    },
    {
      "cell_type": "code",
      "metadata": {
        "colab": {
          "base_uri": "https://localhost:8080/"
        },
        "id": "kSb9B9366hWC",
        "outputId": "7c4993fa-2660-4880-b6a1-797da58571f5"
      },
      "source": [
        "y_pred_rna2_over=model.predict(X_test_over)\n",
        "y_pred_rna2_over = (y_pred_rna2_over>0.5)\n",
        "\n",
        "print('---' * 45)\n",
        "print('Accuracy score RNA 2 Oversampling: {:.2f}'.format(accuracy_score(y_test_over,y_pred_rna2_over)))"
      ],
      "execution_count": 322,
      "outputs": [
        {
          "output_type": "stream",
          "text": [
            "---------------------------------------------------------------------------------------------------------------------------------------\n",
            "Accuracy score RNA 2 Oversampling: 0.88\n"
          ],
          "name": "stdout"
        }
      ]
    },
    {
      "cell_type": "markdown",
      "metadata": {
        "id": "UEYe40_48Dc7"
      },
      "source": [
        "# Resumen modelos ajustados con Oversampling\n",
        "\n",
        "\n",
        "| Modelo |  Accuracy |\n",
        "| --- | --- |\n",
        "| LogisticRegression | 0.87 |\n",
        "| KNeighborsClassifier | 0.89 |\n",
        "| DecisionTree | 0.87 |\n",
        "| SVC | 0.85|\n",
        "|RNA (Keras) |0.88 |\n",
        "|MLPClassifier| 0.87 |"
      ]
    },
    {
      "cell_type": "markdown",
      "metadata": {
        "id": "q3Eb6yct8KCB"
      },
      "source": [
        "# Conclusión\n",
        "\n",
        "Podemos notar que se obtuvieron buenos resultados con el oversampling, a pesar de haber entrenado los modelos solo con 153 datos y 324 datos respectivamente. Sin embargo no fue posible llegar a un 90% de precisión.\n",
        "Pero con un 87-89% de precición puede ser util para realizar un seguimiento de pacientes prosiblemente criticos."
      ]
    }
  ]
}